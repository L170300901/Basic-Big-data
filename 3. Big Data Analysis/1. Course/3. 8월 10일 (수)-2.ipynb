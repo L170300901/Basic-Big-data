{
 "cells": [
  {
   "cell_type": "code",
   "execution_count": null,
   "metadata": {},
   "outputs": [],
   "source": []
  },
  {
   "cell_type": "code",
   "execution_count": null,
   "metadata": {},
   "outputs": [],
   "source": [
    "# 주성분 분석 통계량 저장: 주성분 번호, Eigenvalue, Eigenvalue ratio \n",
    "df_pca_stat = pd.DataFrame()\n",
    "df_pca_stat[\"PrinNo\"] = [i for i in range(1,7)]\n",
    "df_pca_stat[\"EigenValues\"] = pca.explained_variance_ \n",
    "df_pca_stat[\"EigenValueRatio\"] = pca.explained_variance_ratio_ \n",
    "df_pca_stat[\"CumEigenValueRatio\"] = np.cumsum(pca.explained_variance_ratio_)\n",
    "df_pca_stat.round(2)\n"
   ]
  },
  {
   "cell_type": "code",
   "execution_count": null,
   "metadata": {},
   "outputs": [],
   "source": [
    "# 고유값 비율 그래프 생성\n",
    "plt.plot(df_pca_stat[\"PrinNo\"],df_pca_stat[\"EigenValueRatio\"],label=\"고유값 비율\")\n",
    "\n",
    "# 누적 고유값의 비율 그래프 생성\n",
    "plt.plot(df_pca_stat[\"PrinNo\"],df_pca_stat[\"CumEigenValueRatio\"],label=\"누적 고유값\")\n",
    "\n",
    "plt.ylabel(\"고유값 비율\")\n",
    "plt.xlabel(\"주성분 번호\")\n",
    "plt.legend(loc=\"best\")\n"
   ]
  },
  {
   "cell_type": "code",
   "execution_count": null,
   "metadata": {},
   "outputs": [],
   "source": [
    "# 주성분 분석 데이터의 변수 이름 저장 \n",
    "x_cols = pd.DataFrame({\"Feature\" : df_raw_x.columns})\n"
   ]
  },
  {
   "cell_type": "code",
   "execution_count": null,
   "metadata": {},
   "outputs": [],
   "source": [
    "# Scale 변환 데이터에 절편(const) 컬럼 추가\n",
    "df_scaled_const = sm.add_constant(df_scaled)\n",
    "\n",
    "# 회귀모델 생성/적합\n",
    "reg_model = sm.OLS(df_raw_y, df_scaled_const)\n",
    "reg_model = reg_model.fit()\n",
    "print(reg_model.summary())\n"
   ]
  }
 ],
 "metadata": {
  "kernelspec": {
   "display_name": "Python 3.10.6 64-bit",
   "language": "python",
   "name": "python3"
  },
  "language_info": {
   "name": "python",
   "version": "3.10.6"
  },
  "orig_nbformat": 4,
  "vscode": {
   "interpreter": {
    "hash": "d3e10ef16274dd72e574b8fa73b58450b957d8421a2901baded3cca26fcf5dda"
   }
  }
 },
 "nbformat": 4,
 "nbformat_minor": 2
}
