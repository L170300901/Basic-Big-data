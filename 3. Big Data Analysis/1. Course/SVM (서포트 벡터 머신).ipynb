{
 "cells": [
  {
   "cell_type": "markdown",
   "id": "eb5b3396",
   "metadata": {},
   "source": [
    "# SVM"
   ]
  },
  {
   "cell_type": "code",
   "execution_count": 1,
   "id": "71225747",
   "metadata": {},
   "outputs": [],
   "source": [
    "# 데이터 구성 : Series, DataFrame\n",
    "import pandas as pd\n",
    "import numpy as np\n",
    "# 데이터 시각화, 한글폰트\n",
    "import matplotlib.pyplot as plt\n",
    "import matplotlib\n",
    "matplotlib.rc('font', family = 'Malgun Gothic')\n",
    "\n",
    "# scaling\n",
    "from sklearn.preprocessing import StandardScaler\n",
    "# data split\n",
    "from sklearn.model_selection import train_test_split\n",
    "# SVM\n",
    "from sklearn.svm import SVC\n",
    "# 최적 모델, 파라미터 탐색\n",
    "from sklearn.model_selection import GridSearchCV\n",
    "\n",
    "# 분류모델 평가 함수\n",
    "from sklearn.metrics import accuracy_score, f1_score\n",
    "from sklearn.metrics import confusion_matrix, classification_report"
   ]
  },
  {
   "cell_type": "markdown",
   "id": "9e281c83",
   "metadata": {},
   "source": []
  },
  {
   "cell_type": "markdown",
   "id": "ebf25bb3",
   "metadata": {},
   "source": [
    "#### 데이터 구성하기"
   ]
  },
  {
   "cell_type": "code",
   "execution_count": 2,
   "id": "7aada293",
   "metadata": {},
   "outputs": [
    {
     "data": {
      "text/html": [
       "<div>\n",
       "<style scoped>\n",
       "    .dataframe tbody tr th:only-of-type {\n",
       "        vertical-align: middle;\n",
       "    }\n",
       "\n",
       "    .dataframe tbody tr th {\n",
       "        vertical-align: top;\n",
       "    }\n",
       "\n",
       "    .dataframe thead th {\n",
       "        text-align: right;\n",
       "    }\n",
       "</style>\n",
       "<table border=\"1\" class=\"dataframe\">\n",
       "  <thead>\n",
       "    <tr style=\"text-align: right;\">\n",
       "      <th></th>\n",
       "      <th>BAD</th>\n",
       "      <th>LOAN</th>\n",
       "      <th>MORTDUE</th>\n",
       "      <th>VALUE</th>\n",
       "      <th>REASON</th>\n",
       "      <th>JOB</th>\n",
       "      <th>YOJ</th>\n",
       "      <th>DEROG</th>\n",
       "      <th>DELINQ</th>\n",
       "      <th>CLAGE</th>\n",
       "      <th>NINQ</th>\n",
       "      <th>CLNO</th>\n",
       "      <th>DEBTINC</th>\n",
       "    </tr>\n",
       "  </thead>\n",
       "  <tbody>\n",
       "    <tr>\n",
       "      <th>0</th>\n",
       "      <td>1</td>\n",
       "      <td>1700</td>\n",
       "      <td>30548</td>\n",
       "      <td>40320.0</td>\n",
       "      <td>HomeImp</td>\n",
       "      <td>Other</td>\n",
       "      <td>9.0</td>\n",
       "      <td>0</td>\n",
       "      <td>0.0</td>\n",
       "      <td>101.466002</td>\n",
       "      <td>1.0</td>\n",
       "      <td>8</td>\n",
       "      <td>37.113614</td>\n",
       "    </tr>\n",
       "    <tr>\n",
       "      <th>1</th>\n",
       "      <td>1</td>\n",
       "      <td>1800</td>\n",
       "      <td>28502</td>\n",
       "      <td>43034.0</td>\n",
       "      <td>HomeImp</td>\n",
       "      <td>Other</td>\n",
       "      <td>11.0</td>\n",
       "      <td>0</td>\n",
       "      <td>0.0</td>\n",
       "      <td>88.766030</td>\n",
       "      <td>0.0</td>\n",
       "      <td>8</td>\n",
       "      <td>36.884894</td>\n",
       "    </tr>\n",
       "    <tr>\n",
       "      <th>2</th>\n",
       "      <td>0</td>\n",
       "      <td>2300</td>\n",
       "      <td>102370</td>\n",
       "      <td>120953.0</td>\n",
       "      <td>HomeImp</td>\n",
       "      <td>Office</td>\n",
       "      <td>2.0</td>\n",
       "      <td>0</td>\n",
       "      <td>0.0</td>\n",
       "      <td>90.992533</td>\n",
       "      <td>0.0</td>\n",
       "      <td>13</td>\n",
       "      <td>31.588503</td>\n",
       "    </tr>\n",
       "    <tr>\n",
       "      <th>3</th>\n",
       "      <td>1</td>\n",
       "      <td>2400</td>\n",
       "      <td>34863</td>\n",
       "      <td>47471.0</td>\n",
       "      <td>HomeImp</td>\n",
       "      <td>Mgr</td>\n",
       "      <td>12.0</td>\n",
       "      <td>0</td>\n",
       "      <td>0.0</td>\n",
       "      <td>70.491080</td>\n",
       "      <td>1.0</td>\n",
       "      <td>21</td>\n",
       "      <td>38.263601</td>\n",
       "    </tr>\n",
       "    <tr>\n",
       "      <th>4</th>\n",
       "      <td>0</td>\n",
       "      <td>2400</td>\n",
       "      <td>98449</td>\n",
       "      <td>117195.0</td>\n",
       "      <td>HomeImp</td>\n",
       "      <td>Office</td>\n",
       "      <td>4.0</td>\n",
       "      <td>0</td>\n",
       "      <td>0.0</td>\n",
       "      <td>93.811775</td>\n",
       "      <td>0.0</td>\n",
       "      <td>13</td>\n",
       "      <td>29.681827</td>\n",
       "    </tr>\n",
       "  </tbody>\n",
       "</table>\n",
       "</div>"
      ],
      "text/plain": [
       "   BAD  LOAN  MORTDUE     VALUE   REASON     JOB   YOJ  DEROG  DELINQ  \\\n",
       "0    1  1700    30548   40320.0  HomeImp   Other   9.0      0     0.0   \n",
       "1    1  1800    28502   43034.0  HomeImp   Other  11.0      0     0.0   \n",
       "2    0  2300   102370  120953.0  HomeImp  Office   2.0      0     0.0   \n",
       "3    1  2400    34863   47471.0  HomeImp     Mgr  12.0      0     0.0   \n",
       "4    0  2400    98449  117195.0  HomeImp  Office   4.0      0     0.0   \n",
       "\n",
       "        CLAGE  NINQ  CLNO    DEBTINC  \n",
       "0  101.466002   1.0     8  37.113614  \n",
       "1   88.766030   0.0     8  36.884894  \n",
       "2   90.992533   0.0    13  31.588503  \n",
       "3   70.491080   1.0    21  38.263601  \n",
       "4   93.811775   0.0    13  29.681827  "
      ]
     },
     "execution_count": 2,
     "metadata": {},
     "output_type": "execute_result"
    }
   ],
   "source": [
    "df_raw = pd.read_csv(\"D:/data/2/HMEQ.csv\",encoding='euc-kr')\n",
    "df_raw.head()"
   ]
  },
  {
   "cell_type": "markdown",
   "id": "5e5022d4",
   "metadata": {},
   "source": [
    "#### 결측치 처리"
   ]
  },
  {
   "cell_type": "code",
   "execution_count": 3,
   "id": "b631eca2",
   "metadata": {},
   "outputs": [
    {
     "data": {
      "text/plain": [
       "BAD          0\n",
       "LOAN         0\n",
       "MORTDUE      0\n",
       "VALUE       14\n",
       "REASON       0\n",
       "JOB         81\n",
       "YOJ        205\n",
       "DEROG        0\n",
       "DELINQ      30\n",
       "CLAGE       37\n",
       "NINQ        56\n",
       "CLNO         0\n",
       "DEBTINC      0\n",
       "dtype: int64"
      ]
     },
     "execution_count": 3,
     "metadata": {},
     "output_type": "execute_result"
    }
   ],
   "source": [
    "# 데이터 구성하기 - 결측치 처리\n",
    "df_raw.isnull().sum()"
   ]
  },
  {
   "cell_type": "code",
   "execution_count": 4,
   "id": "ea7673c4",
   "metadata": {
    "scrolled": true
   },
   "outputs": [
    {
     "name": "stderr",
     "output_type": "stream",
     "text": [
      "C:\\Users\\NOH TAEYUN\\AppData\\Local\\Temp\\ipykernel_6960\\2444240324.py:4: FutureWarning: Dropping of nuisance columns in DataFrame reductions (with 'numeric_only=None') is deprecated; in a future version this will raise TypeError.  Select only valid columns before calling the reduction.\n",
      "  df_raw.fillna(df_raw.mean(), inplace= True)\n"
     ]
    }
   ],
   "source": [
    "# fillna 결측치 대체 함수\n",
    "# JOB 변수의 결측치는 'Other'로 대체\n",
    "df_raw['JOB'].fillna('Other', inplace= True)\n",
    "df_raw.fillna(df_raw.mean(), inplace= True)"
   ]
  },
  {
   "cell_type": "code",
   "execution_count": 5,
   "id": "16b438f6",
   "metadata": {},
   "outputs": [
    {
     "data": {
      "text/plain": [
       "BAD        0\n",
       "LOAN       0\n",
       "MORTDUE    0\n",
       "VALUE      0\n",
       "REASON     0\n",
       "JOB        0\n",
       "YOJ        0\n",
       "DEROG      0\n",
       "DELINQ     0\n",
       "CLAGE      0\n",
       "NINQ       0\n",
       "CLNO       0\n",
       "DEBTINC    0\n",
       "dtype: int64"
      ]
     },
     "execution_count": 5,
     "metadata": {},
     "output_type": "execute_result"
    }
   ],
   "source": [
    "# 결측치 대체 확인\n",
    "df_raw.isnull().sum()"
   ]
  },
  {
   "cell_type": "markdown",
   "id": "b5bded90",
   "metadata": {},
   "source": [
    "#### 더미변수 생성"
   ]
  },
  {
   "cell_type": "code",
   "execution_count": 6,
   "id": "d0999065",
   "metadata": {},
   "outputs": [
    {
     "data": {
      "text/html": [
       "<div>\n",
       "<style scoped>\n",
       "    .dataframe tbody tr th:only-of-type {\n",
       "        vertical-align: middle;\n",
       "    }\n",
       "\n",
       "    .dataframe tbody tr th {\n",
       "        vertical-align: top;\n",
       "    }\n",
       "\n",
       "    .dataframe thead th {\n",
       "        text-align: right;\n",
       "    }\n",
       "</style>\n",
       "<table border=\"1\" class=\"dataframe\">\n",
       "  <thead>\n",
       "    <tr style=\"text-align: right;\">\n",
       "      <th></th>\n",
       "      <th>BAD</th>\n",
       "      <th>LOAN</th>\n",
       "      <th>MORTDUE</th>\n",
       "      <th>VALUE</th>\n",
       "      <th>YOJ</th>\n",
       "      <th>DEROG</th>\n",
       "      <th>DELINQ</th>\n",
       "      <th>CLAGE</th>\n",
       "      <th>NINQ</th>\n",
       "      <th>CLNO</th>\n",
       "      <th>DEBTINC</th>\n",
       "      <th>REASON_DebtCon</th>\n",
       "      <th>REASON_HomeImp</th>\n",
       "      <th>JOB_Mgr</th>\n",
       "      <th>JOB_Office</th>\n",
       "      <th>JOB_Other</th>\n",
       "      <th>JOB_ProfExe</th>\n",
       "      <th>JOB_Sales</th>\n",
       "      <th>JOB_Self</th>\n",
       "    </tr>\n",
       "  </thead>\n",
       "  <tbody>\n",
       "    <tr>\n",
       "      <th>0</th>\n",
       "      <td>1</td>\n",
       "      <td>1700</td>\n",
       "      <td>30548</td>\n",
       "      <td>40320.0</td>\n",
       "      <td>9.0</td>\n",
       "      <td>0</td>\n",
       "      <td>0.0</td>\n",
       "      <td>101.466002</td>\n",
       "      <td>1.0</td>\n",
       "      <td>8</td>\n",
       "      <td>37.113614</td>\n",
       "      <td>0</td>\n",
       "      <td>1</td>\n",
       "      <td>0</td>\n",
       "      <td>0</td>\n",
       "      <td>1</td>\n",
       "      <td>0</td>\n",
       "      <td>0</td>\n",
       "      <td>0</td>\n",
       "    </tr>\n",
       "    <tr>\n",
       "      <th>1</th>\n",
       "      <td>1</td>\n",
       "      <td>1800</td>\n",
       "      <td>28502</td>\n",
       "      <td>43034.0</td>\n",
       "      <td>11.0</td>\n",
       "      <td>0</td>\n",
       "      <td>0.0</td>\n",
       "      <td>88.766030</td>\n",
       "      <td>0.0</td>\n",
       "      <td>8</td>\n",
       "      <td>36.884894</td>\n",
       "      <td>0</td>\n",
       "      <td>1</td>\n",
       "      <td>0</td>\n",
       "      <td>0</td>\n",
       "      <td>1</td>\n",
       "      <td>0</td>\n",
       "      <td>0</td>\n",
       "      <td>0</td>\n",
       "    </tr>\n",
       "    <tr>\n",
       "      <th>2</th>\n",
       "      <td>0</td>\n",
       "      <td>2300</td>\n",
       "      <td>102370</td>\n",
       "      <td>120953.0</td>\n",
       "      <td>2.0</td>\n",
       "      <td>0</td>\n",
       "      <td>0.0</td>\n",
       "      <td>90.992533</td>\n",
       "      <td>0.0</td>\n",
       "      <td>13</td>\n",
       "      <td>31.588503</td>\n",
       "      <td>0</td>\n",
       "      <td>1</td>\n",
       "      <td>0</td>\n",
       "      <td>1</td>\n",
       "      <td>0</td>\n",
       "      <td>0</td>\n",
       "      <td>0</td>\n",
       "      <td>0</td>\n",
       "    </tr>\n",
       "    <tr>\n",
       "      <th>3</th>\n",
       "      <td>1</td>\n",
       "      <td>2400</td>\n",
       "      <td>34863</td>\n",
       "      <td>47471.0</td>\n",
       "      <td>12.0</td>\n",
       "      <td>0</td>\n",
       "      <td>0.0</td>\n",
       "      <td>70.491080</td>\n",
       "      <td>1.0</td>\n",
       "      <td>21</td>\n",
       "      <td>38.263601</td>\n",
       "      <td>0</td>\n",
       "      <td>1</td>\n",
       "      <td>1</td>\n",
       "      <td>0</td>\n",
       "      <td>0</td>\n",
       "      <td>0</td>\n",
       "      <td>0</td>\n",
       "      <td>0</td>\n",
       "    </tr>\n",
       "    <tr>\n",
       "      <th>4</th>\n",
       "      <td>0</td>\n",
       "      <td>2400</td>\n",
       "      <td>98449</td>\n",
       "      <td>117195.0</td>\n",
       "      <td>4.0</td>\n",
       "      <td>0</td>\n",
       "      <td>0.0</td>\n",
       "      <td>93.811775</td>\n",
       "      <td>0.0</td>\n",
       "      <td>13</td>\n",
       "      <td>29.681827</td>\n",
       "      <td>0</td>\n",
       "      <td>1</td>\n",
       "      <td>0</td>\n",
       "      <td>1</td>\n",
       "      <td>0</td>\n",
       "      <td>0</td>\n",
       "      <td>0</td>\n",
       "      <td>0</td>\n",
       "    </tr>\n",
       "  </tbody>\n",
       "</table>\n",
       "</div>"
      ],
      "text/plain": [
       "   BAD  LOAN  MORTDUE     VALUE   YOJ  DEROG  DELINQ       CLAGE  NINQ  CLNO  \\\n",
       "0    1  1700    30548   40320.0   9.0      0     0.0  101.466002   1.0     8   \n",
       "1    1  1800    28502   43034.0  11.0      0     0.0   88.766030   0.0     8   \n",
       "2    0  2300   102370  120953.0   2.0      0     0.0   90.992533   0.0    13   \n",
       "3    1  2400    34863   47471.0  12.0      0     0.0   70.491080   1.0    21   \n",
       "4    0  2400    98449  117195.0   4.0      0     0.0   93.811775   0.0    13   \n",
       "\n",
       "     DEBTINC  REASON_DebtCon  REASON_HomeImp  JOB_Mgr  JOB_Office  JOB_Other  \\\n",
       "0  37.113614               0               1        0           0          1   \n",
       "1  36.884894               0               1        0           0          1   \n",
       "2  31.588503               0               1        0           1          0   \n",
       "3  38.263601               0               1        1           0          0   \n",
       "4  29.681827               0               1        0           1          0   \n",
       "\n",
       "   JOB_ProfExe  JOB_Sales  JOB_Self  \n",
       "0            0          0         0  \n",
       "1            0          0         0  \n",
       "2            0          0         0  \n",
       "3            0          0         0  \n",
       "4            0          0         0  "
      ]
     },
     "execution_count": 6,
     "metadata": {},
     "output_type": "execute_result"
    }
   ],
   "source": [
    "# 데이터 구성하기 - 더미변수 생성\n",
    "# 더미변수 생성\n",
    "df_raw_dummy = pd.get_dummies(df_raw)\n",
    "df_raw_dummy.head()"
   ]
  },
  {
   "cell_type": "code",
   "execution_count": 7,
   "id": "95a7f371",
   "metadata": {},
   "outputs": [
    {
     "name": "stdout",
     "output_type": "stream",
     "text": [
      "분할 전 설명변수 데이터: (3748, 18)\n",
      "분할 후 설명변수 데이터:Train (2623, 18) Test (1125, 18)\n"
     ]
    }
   ],
   "source": [
    "# 데이터 구성하기 - 데이터 분할\n",
    "# 설명변수, 목표변수 데이터 구분\n",
    "df_raw_x = df_raw_dummy.drop('BAD', axis=1 ,inplace=False)\n",
    "df_raw_y = df_raw_dummy['BAD']\n",
    "\n",
    "df_train_x, df_test_x, df_train_y, df_test_y = train_test_split(\n",
    "    df_raw_x, df_raw_y, test_size=0.3, random_state=1234)\n",
    "\n",
    "print('분할 전 설명변수 데이터:', df_raw_x.shape)\n",
    "print('분할 후 설명변수 데이터:Train', df_train_x.shape, 'Test',df_test_x.shape)"
   ]
  },
  {
   "cell_type": "markdown",
   "id": "c08f73a9",
   "metadata": {},
   "source": [
    "## SVC 모델 생성 - 기본 옵션으로 모델 생성"
   ]
  },
  {
   "cell_type": "code",
   "execution_count": 8,
   "id": "79fb5af8",
   "metadata": {},
   "outputs": [
    {
     "name": "stdout",
     "output_type": "stream",
     "text": [
      "Accuracy on training set: 0.908\n",
      "Accuracy on test set: 0.908\n"
     ]
    }
   ],
   "source": [
    "svm_uncustomized = SVC(random_state = 1234)\n",
    "svm_uncustomized.fit(df_train_x, df_train_y)\n",
    "# train 데이터 셋 정확도\n",
    "print('Accuracy on training set: {:.3f}'.format(svm_uncustomized.score(df_train_x, df_train_y)))\n",
    "# test데이터 정확도\n",
    "print('Accuracy on test set: {:.3f}'.format(svm_uncustomized.score(df_test_x, df_test_y)))"
   ]
  },
  {
   "cell_type": "markdown",
   "id": "8e5548f2",
   "metadata": {},
   "source": [
    "## SVC 모델 Parameter 변경 - C: 규제에 대한 강도 변경"
   ]
  },
  {
   "cell_type": "code",
   "execution_count": 9,
   "id": "d77c544d",
   "metadata": {},
   "outputs": [],
   "source": [
    "# train 및 test 정확도 결과 저장용\n",
    "train_accuracy = []; test_accuracy = []\n",
    "# c: 규제 (0.01, 0.1, 1 ,10)\n",
    "para_c = [10 **c for c in range(-2,2)]\n",
    "# para_c = [0.1 *c for c in range(1,10)] # C 변화 구간 변경\n",
    "\n",
    "for v_C in para_c:\n",
    "    svm = SVC(C = v_C, random_state = 1234)\n",
    "    svm.fit(df_train_x, df_train_y)\n",
    "    train_accuracy.append(svm.score(df_train_x, df_train_y))\n",
    "    test_accuracy.append(svm.score(df_test_x, df_test_y))\n",
    "    \n",
    "# 데이터 테이블로 저장\n",
    "df_accuracy_c = pd.DataFrame()\n",
    "df_accuracy_c[\"C\"] = para_c\n",
    "df_accuracy_c[\"TrainAccuracy\"] = train_accuracy\n",
    "df_accuracy_c[\"TestAccuracy\"] = test_accuracy"
   ]
  },
  {
   "cell_type": "code",
   "execution_count": 10,
   "id": "ad00dc5a",
   "metadata": {},
   "outputs": [
    {
     "data": {
      "text/html": [
       "<div>\n",
       "<style scoped>\n",
       "    .dataframe tbody tr th:only-of-type {\n",
       "        vertical-align: middle;\n",
       "    }\n",
       "\n",
       "    .dataframe tbody tr th {\n",
       "        vertical-align: top;\n",
       "    }\n",
       "\n",
       "    .dataframe thead th {\n",
       "        text-align: right;\n",
       "    }\n",
       "</style>\n",
       "<table border=\"1\" class=\"dataframe\">\n",
       "  <thead>\n",
       "    <tr style=\"text-align: right;\">\n",
       "      <th></th>\n",
       "      <th>C</th>\n",
       "      <th>TrainAccuracy</th>\n",
       "      <th>TestAccuracy</th>\n",
       "    </tr>\n",
       "  </thead>\n",
       "  <tbody>\n",
       "    <tr>\n",
       "      <th>0</th>\n",
       "      <td>0.01</td>\n",
       "      <td>0.908</td>\n",
       "      <td>0.908</td>\n",
       "    </tr>\n",
       "    <tr>\n",
       "      <th>1</th>\n",
       "      <td>0.10</td>\n",
       "      <td>0.908</td>\n",
       "      <td>0.908</td>\n",
       "    </tr>\n",
       "    <tr>\n",
       "      <th>2</th>\n",
       "      <td>1.00</td>\n",
       "      <td>0.908</td>\n",
       "      <td>0.908</td>\n",
       "    </tr>\n",
       "    <tr>\n",
       "      <th>3</th>\n",
       "      <td>10.00</td>\n",
       "      <td>0.909</td>\n",
       "      <td>0.908</td>\n",
       "    </tr>\n",
       "  </tbody>\n",
       "</table>\n",
       "</div>"
      ],
      "text/plain": [
       "       C  TrainAccuracy  TestAccuracy\n",
       "0   0.01          0.908         0.908\n",
       "1   0.10          0.908         0.908\n",
       "2   1.00          0.908         0.908\n",
       "3  10.00          0.909         0.908"
      ]
     },
     "execution_count": 10,
     "metadata": {},
     "output_type": "execute_result"
    }
   ],
   "source": [
    "# C별 정확도 테이블\n",
    "df_accuracy_c.round(3)"
   ]
  },
  {
   "cell_type": "code",
   "execution_count": 11,
   "id": "44769489",
   "metadata": {},
   "outputs": [
    {
     "data": {
      "text/plain": [
       "<matplotlib.legend.Legend at 0x1dc9f9b2200>"
      ]
     },
     "execution_count": 11,
     "metadata": {},
     "output_type": "execute_result"
    },
    {
     "data": {
      "image/png": "[encoded data removed]",
      "text/plain": [
       "<Figure size 432x288 with 1 Axes>"
      ]
     },
     "metadata": {
      "needs_background": "light"
     },
     "output_type": "display_data"
    }
   ],
   "source": [
    "# 모델 정확도 그래프 확인\n",
    "plt.plot(para_c, train_accuracy, linestyle = '-', label = 'Train Accuracy')\n",
    "plt.plot(para_c, test_accuracy, linestyle = '--', label = 'Test Accuracy')\n",
    "plt.ylabel('accuracy'); plt.xlabel('C')\n",
    "plt.legend()"
   ]
  },
  {
   "cell_type": "markdown",
   "id": "c48203ff",
   "metadata": {},
   "source": [
    "#### C가 1 이상이면 train 데이터 이용한 모델의 정확도는 1(과대적합) test 정확도는 변화 없음\n",
    "#### C가 0.1 ~ 1.0 변화 시 정확도 확인 필요"
   ]
  },
  {
   "cell_type": "code",
   "execution_count": 12,
   "id": "424185f7",
   "metadata": {},
   "outputs": [],
   "source": [
    "C = 0.1"
   ]
  },
  {
   "cell_type": "markdown",
   "id": "75a45780",
   "metadata": {},
   "source": [
    "## SVC 모델 Parameter 변경 - Gamma : 훈련 샘플이 미치는 영향의 범위를 변경"
   ]
  },
  {
   "cell_type": "code",
   "execution_count": 13,
   "id": "4616794e",
   "metadata": {},
   "outputs": [],
   "source": [
    "# train 및 test 정확도 결과 저장용\n",
    "train_accuracy = []; test_accuracy = []\n",
    "# gamma: 규제 (0.01, 0.1, 1 ,10)\n",
    "para_gamma = [10 **gamma for gamma in range(-2,2)]\n",
    "\n",
    "for v_gamma in para_gamma:\n",
    "    svm = SVC(gamma = v_gamma, C = 0.1, random_state = 1234)\n",
    "    svm.fit(df_train_x, df_train_y)\n",
    "    train_accuracy.append(svm.score(df_train_x, df_train_y))\n",
    "    test_accuracy.append(svm.score(df_test_x, df_test_y))\n",
    "    \n",
    "# 데이터 테이블로 저장\n",
    "df_accuracy_gamma = pd.DataFrame()\n",
    "df_accuracy_gamma[\"gamma\"] = para_gamma\n",
    "df_accuracy_gamma[\"TrainAccuracy\"] = train_accuracy\n",
    "df_accuracy_gamma[\"TestAccuracy\"] = test_accuracy"
   ]
  },
  {
   "cell_type": "code",
   "execution_count": 14,
   "id": "0db7bf31",
   "metadata": {},
   "outputs": [
    {
     "data": {
      "text/html": [
       "<div>\n",
       "<style scoped>\n",
       "    .dataframe tbody tr th:only-of-type {\n",
       "        vertical-align: middle;\n",
       "    }\n",
       "\n",
       "    .dataframe tbody tr th {\n",
       "        vertical-align: top;\n",
       "    }\n",
       "\n",
       "    .dataframe thead th {\n",
       "        text-align: right;\n",
       "    }\n",
       "</style>\n",
       "<table border=\"1\" class=\"dataframe\">\n",
       "  <thead>\n",
       "    <tr style=\"text-align: right;\">\n",
       "      <th></th>\n",
       "      <th>gamma</th>\n",
       "      <th>TrainAccuracy</th>\n",
       "      <th>TestAccuracy</th>\n",
       "    </tr>\n",
       "  </thead>\n",
       "  <tbody>\n",
       "    <tr>\n",
       "      <th>0</th>\n",
       "      <td>0.01</td>\n",
       "      <td>0.9081</td>\n",
       "      <td>0.9076</td>\n",
       "    </tr>\n",
       "    <tr>\n",
       "      <th>1</th>\n",
       "      <td>0.10</td>\n",
       "      <td>0.9081</td>\n",
       "      <td>0.9076</td>\n",
       "    </tr>\n",
       "    <tr>\n",
       "      <th>2</th>\n",
       "      <td>1.00</td>\n",
       "      <td>0.9081</td>\n",
       "      <td>0.9076</td>\n",
       "    </tr>\n",
       "    <tr>\n",
       "      <th>3</th>\n",
       "      <td>10.00</td>\n",
       "      <td>0.9081</td>\n",
       "      <td>0.9076</td>\n",
       "    </tr>\n",
       "  </tbody>\n",
       "</table>\n",
       "</div>"
      ],
      "text/plain": [
       "   gamma  TrainAccuracy  TestAccuracy\n",
       "0   0.01         0.9081        0.9076\n",
       "1   0.10         0.9081        0.9076\n",
       "2   1.00         0.9081        0.9076\n",
       "3  10.00         0.9081        0.9076"
      ]
     },
     "execution_count": 14,
     "metadata": {},
     "output_type": "execute_result"
    }
   ],
   "source": [
    "# Gamma별 정확도 테이블\n",
    "df_accuracy_gamma.round(4)"
   ]
  },
  {
   "cell_type": "code",
   "execution_count": 15,
   "id": "47c35b75",
   "metadata": {},
   "outputs": [
    {
     "data": {
      "text/plain": [
       "<matplotlib.legend.Legend at 0x1dc9fa442b0>"
      ]
     },
     "execution_count": 15,
     "metadata": {},
     "output_type": "execute_result"
    },
    {
     "data": {
      "image/png": "[encoded data removed]",
      "text/plain": [
       "<Figure size 432x288 with 1 Axes>"
      ]
     },
     "metadata": {
      "needs_background": "light"
     },
     "output_type": "display_data"
    }
   ],
   "source": [
    "# 모델 정확도 그래프 확인\n",
    "plt.plot(para_gamma, train_accuracy, linestyle = '-', label = 'Train Accuracy')\n",
    "plt.plot(para_gamma, test_accuracy, linestyle = '--', label = 'Test Accuracy')\n",
    "plt.ylabel('accuracy'); plt.xlabel('gamma')\n",
    "plt.legend()"
   ]
  },
  {
   "cell_type": "markdown",
   "id": "ecdedcf0",
   "metadata": {},
   "source": [
    "#### gamma 변화는 정확도에 영향을 미치지 않음\n",
    "#### gamma 변화 구간을 변경하여 정확도 확인 가능"
   ]
  },
  {
   "cell_type": "code",
   "execution_count": null,
   "id": "1c23bb7c",
   "metadata": {},
   "outputs": [],
   "source": []
  },
  {
   "cell_type": "markdown",
   "id": "fa1cfb2a",
   "metadata": {},
   "source": [
    "## scale 변환 - Standardscaler : 설명변수 값의 구간을 동일하게"
   ]
  },
  {
   "cell_type": "code",
   "execution_count": 16,
   "id": "51a5a374",
   "metadata": {},
   "outputs": [
    {
     "data": {
      "text/html": [
       "<div>\n",
       "<style scoped>\n",
       "    .dataframe tbody tr th:only-of-type {\n",
       "        vertical-align: middle;\n",
       "    }\n",
       "\n",
       "    .dataframe tbody tr th {\n",
       "        vertical-align: top;\n",
       "    }\n",
       "\n",
       "    .dataframe thead th {\n",
       "        text-align: right;\n",
       "    }\n",
       "</style>\n",
       "<table border=\"1\" class=\"dataframe\">\n",
       "  <thead>\n",
       "    <tr style=\"text-align: right;\">\n",
       "      <th></th>\n",
       "      <th>LOAN</th>\n",
       "      <th>MORTDUE</th>\n",
       "      <th>VALUE</th>\n",
       "      <th>YOJ</th>\n",
       "      <th>DEROG</th>\n",
       "      <th>DELINQ</th>\n",
       "      <th>CLAGE</th>\n",
       "      <th>NINQ</th>\n",
       "      <th>CLNO</th>\n",
       "      <th>DEBTINC</th>\n",
       "      <th>REASON_DebtCon</th>\n",
       "      <th>REASON_HomeImp</th>\n",
       "      <th>JOB_Mgr</th>\n",
       "      <th>JOB_Office</th>\n",
       "      <th>JOB_Other</th>\n",
       "      <th>JOB_ProfExe</th>\n",
       "      <th>JOB_Sales</th>\n",
       "      <th>JOB_Self</th>\n",
       "    </tr>\n",
       "  </thead>\n",
       "  <tbody>\n",
       "    <tr>\n",
       "      <th>0</th>\n",
       "      <td>-1.559587</td>\n",
       "      <td>-0.993626</td>\n",
       "      <td>-1.224910</td>\n",
       "      <td>-0.017563</td>\n",
       "      <td>-0.267462</td>\n",
       "      <td>-0.342558</td>\n",
       "      <td>-0.967342</td>\n",
       "      <td>-0.018776</td>\n",
       "      <td>-1.428350</td>\n",
       "      <td>0.356347</td>\n",
       "      <td>-1.548549</td>\n",
       "      <td>1.548549</td>\n",
       "      <td>-0.381873</td>\n",
       "      <td>-0.446497</td>\n",
       "      <td>1.207355</td>\n",
       "      <td>-0.574064</td>\n",
       "      <td>-0.131804</td>\n",
       "      <td>-0.189556</td>\n",
       "    </tr>\n",
       "    <tr>\n",
       "      <th>1</th>\n",
       "      <td>-1.550817</td>\n",
       "      <td>-1.039240</td>\n",
       "      <td>-1.174897</td>\n",
       "      <td>0.251809</td>\n",
       "      <td>-0.267462</td>\n",
       "      <td>-0.342558</td>\n",
       "      <td>-1.122053</td>\n",
       "      <td>-0.666629</td>\n",
       "      <td>-1.428350</td>\n",
       "      <td>0.329025</td>\n",
       "      <td>-1.548549</td>\n",
       "      <td>1.548549</td>\n",
       "      <td>-0.381873</td>\n",
       "      <td>-0.446497</td>\n",
       "      <td>1.207355</td>\n",
       "      <td>-0.574064</td>\n",
       "      <td>-0.131804</td>\n",
       "      <td>-0.189556</td>\n",
       "    </tr>\n",
       "    <tr>\n",
       "      <th>2</th>\n",
       "      <td>-1.506968</td>\n",
       "      <td>0.607570</td>\n",
       "      <td>0.260973</td>\n",
       "      <td>-0.960364</td>\n",
       "      <td>-0.267462</td>\n",
       "      <td>-0.342558</td>\n",
       "      <td>-1.094930</td>\n",
       "      <td>-0.666629</td>\n",
       "      <td>-0.905133</td>\n",
       "      <td>-0.303684</td>\n",
       "      <td>-1.548549</td>\n",
       "      <td>1.548549</td>\n",
       "      <td>-0.381873</td>\n",
       "      <td>2.239654</td>\n",
       "      <td>-0.828257</td>\n",
       "      <td>-0.574064</td>\n",
       "      <td>-0.131804</td>\n",
       "      <td>-0.189556</td>\n",
       "    </tr>\n",
       "    <tr>\n",
       "      <th>3</th>\n",
       "      <td>-1.498198</td>\n",
       "      <td>-0.897428</td>\n",
       "      <td>-1.093133</td>\n",
       "      <td>0.386495</td>\n",
       "      <td>-0.267462</td>\n",
       "      <td>-0.342558</td>\n",
       "      <td>-1.344679</td>\n",
       "      <td>-0.018776</td>\n",
       "      <td>-0.067985</td>\n",
       "      <td>0.493725</td>\n",
       "      <td>-1.548549</td>\n",
       "      <td>1.548549</td>\n",
       "      <td>2.618672</td>\n",
       "      <td>-0.446497</td>\n",
       "      <td>-0.828257</td>\n",
       "      <td>-0.574064</td>\n",
       "      <td>-0.131804</td>\n",
       "      <td>-0.189556</td>\n",
       "    </tr>\n",
       "    <tr>\n",
       "      <th>4</th>\n",
       "      <td>-1.498198</td>\n",
       "      <td>0.520156</td>\n",
       "      <td>0.191721</td>\n",
       "      <td>-0.690992</td>\n",
       "      <td>-0.267462</td>\n",
       "      <td>-0.342558</td>\n",
       "      <td>-1.060586</td>\n",
       "      <td>-0.666629</td>\n",
       "      <td>-0.905133</td>\n",
       "      <td>-0.531456</td>\n",
       "      <td>-1.548549</td>\n",
       "      <td>1.548549</td>\n",
       "      <td>-0.381873</td>\n",
       "      <td>2.239654</td>\n",
       "      <td>-0.828257</td>\n",
       "      <td>-0.574064</td>\n",
       "      <td>-0.131804</td>\n",
       "      <td>-0.189556</td>\n",
       "    </tr>\n",
       "  </tbody>\n",
       "</table>\n",
       "</div>"
      ],
      "text/plain": [
       "       LOAN   MORTDUE     VALUE       YOJ     DEROG    DELINQ     CLAGE  \\\n",
       "0 -1.559587 -0.993626 -1.224910 -0.017563 -0.267462 -0.342558 -0.967342   \n",
       "1 -1.550817 -1.039240 -1.174897  0.251809 -0.267462 -0.342558 -1.122053   \n",
       "2 -1.506968  0.607570  0.260973 -0.960364 -0.267462 -0.342558 -1.094930   \n",
       "3 -1.498198 -0.897428 -1.093133  0.386495 -0.267462 -0.342558 -1.344679   \n",
       "4 -1.498198  0.520156  0.191721 -0.690992 -0.267462 -0.342558 -1.060586   \n",
       "\n",
       "       NINQ      CLNO   DEBTINC  REASON_DebtCon  REASON_HomeImp   JOB_Mgr  \\\n",
       "0 -0.018776 -1.428350  0.356347       -1.548549        1.548549 -0.381873   \n",
       "1 -0.666629 -1.428350  0.329025       -1.548549        1.548549 -0.381873   \n",
       "2 -0.666629 -0.905133 -0.303684       -1.548549        1.548549 -0.381873   \n",
       "3 -0.018776 -0.067985  0.493725       -1.548549        1.548549  2.618672   \n",
       "4 -0.666629 -0.905133 -0.531456       -1.548549        1.548549 -0.381873   \n",
       "\n",
       "   JOB_Office  JOB_Other  JOB_ProfExe  JOB_Sales  JOB_Self  \n",
       "0   -0.446497   1.207355    -0.574064  -0.131804 -0.189556  \n",
       "1   -0.446497   1.207355    -0.574064  -0.131804 -0.189556  \n",
       "2    2.239654  -0.828257    -0.574064  -0.131804 -0.189556  \n",
       "3   -0.446497  -0.828257    -0.574064  -0.131804 -0.189556  \n",
       "4    2.239654  -0.828257    -0.574064  -0.131804 -0.189556  "
      ]
     },
     "execution_count": 16,
     "metadata": {},
     "output_type": "execute_result"
    }
   ],
   "source": [
    "# 변수명 저장\n",
    "v_feature_name = df_train_x.columns\n",
    "# StandardScaler 적용\n",
    "scaler = StandardScaler()\n",
    "df_scaled = scaler.fit_transform(df_raw_x)\n",
    "df_scaled = pd.DataFrame(df_scaled, columns = v_feature_name)\n",
    "df_scaled.head()"
   ]
  },
  {
   "cell_type": "code",
   "execution_count": 17,
   "id": "32c3b7a9",
   "metadata": {},
   "outputs": [
    {
     "name": "stdout",
     "output_type": "stream",
     "text": [
      "train data X size: (2623, 18)\n",
      "test data X size: (1125, 18)\n"
     ]
    }
   ],
   "source": [
    "# 데이터 분할\n",
    "df_scaled_train_x, df_scaled_test_x = train_test_split(df_scaled, test_size = 0.3, random_state= 1234)\n",
    "print(\"train data X size: {}\".format(df_scaled_train_x.shape))\n",
    "print(\"test data X size: {}\".format(df_scaled_test_x.shape))"
   ]
  },
  {
   "cell_type": "markdown",
   "id": "1c99647a",
   "metadata": {},
   "source": [
    "## scale 조절 후 SVC 모델 재실행 - scale이 조정된 데이터로 새로운 모델 생성"
   ]
  },
  {
   "cell_type": "code",
   "execution_count": 18,
   "id": "f1ff8ebe",
   "metadata": {},
   "outputs": [
    {
     "name": "stdout",
     "output_type": "stream",
     "text": [
      "Accuracy on training set: 0.944\n",
      "Accuracy on test set: 0.935\n"
     ]
    }
   ],
   "source": [
    "svm_scaled = SVC(random_state= 1234)\n",
    "svm_scaled.fit(df_scaled_train_x, df_train_y)\n",
    "# train 데이터 셋 정확도\n",
    "print('Accuracy on training set: {:.3f}'.format(svm_scaled.score(df_scaled_train_x, df_train_y)))\n",
    "# test 데이터 셋 정확도\n",
    "print('Accuracy on test set: {:.3f}'.format(svm_scaled.score(df_scaled_test_x, df_test_y)))"
   ]
  },
  {
   "cell_type": "markdown",
   "id": "d4390552",
   "metadata": {},
   "source": [
    "#### sclae 조절 후 정확도가 올라간 것을 확인"
   ]
  },
  {
   "cell_type": "markdown",
   "id": "6e4c5570",
   "metadata": {},
   "source": [
    "## 새로운 SVC 모델 Parameter 변경 - C: 규제에 대한 강도 변경"
   ]
  },
  {
   "cell_type": "code",
   "execution_count": 19,
   "id": "9f5d40b2",
   "metadata": {},
   "outputs": [],
   "source": [
    "# train 및 test 정확도 결과 저장용\n",
    "train_accuracy = []; test_accuracy = []\n",
    "# c: 규제 (0.01, 0.1, 1 ,10)\n",
    "para_c = [10 **c for c in range(-2,2)]\n",
    "# para_c = [0.1 *c for c in range(1,10)] # C 변화 구간 변경\n",
    "\n",
    "for v_C in para_c:\n",
    "    svm = SVC(C = v_C, random_state = 1234)\n",
    "    svm.fit(df_scaled_train_x, df_train_y)\n",
    "    train_accuracy.append(svm.score(df_scaled_train_x, df_train_y))\n",
    "    test_accuracy.append(svm.score(df_scaled_test_x, df_test_y))\n",
    "    \n",
    "# 데이터 테이블로 저장\n",
    "df_accuracy_c = pd.DataFrame()\n",
    "df_accuracy_c[\"C\"] = para_c\n",
    "df_accuracy_c[\"TrainAccuracy\"] = train_accuracy\n",
    "df_accuracy_c[\"TestAccuracy\"] = test_accuracy"
   ]
  },
  {
   "cell_type": "code",
   "execution_count": 20,
   "id": "f578ec3a",
   "metadata": {},
   "outputs": [
    {
     "data": {
      "text/html": [
       "<div>\n",
       "<style scoped>\n",
       "    .dataframe tbody tr th:only-of-type {\n",
       "        vertical-align: middle;\n",
       "    }\n",
       "\n",
       "    .dataframe tbody tr th {\n",
       "        vertical-align: top;\n",
       "    }\n",
       "\n",
       "    .dataframe thead th {\n",
       "        text-align: right;\n",
       "    }\n",
       "</style>\n",
       "<table border=\"1\" class=\"dataframe\">\n",
       "  <thead>\n",
       "    <tr style=\"text-align: right;\">\n",
       "      <th></th>\n",
       "      <th>C</th>\n",
       "      <th>TrainAccuracy</th>\n",
       "      <th>TestAccuracy</th>\n",
       "    </tr>\n",
       "  </thead>\n",
       "  <tbody>\n",
       "    <tr>\n",
       "      <th>0</th>\n",
       "      <td>0.01</td>\n",
       "      <td>0.908</td>\n",
       "      <td>0.908</td>\n",
       "    </tr>\n",
       "    <tr>\n",
       "      <th>1</th>\n",
       "      <td>0.10</td>\n",
       "      <td>0.908</td>\n",
       "      <td>0.908</td>\n",
       "    </tr>\n",
       "    <tr>\n",
       "      <th>2</th>\n",
       "      <td>1.00</td>\n",
       "      <td>0.944</td>\n",
       "      <td>0.935</td>\n",
       "    </tr>\n",
       "    <tr>\n",
       "      <th>3</th>\n",
       "      <td>10.00</td>\n",
       "      <td>0.979</td>\n",
       "      <td>0.949</td>\n",
       "    </tr>\n",
       "  </tbody>\n",
       "</table>\n",
       "</div>"
      ],
      "text/plain": [
       "       C  TrainAccuracy  TestAccuracy\n",
       "0   0.01          0.908         0.908\n",
       "1   0.10          0.908         0.908\n",
       "2   1.00          0.944         0.935\n",
       "3  10.00          0.979         0.949"
      ]
     },
     "execution_count": 20,
     "metadata": {},
     "output_type": "execute_result"
    }
   ],
   "source": [
    "# C별 정확도 테이블\n",
    "df_accuracy_c.round(3)"
   ]
  },
  {
   "cell_type": "code",
   "execution_count": 21,
   "id": "c51c4c64",
   "metadata": {},
   "outputs": [
    {
     "data": {
      "text/plain": [
       "<matplotlib.legend.Legend at 0x1dca1ad6500>"
      ]
     },
     "execution_count": 21,
     "metadata": {},
     "output_type": "execute_result"
    },
    {
     "data": {
      "image/png": "[encoded data removed]",
      "text/plain": [
       "<Figure size 432x288 with 1 Axes>"
      ]
     },
     "metadata": {
      "needs_background": "light"
     },
     "output_type": "display_data"
    }
   ],
   "source": [
    "# 모델 정확도 그래프 확인\n",
    "plt.plot(para_c, train_accuracy, linestyle = '-', label = 'Train Accuracy')\n",
    "plt.plot(para_c, test_accuracy, linestyle = '--', label = 'Test Accuracy')\n",
    "plt.ylabel('accuracy'); plt.xlabel('C')\n",
    "plt.legend()"
   ]
  },
  {
   "cell_type": "markdown",
   "id": "4f7eedcb",
   "metadata": {},
   "source": [
    "#### C가 1일 때 모델의 정확도가 많이 증가함\n",
    "#### 필요시 C 변화 구간을 0.1 ~ 1.0 변경하여 정확도 확인 가능"
   ]
  },
  {
   "cell_type": "code",
   "execution_count": 22,
   "id": "1a28e7c8",
   "metadata": {},
   "outputs": [],
   "source": [
    "# 임의로 지정\n",
    "C = 1"
   ]
  },
  {
   "cell_type": "markdown",
   "id": "674f5dfc",
   "metadata": {},
   "source": [
    "## 새로운 SVC 모델 Parameter 변경 - Gamma: 훈련 샘플이 미치는 영향의 범위를 변경 결과"
   ]
  },
  {
   "cell_type": "code",
   "execution_count": 23,
   "id": "1f2dd90f",
   "metadata": {},
   "outputs": [],
   "source": [
    "# train 및 test 정확도 결과 저장용\n",
    "train_accuracy = []; test_accuracy = []\n",
    "# gamma: 규제 (0.01, 0.1, 1 ,10)\n",
    "para_gamma = [10 **gamma for gamma in range(-2,2)]\n",
    "\n",
    "for v_gamma in para_gamma:\n",
    "    svm = SVC(gamma = v_gamma, C = 1, random_state = 1234)\n",
    "    svm.fit(df_scaled_train_x, df_train_y)\n",
    "    train_accuracy.append(svm.score(df_scaled_train_x, df_train_y))\n",
    "    test_accuracy.append(svm.score(df_scaled_test_x, df_test_y))\n",
    "    \n",
    "# 데이터 테이블로 저장\n",
    "df_accuracy_gamma = pd.DataFrame()\n",
    "df_accuracy_gamma[\"gamma\"] = para_gamma\n",
    "df_accuracy_gamma[\"TrainAccuracy\"] = train_accuracy\n",
    "df_accuracy_gamma[\"TestAccuracy\"] = test_accuracy"
   ]
  },
  {
   "cell_type": "code",
   "execution_count": 24,
   "id": "2b7d30d3",
   "metadata": {},
   "outputs": [
    {
     "data": {
      "text/html": [
       "<div>\n",
       "<style scoped>\n",
       "    .dataframe tbody tr th:only-of-type {\n",
       "        vertical-align: middle;\n",
       "    }\n",
       "\n",
       "    .dataframe tbody tr th {\n",
       "        vertical-align: top;\n",
       "    }\n",
       "\n",
       "    .dataframe thead th {\n",
       "        text-align: right;\n",
       "    }\n",
       "</style>\n",
       "<table border=\"1\" class=\"dataframe\">\n",
       "  <thead>\n",
       "    <tr style=\"text-align: right;\">\n",
       "      <th></th>\n",
       "      <th>gamma</th>\n",
       "      <th>TrainAccuracy</th>\n",
       "      <th>TestAccuracy</th>\n",
       "    </tr>\n",
       "  </thead>\n",
       "  <tbody>\n",
       "    <tr>\n",
       "      <th>0</th>\n",
       "      <td>0.01</td>\n",
       "      <td>0.923</td>\n",
       "      <td>0.920</td>\n",
       "    </tr>\n",
       "    <tr>\n",
       "      <th>1</th>\n",
       "      <td>0.10</td>\n",
       "      <td>0.960</td>\n",
       "      <td>0.942</td>\n",
       "    </tr>\n",
       "    <tr>\n",
       "      <th>2</th>\n",
       "      <td>1.00</td>\n",
       "      <td>0.996</td>\n",
       "      <td>0.920</td>\n",
       "    </tr>\n",
       "    <tr>\n",
       "      <th>3</th>\n",
       "      <td>10.00</td>\n",
       "      <td>1.000</td>\n",
       "      <td>0.908</td>\n",
       "    </tr>\n",
       "  </tbody>\n",
       "</table>\n",
       "</div>"
      ],
      "text/plain": [
       "   gamma  TrainAccuracy  TestAccuracy\n",
       "0   0.01          0.923         0.920\n",
       "1   0.10          0.960         0.942\n",
       "2   1.00          0.996         0.920\n",
       "3  10.00          1.000         0.908"
      ]
     },
     "execution_count": 24,
     "metadata": {},
     "output_type": "execute_result"
    }
   ],
   "source": [
    "# Gamma별 정확도 테이블\n",
    "df_accuracy_gamma.round(3)"
   ]
  },
  {
   "cell_type": "markdown",
   "id": "60c32b96",
   "metadata": {},
   "source": [
    "#### gamma가 1 이상이면 train 데이터의 모델은 과대적합\n",
    "#### gamma 변화 구간을 변경하여 정확도 확인 가능"
   ]
  },
  {
   "cell_type": "code",
   "execution_count": 25,
   "id": "9f052cdc",
   "metadata": {},
   "outputs": [],
   "source": [
    "# 임의로 지정\n",
    "gamma = 0.1"
   ]
  },
  {
   "cell_type": "markdown",
   "id": "0f739e0f",
   "metadata": {},
   "source": [
    "## 결론 도출 - 최종 모델 선택"
   ]
  },
  {
   "cell_type": "code",
   "execution_count": 28,
   "id": "ed87b257",
   "metadata": {},
   "outputs": [
    {
     "name": "stdout",
     "output_type": "stream",
     "text": [
      "Accuracy on training set: 0.9596\n",
      "Accuracy on test set: 0.9422\n",
      "Confusion matrix: \n",
      "[[1021    0]\n",
      " [  65   39]]\n",
      "              precision    recall  f1-score   support\n",
      "\n",
      "           0      0.940     1.000     0.969      1021\n",
      "           1      1.000     0.375     0.545       104\n",
      "\n",
      "    accuracy                          0.942      1125\n",
      "   macro avg      0.970     0.688     0.757      1125\n",
      "weighted avg      0.946     0.942     0.930      1125\n",
      "\n"
     ]
    }
   ],
   "source": [
    "svc_final = SVC(gamma = 0.1, C = 1, random_state= 1234)\n",
    "svc_final.fit(df_scaled_train_x, df_train_y)\n",
    "y_pred = svc_final.predict(df_scaled_test_x)\n",
    "# train 데이터 셋 정확도\n",
    "print(\"Accuracy on training set: {:.4f}\".format(svc_final.score(df_scaled_train_x, df_train_y)))\n",
    "# test 데이터 셋 정확도\n",
    "print(\"Accuracy on test set: {:.4f}\".format(svc_final.score(df_scaled_test_x, df_test_y)))\n",
    "# confusion matrix\n",
    "print(\"Confusion matrix: \\n{}\".format(confusion_matrix(df_test_y, y_pred)))\n",
    "# 목표변수의 빈도 불귱형 : f1 score로 모델 평가\n",
    "print(classification_report(df_test_y, y_pred, digits=3))"
   ]
  },
  {
   "cell_type": "markdown",
   "id": "c8af45f9",
   "metadata": {},
   "source": [
    "#### test 데이터 기준 정분류율은 94.2%\n",
    "#### \"1\" 기준 f1 score는 54.5% (precision은 100%이나 recall이 매우 낮음)"
   ]
  },
  {
   "cell_type": "markdown",
   "id": "f5eb4f47",
   "metadata": {},
   "source": []
  },
  {
   "cell_type": "markdown",
   "id": "40c5486e",
   "metadata": {},
   "source": [
    "## GridSearchCV를 이용한 최적 parameter 찾기"
   ]
  },
  {
   "cell_type": "code",
   "execution_count": 27,
   "id": "738ba2e4",
   "metadata": {},
   "outputs": [
    {
     "name": "stdout",
     "output_type": "stream",
     "text": [
      "best estimator model: \n",
      "SVC(C=10, gamma=0.1, random_state=1234)\n",
      "\n",
      "best parameter: \n",
      "{'C': 10, 'gamma': 0.1}\n",
      "\n",
      "best score: \n",
      "0.96\n"
     ]
    }
   ],
   "source": [
    "estimator = SVC(random_state=1234)\n",
    "# 구하고자 하는 parameter와 범위\n",
    "param_grid = {\"C\":para_c,\n",
    "             \"gamma\":para_gamma}\n",
    "# 정확도가 높은 최적 parameter 찾기\n",
    "grid_rf = GridSearchCV(estimator, param_grid, scoring = \"accuracy\", n_jobs = -1)\n",
    "grid_rf.fit(df_scaled_train_x, df_train_y)\n",
    "print(\"best estimator model: \\n{}\".format(grid_rf.best_estimator_))\n",
    "print(\"\\nbest parameter: \\n{}\".format(grid_rf.best_params_))\n",
    "print(\"\\nbest score: \\n{}\".format(grid_rf.best_score_.round(3)))"
   ]
  },
  {
   "cell_type": "markdown",
   "id": "aa5b596e",
   "metadata": {},
   "source": [
    "#### GridSearch 결과 C=10, gamma=0.1일 때 모델의 정확도 가장 높음 (0.96)"
   ]
  }
 ],
 "metadata": {
  "kernelspec": {
   "display_name": "Python 3.10.5 64-bit",
   "language": "python",
   "name": "python3"
  },
  "language_info": {
   "codemirror_mode": {
    "name": "ipython",
    "version": 3
   },
   "file_extension": ".py",
   "mimetype": "text/x-python",
   "name": "python",
   "nbconvert_exporter": "python",
   "pygments_lexer": "ipython3",
   "version": "3.10.5"
  },
  "vscode": {
   "interpreter": {
    "hash": "e2ab4699a82da9ada95853d3c0abb8d0fd7cf10101d98483eced78fe436a9538"
   }
  }
 },
 "nbformat": 4,
 "nbformat_minor": 5
}
