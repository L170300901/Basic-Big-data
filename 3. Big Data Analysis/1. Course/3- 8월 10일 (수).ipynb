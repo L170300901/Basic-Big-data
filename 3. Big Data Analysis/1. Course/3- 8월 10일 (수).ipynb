{
 "cells": [
  {
   "cell_type": "code",
   "execution_count": 21,
   "metadata": {},
   "outputs": [],
   "source": [
    "import pandas as pd\n",
    "import numpy as np\n",
    "import matplotlib\n",
    "import matplotlib.pyplot as plt\n",
    "import seaborn as sns\n",
    "from statsmodels.formula.api import ols\n",
    "from statsmodels.api import qqplot, add_constant\n",
    "import statsmodels.formula.api as smf\n",
    "from statsmodels.stats.outliers_influence import variance_inflation_factor\n",
    "from sklearn.model_selection import train_test_split\n",
    "from sklearn.linear_model import LinearRegression\n",
    "from sklearn.feature_selection import RFE\n",
    "from sklearn.preprocessing import StandardScaler\n",
    "from statsmodels.tools.eval_measures import rmse\n",
    "from sklearn.metrics import r2_score\n",
    "from sklearn.linear_model import Ridge, Lasso, ElasticNet\n",
    "import os\n",
    "from sklearn.tree import DecisionTreeRegressor\n",
    "from sklearn.model_selection import GridSearchCV\n",
    "from sklearn.tree import export_graphviz\n",
    "# import graphviz\n",
    "\n",
    "from sklearn.ensemble import RandomForestRegressor as RFR\n",
    "\n",
    "from sklearn.ensemble import GradientBoostingRegressor as GBR\n",
    "\n",
    "#평가함수\n",
    "from sklearn.metrics import mean_squared_error\n",
    "from sklearn.metrics import mean_absolute_error"
   ]
  },
  {
   "cell_type": "code",
   "execution_count": 22,
   "metadata": {},
   "outputs": [],
   "source": [
    "# RMSE:root mean squared error 함수\n",
    "def root_mean_squared_error(y_true, y_pred):\n",
    "    return np.sqrt(mean_squared_error(y_true, y_pred))\n",
    "\n",
    "# MAPE:mean absolute percentage error 함수\n",
    "def mean_absolute_percentage_error(y_true, y_pred):\n",
    "    return np.mean(np.abs((y_true - y_pred) / y_true)) * 100\n"
   ]
  },
  {
   "cell_type": "code",
   "execution_count": 23,
   "metadata": {},
   "outputs": [
    {
     "data": {
      "text/html": [
       "<div>\n",
       "<style scoped>\n",
       "    .dataframe tbody tr th:only-of-type {\n",
       "        vertical-align: middle;\n",
       "    }\n",
       "\n",
       "    .dataframe tbody tr th {\n",
       "        vertical-align: top;\n",
       "    }\n",
       "\n",
       "    .dataframe thead th {\n",
       "        text-align: right;\n",
       "    }\n",
       "</style>\n",
       "<table border=\"1\" class=\"dataframe\">\n",
       "  <thead>\n",
       "    <tr style=\"text-align: right;\">\n",
       "      <th></th>\n",
       "      <th>FAT</th>\n",
       "      <th>AGE</th>\n",
       "      <th>WEIGHT</th>\n",
       "      <th>HEIGHT</th>\n",
       "      <th>NECK</th>\n",
       "      <th>CHEST</th>\n",
       "      <th>ABDOMEN</th>\n",
       "      <th>HIP</th>\n",
       "      <th>THIGH</th>\n",
       "      <th>KNEE</th>\n",
       "      <th>ANKLE</th>\n",
       "      <th>BICEPS</th>\n",
       "      <th>FOREARM</th>\n",
       "      <th>WRIST</th>\n",
       "    </tr>\n",
       "  </thead>\n",
       "  <tbody>\n",
       "    <tr>\n",
       "      <th>0</th>\n",
       "      <td>35.2</td>\n",
       "      <td>46</td>\n",
       "      <td>363.15</td>\n",
       "      <td>72.25</td>\n",
       "      <td>51.2</td>\n",
       "      <td>136.2</td>\n",
       "      <td>148.1</td>\n",
       "      <td>147.7</td>\n",
       "      <td>87.3</td>\n",
       "      <td>49.1</td>\n",
       "      <td>29.6</td>\n",
       "      <td>45.0</td>\n",
       "      <td>29.0</td>\n",
       "      <td>21.4</td>\n",
       "    </tr>\n",
       "    <tr>\n",
       "      <th>1</th>\n",
       "      <td>11.8</td>\n",
       "      <td>27</td>\n",
       "      <td>168.00</td>\n",
       "      <td>71.25</td>\n",
       "      <td>38.1</td>\n",
       "      <td>93.0</td>\n",
       "      <td>79.1</td>\n",
       "      <td>94.5</td>\n",
       "      <td>57.3</td>\n",
       "      <td>36.2</td>\n",
       "      <td>24.5</td>\n",
       "      <td>29.0</td>\n",
       "      <td>30.0</td>\n",
       "      <td>18.8</td>\n",
       "    </tr>\n",
       "    <tr>\n",
       "      <th>2</th>\n",
       "      <td>22.2</td>\n",
       "      <td>69</td>\n",
       "      <td>177.75</td>\n",
       "      <td>68.50</td>\n",
       "      <td>38.7</td>\n",
       "      <td>102.0</td>\n",
       "      <td>95.0</td>\n",
       "      <td>98.3</td>\n",
       "      <td>55.0</td>\n",
       "      <td>38.3</td>\n",
       "      <td>21.8</td>\n",
       "      <td>30.8</td>\n",
       "      <td>25.7</td>\n",
       "      <td>18.8</td>\n",
       "    </tr>\n",
       "    <tr>\n",
       "      <th>3</th>\n",
       "      <td>10.6</td>\n",
       "      <td>57</td>\n",
       "      <td>147.75</td>\n",
       "      <td>65.75</td>\n",
       "      <td>35.2</td>\n",
       "      <td>99.6</td>\n",
       "      <td>86.4</td>\n",
       "      <td>90.1</td>\n",
       "      <td>53.0</td>\n",
       "      <td>35.0</td>\n",
       "      <td>21.3</td>\n",
       "      <td>31.7</td>\n",
       "      <td>27.3</td>\n",
       "      <td>16.9</td>\n",
       "    </tr>\n",
       "    <tr>\n",
       "      <th>4</th>\n",
       "      <td>47.5</td>\n",
       "      <td>51</td>\n",
       "      <td>219.00</td>\n",
       "      <td>64.00</td>\n",
       "      <td>41.2</td>\n",
       "      <td>119.8</td>\n",
       "      <td>122.1</td>\n",
       "      <td>112.8</td>\n",
       "      <td>62.5</td>\n",
       "      <td>36.9</td>\n",
       "      <td>23.6</td>\n",
       "      <td>34.7</td>\n",
       "      <td>29.1</td>\n",
       "      <td>18.4</td>\n",
       "    </tr>\n",
       "  </tbody>\n",
       "</table>\n",
       "</div>"
      ],
      "text/plain": [
       "    FAT  AGE  WEIGHT  HEIGHT  NECK  CHEST  ABDOMEN    HIP  THIGH  KNEE  ANKLE  \\\n",
       "0  35.2   46  363.15   72.25  51.2  136.2    148.1  147.7   87.3  49.1   29.6   \n",
       "1  11.8   27  168.00   71.25  38.1   93.0     79.1   94.5   57.3  36.2   24.5   \n",
       "2  22.2   69  177.75   68.50  38.7  102.0     95.0   98.3   55.0  38.3   21.8   \n",
       "3  10.6   57  147.75   65.75  35.2   99.6     86.4   90.1   53.0  35.0   21.3   \n",
       "4  47.5   51  219.00   64.00  41.2  119.8    122.1  112.8   62.5  36.9   23.6   \n",
       "\n",
       "   BICEPS  FOREARM  WRIST  \n",
       "0    45.0     29.0   21.4  \n",
       "1    29.0     30.0   18.8  \n",
       "2    30.8     25.7   18.8  \n",
       "3    31.7     27.3   16.9  \n",
       "4    34.7     29.1   18.4  "
      ]
     },
     "execution_count": 23,
     "metadata": {},
     "output_type": "execute_result"
    }
   ],
   "source": [
    "# 다주선형 회귀분석 \n",
    "\n",
    "df_raw = pd.read_csv(\"D:/data/2/체질검사.csv\")\n",
    "df_raw.head()"
   ]
  },
  {
   "cell_type": "code",
   "execution_count": 24,
   "metadata": {},
   "outputs": [],
   "source": [
    "df_raw_y = df_raw['FAT']\n",
    "df_raw_x = df_raw.drop('FAT', axis = 1, inplace = False)\n"
   ]
  },
  {
   "cell_type": "code",
   "execution_count": 27,
   "metadata": {},
   "outputs": [
    {
     "name": "stdout",
     "output_type": "stream",
     "text": [
      "train data size: (176, 14)\n",
      "train data size: (76, 14)\n"
     ]
    }
   ],
   "source": [
    "df_train, df_test = train_test_split(df_raw,test_size=0.3,random_state =1234)\n",
    "print('train data size: {}'.format(df_train.shape))\n",
    "print('train data size: {}'.format(df_test.shape))"
   ]
  },
  {
   "cell_type": "code",
   "execution_count": 28,
   "metadata": {},
   "outputs": [
    {
     "name": "stdout",
     "output_type": "stream",
     "text": [
      "train data X size:(176, 13)\n",
      "train data Y size:(176,)\n",
      "test data X size:(76, 13)\n",
      "test data Y size:(76,)\n"
     ]
    }
   ],
   "source": [
    "df_train_x, df_test_x, df_train_y, df_test_y = train_test_split(df_raw_x, df_raw_y,\n",
    "                                        test_size = 0.3, random_state =1234)\n",
    "\n",
    "print('train data X size:{}'.format(df_train_x.shape))\n",
    "print('train data Y size:{}'.format(df_train_y.shape))\n",
    "print('test data X size:{}'.format(df_test_x.shape))\n",
    "print('test data Y size:{}'.format(df_test_y.shape))"
   ]
  },
  {
   "cell_type": "code",
   "execution_count": 29,
   "metadata": {},
   "outputs": [
    {
     "name": "stdout",
     "output_type": "stream",
     "text": [
      "                            OLS Regression Results                            \n",
      "==============================================================================\n",
      "Dep. Variable:                    FAT   R-squared:                       0.751\n",
      "Model:                            OLS   Adj. R-squared:                  0.743\n",
      "Method:                 Least Squares   F-statistic:                     102.3\n",
      "Date:                Wed, 10 Aug 2022   Prob (F-statistic):           2.18e-49\n",
      "Time:                        13:31:13   Log-Likelihood:                -501.89\n",
      "No. Observations:                 176   AIC:                             1016.\n",
      "Df Residuals:                     170   BIC:                             1035.\n",
      "Df Model:                           5                                         \n",
      "Covariance Type:            nonrobust                                         \n",
      "==============================================================================\n",
      "                 coef    std err          t      P>|t|      [0.025      0.975]\n",
      "------------------------------------------------------------------------------\n",
      "Intercept      2.7817      7.302      0.381      0.704     -11.633      17.196\n",
      "HEIGHT        -0.2692      0.084     -3.199      0.002      -0.435      -0.103\n",
      "NECK          -0.6955      0.220     -3.166      0.002      -1.129      -0.262\n",
      "ABDOMEN        0.9280      0.064     14.407      0.000       0.801       1.055\n",
      "HIP           -0.3752      0.095     -3.964      0.000      -0.562      -0.188\n",
      "FOREARM        0.4564      0.212      2.153      0.033       0.038       0.875\n",
      "==============================================================================\n",
      "Omnibus:                        3.546   Durbin-Watson:                   1.946\n",
      "Prob(Omnibus):                  0.170   Jarque-Bera (JB):                2.888\n",
      "Skew:                           0.200   Prob(JB):                        0.236\n",
      "Kurtosis:                       2.517   Cond. No.                     3.65e+03\n",
      "==============================================================================\n",
      "\n",
      "Notes:\n",
      "[1] Standard Errors assume that the covariance matrix of the errors is correctly specified.\n",
      "[2] The condition number is large, 3.65e+03. This might indicate that there are\n",
      "strong multicollinearity or other numerical problems.\n"
     ]
    }
   ],
   "source": [
    "# 회귀 모델\n",
    "lr_model = smf.ols(formula = \"FAT ~ HEIGHT + NECK + ABDOMEN + HIP + FOREARM\", \n",
    "                   data = df_train)\n",
    "lr_result = lr_model.fit()\n",
    "print(lr_result.summary())\n"
   ]
  },
  {
   "cell_type": "code",
   "execution_count": 30,
   "metadata": {},
   "outputs": [
    {
     "name": "stdout",
     "output_type": "stream",
     "text": [
      "Score on training set:0.783\n",
      "Score on test set:0.570\n"
     ]
    }
   ],
   "source": [
    "# Decision Tree 모델\n",
    "dt_model=DecisionTreeRegressor(random_state=1234, min_samples_leaf = 8, \n",
    "                               min_samples_split = 20, max_depth = 4 )\n",
    "dt_model.fit(df_train_x, df_train_y)\n",
    "\n",
    "# Train 데이터 설명력\n",
    "print(\"Score on training set:{:.3f}\".format(dt_model.score(df_train_x,df_train_y)))\n",
    "\n",
    "# Test 데이터 설명력\n",
    "print(\"Score on test set:{:.3f}\".format(dt_model.score(df_test_x,df_test_y)))\n"
   ]
  },
  {
   "cell_type": "code",
   "execution_count": 31,
   "metadata": {},
   "outputs": [
    {
     "name": "stdout",
     "output_type": "stream",
     "text": [
      "Score on training set:0.825\n",
      "Score on test set:0.627\n"
     ]
    }
   ],
   "source": [
    "# Random Forest 모델\n",
    "rf_model=RandomForestRegressor(random_state=1234, n_estimators = 100, \n",
    "                               min_samples_leaf = 6, min_samples_split = 14, \n",
    "                               max_depth = 4)\n",
    "rf_model.fit(df_train_x, df_train_y)\n",
    "\n",
    "# Train 데이터 설명력\n",
    "print(\"Score on training set:{:.3f}\".format(rf_model.score(df_train_x,df_train_y)))\n",
    "\n",
    "# Test 데이터 설명력\n",
    "print(\"Score on test set:{:.3f}\".format(rf_model.score(df_test_x,df_test_y)))\n"
   ]
  },
  {
   "cell_type": "code",
   "execution_count": 34,
   "metadata": {},
   "outputs": [
    {
     "name": "stdout",
     "output_type": "stream",
     "text": [
      "Score on training set:0.900\n",
      "Score on test set:0.629\n"
     ]
    }
   ],
   "source": [
    "# Gradient Boosting 모델\n",
    "gb_model=GradientBoostingRegressor(random_state=1234, n_estimators = 30, \n",
    "                                   min_samples_leaf = 11, \n",
    "                                   min_samples_split = 22, \n",
    "                                   max_depth = 4, learning_rate = 0.1)\n",
    "gb_model.fit(df_train_x, df_train_y)\n",
    "\n",
    "# Train 데이터 설명력\n",
    "print(\"Score on training set:{:.3f}\".format(gb_model.score(df_train_x, df_train_y)))\n",
    "\n",
    "# Test 데이터 설명력\n",
    "print(\"Score on test set:{:.3f}\".format(gb_model.score(df_test_x, df_test_y)))\n"
   ]
  },
  {
   "cell_type": "code",
   "execution_count": 35,
   "metadata": {},
   "outputs": [],
   "source": [
    "models = ['회귀순석', '의사결정나무', '랜덤 포레스트','그래디언트 부스팅']\n",
    "mse, rmse, mae, mape = [], [], [], []"
   ]
  },
  {
   "cell_type": "code",
   "execution_count": 37,
   "metadata": {},
   "outputs": [],
   "source": [
    "#예측 \n",
    "lr_y_pred = lr_result.predict(df_test)\n",
    "\n",
    "#평가\n",
    "mse.append(mean_squared_error(df_test['FAT'],lr_y_pred))\n",
    "rmse.append(root_mean_squared_error(df_test['FAT'],lr_y_pred))\n",
    "mae.append(mean_absolute_percentage_error(df_test['FAT'],lr_y_pred))"
   ]
  },
  {
   "cell_type": "code",
   "execution_count": null,
   "metadata": {},
   "outputs": [],
   "source": []
  }
 ],
 "metadata": {
  "kernelspec": {
   "display_name": "test",
   "language": "python",
   "name": "conda"
  },
  "language_info": {
   "codemirror_mode": {
    "name": "ipython",
    "version": 3
   },
   "file_extension": ".py",
   "mimetype": "text/x-python",
   "name": "python",
   "nbconvert_exporter": "python",
   "pygments_lexer": "ipython3",
   "version": "3.9.12"
  },
  "orig_nbformat": 4,
  "vscode": {
   "interpreter": {
    "hash": "bcf133dd10046e8115637e1e9c9f5573549979c0784612046b79a45b13aa7b7e"
   }
  }
 },
 "nbformat": 4,
 "nbformat_minor": 2
}
