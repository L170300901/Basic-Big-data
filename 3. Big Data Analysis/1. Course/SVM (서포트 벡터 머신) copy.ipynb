{
 "cells": [
  {
   "cell_type": "markdown",
   "id": "eb5b3396",
   "metadata": {},
   "source": [
    "# SVM"
   ]
  },
  {
   "cell_type": "code",
   "execution_count": 1,
   "id": "71225747",
   "metadata": {},
   "outputs": [],
   "source": [
    "# 데이터 구성 : Series, DataFrame\n",
    "import pandas as pd\n",
    "import numpy as np\n",
    "# 데이터 시각화, 한글폰트\n",
    "import matplotlib.pyplot as plt\n",
    "import matplotlib\n",
    "matplotlib.rc('font', family = 'Malgun Gothic')\n",
    "\n",
    "# scaling\n",
    "from sklearn.preprocessing import StandardScaler\n",
    "# data split\n",
    "from sklearn.model_selection import train_test_split\n",
    "# SVM\n",
    "from sklearn.svm import SVC\n",
    "# 최적 모델, 파라미터 탐색\n",
    "from sklearn.model_selection import GridSearchCV\n",
    "\n",
    "# 분류모델 평가 함수\n",
    "from sklearn.metrics import accuracy_score, f1_score\n",
    "from sklearn.metrics import confusion_matrix, classification_report"
   ]
  },
  {
   "cell_type": "markdown",
   "id": "9e281c83",
   "metadata": {},
   "source": []
  },
  {
   "cell_type": "markdown",
   "id": "ebf25bb3",
   "metadata": {},
   "source": [
    "#### 데이터 구성하기"
   ]
  },
  {
   "cell_type": "code",
   "execution_count": 2,
   "id": "7aada293",
   "metadata": {},
   "outputs": [
    {
     "data": {
      "text/html": [
       "<div>\n",
       "<style scoped>\n",
       "    .dataframe tbody tr th:only-of-type {\n",
       "        vertical-align: middle;\n",
       "    }\n",
       "\n",
       "    .dataframe tbody tr th {\n",
       "        vertical-align: top;\n",
       "    }\n",
       "\n",
       "    .dataframe thead th {\n",
       "        text-align: right;\n",
       "    }\n",
       "</style>\n",
       "<table border=\"1\" class=\"dataframe\">\n",
       "  <thead>\n",
       "    <tr style=\"text-align: right;\">\n",
       "      <th></th>\n",
       "      <th>CHURN</th>\n",
       "      <th>CUSTOMER_ID</th>\n",
       "      <th>GENDER</th>\n",
       "      <th>AGE</th>\n",
       "      <th>CHARGE_TYPE</th>\n",
       "      <th>HANDSET</th>\n",
       "      <th>USAGE_BAND</th>\n",
       "      <th>SERVICE_DURATION</th>\n",
       "      <th>DROPPED_CALLS</th>\n",
       "      <th>PEAK_CALLS_NO</th>\n",
       "      <th>PEAK_CALLS_TIME</th>\n",
       "      <th>WEEKEND_CALLS_NO</th>\n",
       "      <th>WEEKEND_CALLS_TIME</th>\n",
       "      <th>TOTAL_CALLS_NO</th>\n",
       "      <th>TOTAL_CALLS_TIME</th>\n",
       "    </tr>\n",
       "  </thead>\n",
       "  <tbody>\n",
       "    <tr>\n",
       "      <th>0</th>\n",
       "      <td>Active</td>\n",
       "      <td>K102990</td>\n",
       "      <td>F</td>\n",
       "      <td>31</td>\n",
       "      <td>CAT 100</td>\n",
       "      <td>ASAD170</td>\n",
       "      <td>Med</td>\n",
       "      <td>33.33</td>\n",
       "      <td>6</td>\n",
       "      <td>218</td>\n",
       "      <td>379.8</td>\n",
       "      <td>9</td>\n",
       "      <td>21.6</td>\n",
       "      <td>366</td>\n",
       "      <td>632.4</td>\n",
       "    </tr>\n",
       "    <tr>\n",
       "      <th>1</th>\n",
       "      <td>Active</td>\n",
       "      <td>K103280</td>\n",
       "      <td>M</td>\n",
       "      <td>27</td>\n",
       "      <td>CAT 100</td>\n",
       "      <td>S50</td>\n",
       "      <td>Med</td>\n",
       "      <td>30.87</td>\n",
       "      <td>10</td>\n",
       "      <td>373</td>\n",
       "      <td>656.4</td>\n",
       "      <td>11</td>\n",
       "      <td>28.0</td>\n",
       "      <td>411</td>\n",
       "      <td>810.4</td>\n",
       "    </tr>\n",
       "    <tr>\n",
       "      <th>2</th>\n",
       "      <td>Active</td>\n",
       "      <td>K103660</td>\n",
       "      <td>M</td>\n",
       "      <td>27</td>\n",
       "      <td>CAT 100</td>\n",
       "      <td>ASAD170</td>\n",
       "      <td>Med</td>\n",
       "      <td>49.40</td>\n",
       "      <td>11</td>\n",
       "      <td>260</td>\n",
       "      <td>582.0</td>\n",
       "      <td>0</td>\n",
       "      <td>0.0</td>\n",
       "      <td>265</td>\n",
       "      <td>614.1</td>\n",
       "    </tr>\n",
       "    <tr>\n",
       "      <th>3</th>\n",
       "      <td>Active</td>\n",
       "      <td>K103730</td>\n",
       "      <td>M</td>\n",
       "      <td>61</td>\n",
       "      <td>CAT 100</td>\n",
       "      <td>ASAD170</td>\n",
       "      <td>Med</td>\n",
       "      <td>48.60</td>\n",
       "      <td>1</td>\n",
       "      <td>294</td>\n",
       "      <td>661.8</td>\n",
       "      <td>14</td>\n",
       "      <td>101.5</td>\n",
       "      <td>326</td>\n",
       "      <td>844.0</td>\n",
       "    </tr>\n",
       "    <tr>\n",
       "      <th>4</th>\n",
       "      <td>Active</td>\n",
       "      <td>K104560</td>\n",
       "      <td>F</td>\n",
       "      <td>52</td>\n",
       "      <td>CAT 100</td>\n",
       "      <td>S50</td>\n",
       "      <td>Med</td>\n",
       "      <td>56.03</td>\n",
       "      <td>0</td>\n",
       "      <td>221</td>\n",
       "      <td>555.6</td>\n",
       "      <td>7</td>\n",
       "      <td>25.0</td>\n",
       "      <td>274</td>\n",
       "      <td>673.0</td>\n",
       "    </tr>\n",
       "    <tr>\n",
       "      <th>...</th>\n",
       "      <td>...</td>\n",
       "      <td>...</td>\n",
       "      <td>...</td>\n",
       "      <td>...</td>\n",
       "      <td>...</td>\n",
       "      <td>...</td>\n",
       "      <td>...</td>\n",
       "      <td>...</td>\n",
       "      <td>...</td>\n",
       "      <td>...</td>\n",
       "      <td>...</td>\n",
       "      <td>...</td>\n",
       "      <td>...</td>\n",
       "      <td>...</td>\n",
       "      <td>...</td>\n",
       "    </tr>\n",
       "    <tr>\n",
       "      <th>925</th>\n",
       "      <td>Churned</td>\n",
       "      <td>K413330</td>\n",
       "      <td>M</td>\n",
       "      <td>19</td>\n",
       "      <td>Play 100</td>\n",
       "      <td>SOP10</td>\n",
       "      <td>Med</td>\n",
       "      <td>17.40</td>\n",
       "      <td>12</td>\n",
       "      <td>60</td>\n",
       "      <td>100.8</td>\n",
       "      <td>27</td>\n",
       "      <td>59.4</td>\n",
       "      <td>127</td>\n",
       "      <td>628.2</td>\n",
       "    </tr>\n",
       "    <tr>\n",
       "      <th>926</th>\n",
       "      <td>Churned</td>\n",
       "      <td>K413410</td>\n",
       "      <td>F</td>\n",
       "      <td>59</td>\n",
       "      <td>Play 100</td>\n",
       "      <td>SOP20</td>\n",
       "      <td>Med</td>\n",
       "      <td>17.37</td>\n",
       "      <td>15</td>\n",
       "      <td>82</td>\n",
       "      <td>130.2</td>\n",
       "      <td>12</td>\n",
       "      <td>25.8</td>\n",
       "      <td>357</td>\n",
       "      <td>650.7</td>\n",
       "    </tr>\n",
       "    <tr>\n",
       "      <th>927</th>\n",
       "      <td>Churned</td>\n",
       "      <td>K415490</td>\n",
       "      <td>F</td>\n",
       "      <td>33</td>\n",
       "      <td>Play 300</td>\n",
       "      <td>S50</td>\n",
       "      <td>Med</td>\n",
       "      <td>44.93</td>\n",
       "      <td>12</td>\n",
       "      <td>174</td>\n",
       "      <td>286.2</td>\n",
       "      <td>25</td>\n",
       "      <td>67.0</td>\n",
       "      <td>596</td>\n",
       "      <td>1039.0</td>\n",
       "    </tr>\n",
       "    <tr>\n",
       "      <th>928</th>\n",
       "      <td>Churned</td>\n",
       "      <td>K415880</td>\n",
       "      <td>F</td>\n",
       "      <td>25</td>\n",
       "      <td>Play 300</td>\n",
       "      <td>S50</td>\n",
       "      <td>Med</td>\n",
       "      <td>40.43</td>\n",
       "      <td>14</td>\n",
       "      <td>315</td>\n",
       "      <td>552.0</td>\n",
       "      <td>0</td>\n",
       "      <td>0.0</td>\n",
       "      <td>609</td>\n",
       "      <td>1188.3</td>\n",
       "    </tr>\n",
       "    <tr>\n",
       "      <th>929</th>\n",
       "      <td>Churned</td>\n",
       "      <td>K416650</td>\n",
       "      <td>F</td>\n",
       "      <td>30</td>\n",
       "      <td>Play 300</td>\n",
       "      <td>SOP10</td>\n",
       "      <td>Med</td>\n",
       "      <td>31.47</td>\n",
       "      <td>12</td>\n",
       "      <td>16</td>\n",
       "      <td>306.6</td>\n",
       "      <td>37</td>\n",
       "      <td>109.8</td>\n",
       "      <td>367</td>\n",
       "      <td>957.0</td>\n",
       "    </tr>\n",
       "  </tbody>\n",
       "</table>\n",
       "<p>930 rows × 15 columns</p>\n",
       "</div>"
      ],
      "text/plain": [
       "       CHURN CUSTOMER_ID GENDER  AGE CHARGE_TYPE  HANDSET USAGE_BAND  \\\n",
       "0     Active     K102990      F   31     CAT 100  ASAD170        Med   \n",
       "1     Active     K103280      M   27     CAT 100      S50        Med   \n",
       "2     Active     K103660      M   27     CAT 100  ASAD170        Med   \n",
       "3     Active     K103730      M   61     CAT 100  ASAD170        Med   \n",
       "4     Active     K104560      F   52     CAT 100      S50        Med   \n",
       "..       ...         ...    ...  ...         ...      ...        ...   \n",
       "925  Churned     K413330      M   19    Play 100    SOP10        Med   \n",
       "926  Churned     K413410      F   59    Play 100    SOP20        Med   \n",
       "927  Churned     K415490      F   33    Play 300      S50        Med   \n",
       "928  Churned     K415880      F   25    Play 300      S50        Med   \n",
       "929  Churned     K416650      F   30    Play 300    SOP10        Med   \n",
       "\n",
       "     SERVICE_DURATION  DROPPED_CALLS  PEAK_CALLS_NO  PEAK_CALLS_TIME  \\\n",
       "0               33.33              6            218            379.8   \n",
       "1               30.87             10            373            656.4   \n",
       "2               49.40             11            260            582.0   \n",
       "3               48.60              1            294            661.8   \n",
       "4               56.03              0            221            555.6   \n",
       "..                ...            ...            ...              ...   \n",
       "925             17.40             12             60            100.8   \n",
       "926             17.37             15             82            130.2   \n",
       "927             44.93             12            174            286.2   \n",
       "928             40.43             14            315            552.0   \n",
       "929             31.47             12             16            306.6   \n",
       "\n",
       "     WEEKEND_CALLS_NO  WEEKEND_CALLS_TIME  TOTAL_CALLS_NO  TOTAL_CALLS_TIME  \n",
       "0                   9                21.6             366             632.4  \n",
       "1                  11                28.0             411             810.4  \n",
       "2                   0                 0.0             265             614.1  \n",
       "3                  14               101.5             326             844.0  \n",
       "4                   7                25.0             274             673.0  \n",
       "..                ...                 ...             ...               ...  \n",
       "925                27                59.4             127             628.2  \n",
       "926                12                25.8             357             650.7  \n",
       "927                25                67.0             596            1039.0  \n",
       "928                 0                 0.0             609            1188.3  \n",
       "929                37               109.8             367             957.0  \n",
       "\n",
       "[930 rows x 15 columns]"
      ]
     },
     "execution_count": 2,
     "metadata": {},
     "output_type": "execute_result"
    }
   ],
   "source": [
    "df_raw = pd.read_csv(\"D:/data/2/통신고객이탈.csv\",encoding='euc-kr')\n",
    "df_raw"
   ]
  },
  {
   "cell_type": "markdown",
   "id": "5e5022d4",
   "metadata": {},
   "source": [
    "#### 결측치 처리"
   ]
  },
  {
   "cell_type": "code",
   "execution_count": 3,
   "id": "b631eca2",
   "metadata": {},
   "outputs": [
    {
     "data": {
      "text/plain": [
       "CHURN                 0\n",
       "CUSTOMER_ID           0\n",
       "GENDER                0\n",
       "AGE                   0\n",
       "CHARGE_TYPE           0\n",
       "HANDSET               0\n",
       "USAGE_BAND            0\n",
       "SERVICE_DURATION      0\n",
       "DROPPED_CALLS         0\n",
       "PEAK_CALLS_NO         0\n",
       "PEAK_CALLS_TIME       0\n",
       "WEEKEND_CALLS_NO      0\n",
       "WEEKEND_CALLS_TIME    0\n",
       "TOTAL_CALLS_NO        0\n",
       "TOTAL_CALLS_TIME      0\n",
       "dtype: int64"
      ]
     },
     "execution_count": 3,
     "metadata": {},
     "output_type": "execute_result"
    }
   ],
   "source": [
    "# 데이터 구성하기 - 결측치 처리\n",
    "df_raw.isnull().sum()"
   ]
  },
  {
   "cell_type": "code",
   "execution_count": 4,
   "id": "c6033b56",
   "metadata": {},
   "outputs": [
    {
     "data": {
      "text/plain": [
       "<AxesSubplot:>"
      ]
     },
     "execution_count": 4,
     "metadata": {},
     "output_type": "execute_result"
    },
    {
     "data": {
      "image/png": "[encoded data removed]",
      "text/plain": [
       "<Figure size 432x288 with 1 Axes>"
      ]
     },
     "metadata": {
      "needs_background": "light"
     },
     "output_type": "display_data"
    }
   ],
   "source": [
    "df_raw.boxplot()"
   ]
  },
  {
   "cell_type": "code",
   "execution_count": 5,
   "id": "f4a4d28e",
   "metadata": {},
   "outputs": [
    {
     "data": {
      "text/plain": [
       "<AxesSubplot:>"
      ]
     },
     "execution_count": 5,
     "metadata": {},
     "output_type": "execute_result"
    },
    {
     "data": {
      "image/png": "[encoded data removed]",
      "text/plain": [
       "<Figure size 640x480 with 1 Axes>"
      ]
     },
     "metadata": {},
     "output_type": "display_data"
    }
   ],
   "source": [
    "#이상치 제거\n",
    "df_raw = df_raw[df_raw[\"TOTAL_CALLS_TIME\"]<3000] \n",
    "df_raw.boxplot()"
   ]
  },
  {
   "cell_type": "markdown",
   "id": "b5bded90",
   "metadata": {},
   "source": [
    "#### 더미변수 생성"
   ]
  },
  {
   "cell_type": "code",
   "execution_count": 6,
   "id": "d0999065",
   "metadata": {},
   "outputs": [
    {
     "data": {
      "text/html": [
       "<div>\n",
       "<style scoped>\n",
       "    .dataframe tbody tr th:only-of-type {\n",
       "        vertical-align: middle;\n",
       "    }\n",
       "\n",
       "    .dataframe tbody tr th {\n",
       "        vertical-align: top;\n",
       "    }\n",
       "\n",
       "    .dataframe thead th {\n",
       "        text-align: right;\n",
       "    }\n",
       "</style>\n",
       "<table border=\"1\" class=\"dataframe\">\n",
       "  <thead>\n",
       "    <tr style=\"text-align: right;\">\n",
       "      <th></th>\n",
       "      <th>AGE</th>\n",
       "      <th>SERVICE_DURATION</th>\n",
       "      <th>DROPPED_CALLS</th>\n",
       "      <th>PEAK_CALLS_NO</th>\n",
       "      <th>PEAK_CALLS_TIME</th>\n",
       "      <th>WEEKEND_CALLS_NO</th>\n",
       "      <th>WEEKEND_CALLS_TIME</th>\n",
       "      <th>TOTAL_CALLS_NO</th>\n",
       "      <th>TOTAL_CALLS_TIME</th>\n",
       "      <th>CHURN_Active</th>\n",
       "      <th>...</th>\n",
       "      <th>HANDSET_S80</th>\n",
       "      <th>HANDSET_SOP10</th>\n",
       "      <th>HANDSET_SOP20</th>\n",
       "      <th>HANDSET_WC95</th>\n",
       "      <th>USAGE_BAND_High</th>\n",
       "      <th>USAGE_BAND_Low</th>\n",
       "      <th>USAGE_BAND_Med</th>\n",
       "      <th>USAGE_BAND_MedHigh</th>\n",
       "      <th>USAGE_BAND_MedLow</th>\n",
       "      <th>USAGE_BAND_None</th>\n",
       "    </tr>\n",
       "  </thead>\n",
       "  <tbody>\n",
       "    <tr>\n",
       "      <th>0</th>\n",
       "      <td>31</td>\n",
       "      <td>33.33</td>\n",
       "      <td>6</td>\n",
       "      <td>218</td>\n",
       "      <td>379.8</td>\n",
       "      <td>9</td>\n",
       "      <td>21.6</td>\n",
       "      <td>366</td>\n",
       "      <td>632.4</td>\n",
       "      <td>1</td>\n",
       "      <td>...</td>\n",
       "      <td>0</td>\n",
       "      <td>0</td>\n",
       "      <td>0</td>\n",
       "      <td>0</td>\n",
       "      <td>0</td>\n",
       "      <td>0</td>\n",
       "      <td>1</td>\n",
       "      <td>0</td>\n",
       "      <td>0</td>\n",
       "      <td>0</td>\n",
       "    </tr>\n",
       "    <tr>\n",
       "      <th>1</th>\n",
       "      <td>27</td>\n",
       "      <td>30.87</td>\n",
       "      <td>10</td>\n",
       "      <td>373</td>\n",
       "      <td>656.4</td>\n",
       "      <td>11</td>\n",
       "      <td>28.0</td>\n",
       "      <td>411</td>\n",
       "      <td>810.4</td>\n",
       "      <td>1</td>\n",
       "      <td>...</td>\n",
       "      <td>0</td>\n",
       "      <td>0</td>\n",
       "      <td>0</td>\n",
       "      <td>0</td>\n",
       "      <td>0</td>\n",
       "      <td>0</td>\n",
       "      <td>1</td>\n",
       "      <td>0</td>\n",
       "      <td>0</td>\n",
       "      <td>0</td>\n",
       "    </tr>\n",
       "    <tr>\n",
       "      <th>2</th>\n",
       "      <td>27</td>\n",
       "      <td>49.40</td>\n",
       "      <td>11</td>\n",
       "      <td>260</td>\n",
       "      <td>582.0</td>\n",
       "      <td>0</td>\n",
       "      <td>0.0</td>\n",
       "      <td>265</td>\n",
       "      <td>614.1</td>\n",
       "      <td>1</td>\n",
       "      <td>...</td>\n",
       "      <td>0</td>\n",
       "      <td>0</td>\n",
       "      <td>0</td>\n",
       "      <td>0</td>\n",
       "      <td>0</td>\n",
       "      <td>0</td>\n",
       "      <td>1</td>\n",
       "      <td>0</td>\n",
       "      <td>0</td>\n",
       "      <td>0</td>\n",
       "    </tr>\n",
       "    <tr>\n",
       "      <th>3</th>\n",
       "      <td>61</td>\n",
       "      <td>48.60</td>\n",
       "      <td>1</td>\n",
       "      <td>294</td>\n",
       "      <td>661.8</td>\n",
       "      <td>14</td>\n",
       "      <td>101.5</td>\n",
       "      <td>326</td>\n",
       "      <td>844.0</td>\n",
       "      <td>1</td>\n",
       "      <td>...</td>\n",
       "      <td>0</td>\n",
       "      <td>0</td>\n",
       "      <td>0</td>\n",
       "      <td>0</td>\n",
       "      <td>0</td>\n",
       "      <td>0</td>\n",
       "      <td>1</td>\n",
       "      <td>0</td>\n",
       "      <td>0</td>\n",
       "      <td>0</td>\n",
       "    </tr>\n",
       "    <tr>\n",
       "      <th>4</th>\n",
       "      <td>52</td>\n",
       "      <td>56.03</td>\n",
       "      <td>0</td>\n",
       "      <td>221</td>\n",
       "      <td>555.6</td>\n",
       "      <td>7</td>\n",
       "      <td>25.0</td>\n",
       "      <td>274</td>\n",
       "      <td>673.0</td>\n",
       "      <td>1</td>\n",
       "      <td>...</td>\n",
       "      <td>0</td>\n",
       "      <td>0</td>\n",
       "      <td>0</td>\n",
       "      <td>0</td>\n",
       "      <td>0</td>\n",
       "      <td>0</td>\n",
       "      <td>1</td>\n",
       "      <td>0</td>\n",
       "      <td>0</td>\n",
       "      <td>0</td>\n",
       "    </tr>\n",
       "  </tbody>\n",
       "</table>\n",
       "<p>5 rows × 964 columns</p>\n",
       "</div>"
      ],
      "text/plain": [
       "   AGE  SERVICE_DURATION  DROPPED_CALLS  PEAK_CALLS_NO  PEAK_CALLS_TIME  \\\n",
       "0   31             33.33              6            218            379.8   \n",
       "1   27             30.87             10            373            656.4   \n",
       "2   27             49.40             11            260            582.0   \n",
       "3   61             48.60              1            294            661.8   \n",
       "4   52             56.03              0            221            555.6   \n",
       "\n",
       "   WEEKEND_CALLS_NO  WEEKEND_CALLS_TIME  TOTAL_CALLS_NO  TOTAL_CALLS_TIME  \\\n",
       "0                 9                21.6             366             632.4   \n",
       "1                11                28.0             411             810.4   \n",
       "2                 0                 0.0             265             614.1   \n",
       "3                14               101.5             326             844.0   \n",
       "4                 7                25.0             274             673.0   \n",
       "\n",
       "   CHURN_Active  ...  HANDSET_S80  HANDSET_SOP10  HANDSET_SOP20  HANDSET_WC95  \\\n",
       "0             1  ...            0              0              0             0   \n",
       "1             1  ...            0              0              0             0   \n",
       "2             1  ...            0              0              0             0   \n",
       "3             1  ...            0              0              0             0   \n",
       "4             1  ...            0              0              0             0   \n",
       "\n",
       "   USAGE_BAND_High  USAGE_BAND_Low  USAGE_BAND_Med  USAGE_BAND_MedHigh  \\\n",
       "0                0               0               1                   0   \n",
       "1                0               0               1                   0   \n",
       "2                0               0               1                   0   \n",
       "3                0               0               1                   0   \n",
       "4                0               0               1                   0   \n",
       "\n",
       "   USAGE_BAND_MedLow  USAGE_BAND_None  \n",
       "0                  0                0  \n",
       "1                  0                0  \n",
       "2                  0                0  \n",
       "3                  0                0  \n",
       "4                  0                0  \n",
       "\n",
       "[5 rows x 964 columns]"
      ]
     },
     "execution_count": 6,
     "metadata": {},
     "output_type": "execute_result"
    }
   ],
   "source": [
    "# 데이터 구성하기 - 더미변수 생성\n",
    "# 더미변수 생성\n",
    "df_raw_dummy = pd.get_dummies(df_raw)\n",
    "df_raw_dummy.head()"
   ]
  },
  {
   "cell_type": "code",
   "execution_count": 7,
   "id": "95a7f371",
   "metadata": {},
   "outputs": [
    {
     "name": "stdout",
     "output_type": "stream",
     "text": [
      "분할 전 설명변수 데이터: (929, 963)\n",
      "분할 후 설명변수 데이터:Train (650, 963) Test (279, 963)\n"
     ]
    }
   ],
   "source": [
    "# 데이터 구성하기 - 데이터 분할\n",
    "# 설명변수, 목표변수 데이터 구분\n",
    "df_raw_x = df_raw_dummy.drop('CHURN_Active', axis=1 ,inplace=False)\n",
    "df_raw_y = df_raw_dummy['CHURN_Active']\n",
    "\n",
    "df_train_x, df_test_x, df_train_y, df_test_y = train_test_split(\n",
    "    df_raw_x, df_raw_y, test_size=0.3, random_state=1234)\n",
    "\n",
    "print('분할 전 설명변수 데이터:', df_raw_x.shape)\n",
    "print('분할 후 설명변수 데이터:Train', df_train_x.shape, 'Test',df_test_x.shape)"
   ]
  },
  {
   "cell_type": "markdown",
   "id": "c08f73a9",
   "metadata": {},
   "source": [
    "## SVC 모델 생성 - 기본 옵션으로 모델 생성"
   ]
  },
  {
   "cell_type": "code",
   "execution_count": 8,
   "id": "79fb5af8",
   "metadata": {},
   "outputs": [
    {
     "name": "stdout",
     "output_type": "stream",
     "text": [
      "Accuracy on training set: 0.794\n",
      "Accuracy on test set: 0.835\n"
     ]
    }
   ],
   "source": [
    "svm_uncustomized = SVC(random_state = 1234)\n",
    "svm_uncustomized.fit(df_train_x, df_train_y)\n",
    "# train 데이터 셋 정확도\n",
    "print('Accuracy on training set: {:.3f}'.format(svm_uncustomized.score(df_train_x, df_train_y)))\n",
    "# test데이터 정확도\n",
    "print('Accuracy on test set: {:.3f}'.format(svm_uncustomized.score(df_test_x, df_test_y)))"
   ]
  },
  {
   "cell_type": "markdown",
   "id": "8e5548f2",
   "metadata": {},
   "source": [
    "## SVC 모델 Parameter 변경 - C: 규제에 대한 강도 변경"
   ]
  },
  {
   "cell_type": "code",
   "execution_count": 9,
   "id": "d77c544d",
   "metadata": {},
   "outputs": [],
   "source": [
    "# train 및 test 정확도 결과 저장용\n",
    "train_accuracy = []; test_accuracy = []\n",
    "# c: 규제 (0.01, 0.1, 1 ,10)\n",
    "para_c = [10 **c for c in range(-2,2)]\n",
    "# para_c = [0.1 *c for c in range(1,10)] # C 변화 구간 변경\n",
    "\n",
    "for v_C in para_c:\n",
    "    svm = SVC(C = v_C, random_state = 1234)\n",
    "    svm.fit(df_train_x, df_train_y)\n",
    "    train_accuracy.append(svm.score(df_train_x, df_train_y))\n",
    "    test_accuracy.append(svm.score(df_test_x, df_test_y))\n",
    "    \n",
    "# 데이터 테이블로 저장\n",
    "df_accuracy_c = pd.DataFrame()\n",
    "df_accuracy_c[\"C\"] = para_c\n",
    "df_accuracy_c[\"TrainAccuracy\"] = train_accuracy\n",
    "df_accuracy_c[\"TestAccuracy\"] = test_accuracy"
   ]
  },
  {
   "cell_type": "code",
   "execution_count": 10,
   "id": "ad00dc5a",
   "metadata": {},
   "outputs": [
    {
     "data": {
      "text/html": [
       "<div>\n",
       "<style scoped>\n",
       "    .dataframe tbody tr th:only-of-type {\n",
       "        vertical-align: middle;\n",
       "    }\n",
       "\n",
       "    .dataframe tbody tr th {\n",
       "        vertical-align: top;\n",
       "    }\n",
       "\n",
       "    .dataframe thead th {\n",
       "        text-align: right;\n",
       "    }\n",
       "</style>\n",
       "<table border=\"1\" class=\"dataframe\">\n",
       "  <thead>\n",
       "    <tr style=\"text-align: right;\">\n",
       "      <th></th>\n",
       "      <th>C</th>\n",
       "      <th>TrainAccuracy</th>\n",
       "      <th>TestAccuracy</th>\n",
       "    </tr>\n",
       "  </thead>\n",
       "  <tbody>\n",
       "    <tr>\n",
       "      <th>0</th>\n",
       "      <td>0.01</td>\n",
       "      <td>0.794</td>\n",
       "      <td>0.835</td>\n",
       "    </tr>\n",
       "    <tr>\n",
       "      <th>1</th>\n",
       "      <td>0.10</td>\n",
       "      <td>0.794</td>\n",
       "      <td>0.835</td>\n",
       "    </tr>\n",
       "    <tr>\n",
       "      <th>2</th>\n",
       "      <td>1.00</td>\n",
       "      <td>0.794</td>\n",
       "      <td>0.835</td>\n",
       "    </tr>\n",
       "    <tr>\n",
       "      <th>3</th>\n",
       "      <td>10.00</td>\n",
       "      <td>0.794</td>\n",
       "      <td>0.835</td>\n",
       "    </tr>\n",
       "  </tbody>\n",
       "</table>\n",
       "</div>"
      ],
      "text/plain": [
       "       C  TrainAccuracy  TestAccuracy\n",
       "0   0.01          0.794         0.835\n",
       "1   0.10          0.794         0.835\n",
       "2   1.00          0.794         0.835\n",
       "3  10.00          0.794         0.835"
      ]
     },
     "execution_count": 10,
     "metadata": {},
     "output_type": "execute_result"
    }
   ],
   "source": [
    "# C별 정확도 테이블\n",
    "df_accuracy_c.round(3)"
   ]
  },
  {
   "cell_type": "code",
   "execution_count": 11,
   "id": "44769489",
   "metadata": {},
   "outputs": [
    {
     "data": {
      "text/plain": [
       "<matplotlib.legend.Legend at 0x233ed88f9a0>"
      ]
     },
     "execution_count": 11,
     "metadata": {},
     "output_type": "execute_result"
    },
    {
     "data": {
      "image/png": "[encoded data removed]",
      "text/plain": [
       "<Figure size 640x480 with 1 Axes>"
      ]
     },
     "metadata": {},
     "output_type": "display_data"
    }
   ],
   "source": [
    "# 모델 정확도 그래프 확인\n",
    "plt.plot(para_c, train_accuracy, linestyle = '-', label = 'Train Accuracy')\n",
    "plt.plot(para_c, test_accuracy, linestyle = '--', label = 'Test Accuracy')\n",
    "plt.ylabel('accuracy'); plt.xlabel('C')\n",
    "plt.legend()"
   ]
  },
  {
   "cell_type": "markdown",
   "id": "c48203ff",
   "metadata": {},
   "source": [
    "#### C가 1 이상이면 train 데이터 이용한 모델의 정확도는 1(과대적합) test 정확도는 변화 없음\n",
    "#### C가 0.1 ~ 1.0 변화 시 정확도 확인 필요"
   ]
  },
  {
   "cell_type": "code",
   "execution_count": 12,
   "id": "424185f7",
   "metadata": {},
   "outputs": [],
   "source": [
    "C = 0.1"
   ]
  },
  {
   "cell_type": "markdown",
   "id": "75a45780",
   "metadata": {},
   "source": [
    "## SVC 모델 Parameter 변경 - Gamma : 훈련 샘플이 미치는 영향의 범위를 변경"
   ]
  },
  {
   "cell_type": "code",
   "execution_count": 13,
   "id": "4616794e",
   "metadata": {},
   "outputs": [],
   "source": [
    "# train 및 test 정확도 결과 저장용\n",
    "train_accuracy = []; test_accuracy = []\n",
    "# gamma: 규제 (0.01, 0.1, 1 ,10)\n",
    "para_gamma = [10 **gamma for gamma in range(-2,2)]\n",
    "\n",
    "for v_gamma in para_gamma:\n",
    "    svm = SVC(gamma = v_gamma, C = 0.1, random_state = 1234)\n",
    "    svm.fit(df_train_x, df_train_y)\n",
    "    train_accuracy.append(svm.score(df_train_x, df_train_y))\n",
    "    test_accuracy.append(svm.score(df_test_x, df_test_y))\n",
    "    \n",
    "# 데이터 테이블로 저장\n",
    "df_accuracy_gamma = pd.DataFrame()\n",
    "df_accuracy_gamma[\"gamma\"] = para_gamma\n",
    "df_accuracy_gamma[\"TrainAccuracy\"] = train_accuracy\n",
    "df_accuracy_gamma[\"TestAccuracy\"] = test_accuracy"
   ]
  },
  {
   "cell_type": "code",
   "execution_count": 14,
   "id": "0db7bf31",
   "metadata": {},
   "outputs": [
    {
     "data": {
      "text/html": [
       "<div>\n",
       "<style scoped>\n",
       "    .dataframe tbody tr th:only-of-type {\n",
       "        vertical-align: middle;\n",
       "    }\n",
       "\n",
       "    .dataframe tbody tr th {\n",
       "        vertical-align: top;\n",
       "    }\n",
       "\n",
       "    .dataframe thead th {\n",
       "        text-align: right;\n",
       "    }\n",
       "</style>\n",
       "<table border=\"1\" class=\"dataframe\">\n",
       "  <thead>\n",
       "    <tr style=\"text-align: right;\">\n",
       "      <th></th>\n",
       "      <th>gamma</th>\n",
       "      <th>TrainAccuracy</th>\n",
       "      <th>TestAccuracy</th>\n",
       "    </tr>\n",
       "  </thead>\n",
       "  <tbody>\n",
       "    <tr>\n",
       "      <th>0</th>\n",
       "      <td>0.01</td>\n",
       "      <td>0.7938</td>\n",
       "      <td>0.8351</td>\n",
       "    </tr>\n",
       "    <tr>\n",
       "      <th>1</th>\n",
       "      <td>0.10</td>\n",
       "      <td>0.7938</td>\n",
       "      <td>0.8351</td>\n",
       "    </tr>\n",
       "    <tr>\n",
       "      <th>2</th>\n",
       "      <td>1.00</td>\n",
       "      <td>0.7938</td>\n",
       "      <td>0.8351</td>\n",
       "    </tr>\n",
       "    <tr>\n",
       "      <th>3</th>\n",
       "      <td>10.00</td>\n",
       "      <td>0.7938</td>\n",
       "      <td>0.8351</td>\n",
       "    </tr>\n",
       "  </tbody>\n",
       "</table>\n",
       "</div>"
      ],
      "text/plain": [
       "   gamma  TrainAccuracy  TestAccuracy\n",
       "0   0.01         0.7938        0.8351\n",
       "1   0.10         0.7938        0.8351\n",
       "2   1.00         0.7938        0.8351\n",
       "3  10.00         0.7938        0.8351"
      ]
     },
     "execution_count": 14,
     "metadata": {},
     "output_type": "execute_result"
    }
   ],
   "source": [
    "# Gamma별 정확도 테이블\n",
    "df_accuracy_gamma.round(4)"
   ]
  },
  {
   "cell_type": "code",
   "execution_count": 15,
   "id": "47c35b75",
   "metadata": {},
   "outputs": [
    {
     "data": {
      "text/plain": [
       "<matplotlib.legend.Legend at 0x233ed855ba0>"
      ]
     },
     "execution_count": 15,
     "metadata": {},
     "output_type": "execute_result"
    },
    {
     "data": {
      "image/png": "[encoded data removed]",
      "text/plain": [
       "<Figure size 640x480 with 1 Axes>"
      ]
     },
     "metadata": {},
     "output_type": "display_data"
    }
   ],
   "source": [
    "# 모델 정확도 그래프 확인\n",
    "plt.plot(para_gamma, train_accuracy, linestyle = '-', label = 'Train Accuracy')\n",
    "plt.plot(para_gamma, test_accuracy, linestyle = '--', label = 'Test Accuracy')\n",
    "plt.ylabel('accuracy'); plt.xlabel('gamma')\n",
    "plt.legend()"
   ]
  },
  {
   "cell_type": "markdown",
   "id": "ecdedcf0",
   "metadata": {},
   "source": [
    "#### gamma 변화는 정확도에 영향을 미치지 않음\n",
    "#### gamma 변화 구간을 변경하여 정확도 확인 가능"
   ]
  },
  {
   "cell_type": "code",
   "execution_count": null,
   "id": "1c23bb7c",
   "metadata": {},
   "outputs": [],
   "source": []
  },
  {
   "cell_type": "markdown",
   "id": "fa1cfb2a",
   "metadata": {},
   "source": [
    "## scale 변환 - Standardscaler : 설명변수 값의 구간을 동일하게"
   ]
  },
  {
   "cell_type": "code",
   "execution_count": 16,
   "id": "51a5a374",
   "metadata": {},
   "outputs": [
    {
     "data": {
      "text/html": [
       "<div>\n",
       "<style scoped>\n",
       "    .dataframe tbody tr th:only-of-type {\n",
       "        vertical-align: middle;\n",
       "    }\n",
       "\n",
       "    .dataframe tbody tr th {\n",
       "        vertical-align: top;\n",
       "    }\n",
       "\n",
       "    .dataframe thead th {\n",
       "        text-align: right;\n",
       "    }\n",
       "</style>\n",
       "<table border=\"1\" class=\"dataframe\">\n",
       "  <thead>\n",
       "    <tr style=\"text-align: right;\">\n",
       "      <th></th>\n",
       "      <th>AGE</th>\n",
       "      <th>SERVICE_DURATION</th>\n",
       "      <th>DROPPED_CALLS</th>\n",
       "      <th>PEAK_CALLS_NO</th>\n",
       "      <th>PEAK_CALLS_TIME</th>\n",
       "      <th>WEEKEND_CALLS_NO</th>\n",
       "      <th>WEEKEND_CALLS_TIME</th>\n",
       "      <th>TOTAL_CALLS_NO</th>\n",
       "      <th>TOTAL_CALLS_TIME</th>\n",
       "      <th>CHURN_Churned</th>\n",
       "      <th>...</th>\n",
       "      <th>HANDSET_S80</th>\n",
       "      <th>HANDSET_SOP10</th>\n",
       "      <th>HANDSET_SOP20</th>\n",
       "      <th>HANDSET_WC95</th>\n",
       "      <th>USAGE_BAND_High</th>\n",
       "      <th>USAGE_BAND_Low</th>\n",
       "      <th>USAGE_BAND_Med</th>\n",
       "      <th>USAGE_BAND_MedHigh</th>\n",
       "      <th>USAGE_BAND_MedLow</th>\n",
       "      <th>USAGE_BAND_None</th>\n",
       "    </tr>\n",
       "  </thead>\n",
       "  <tbody>\n",
       "    <tr>\n",
       "      <th>0</th>\n",
       "      <td>-0.030131</td>\n",
       "      <td>-0.071718</td>\n",
       "      <td>0.948412</td>\n",
       "      <td>-0.028119</td>\n",
       "      <td>-0.617014</td>\n",
       "      <td>-0.432961</td>\n",
       "      <td>-0.756230</td>\n",
       "      <td>0.084158</td>\n",
       "      <td>-0.784983</td>\n",
       "      <td>-0.490225</td>\n",
       "      <td>...</td>\n",
       "      <td>-0.456139</td>\n",
       "      <td>-0.109465</td>\n",
       "      <td>-0.104314</td>\n",
       "      <td>-0.374002</td>\n",
       "      <td>-0.267415</td>\n",
       "      <td>-0.128107</td>\n",
       "      <td>0.914313</td>\n",
       "      <td>-0.585223</td>\n",
       "      <td>-0.360791</td>\n",
       "      <td>-0.046449</td>\n",
       "    </tr>\n",
       "    <tr>\n",
       "      <th>1</th>\n",
       "      <td>-0.335220</td>\n",
       "      <td>-0.245352</td>\n",
       "      <td>2.090441</td>\n",
       "      <td>0.664374</td>\n",
       "      <td>-0.077600</td>\n",
       "      <td>-0.308183</td>\n",
       "      <td>-0.580807</td>\n",
       "      <td>0.265865</td>\n",
       "      <td>-0.457308</td>\n",
       "      <td>-0.490225</td>\n",
       "      <td>...</td>\n",
       "      <td>-0.456139</td>\n",
       "      <td>-0.109465</td>\n",
       "      <td>-0.104314</td>\n",
       "      <td>-0.374002</td>\n",
       "      <td>-0.267415</td>\n",
       "      <td>-0.128107</td>\n",
       "      <td>0.914313</td>\n",
       "      <td>-0.585223</td>\n",
       "      <td>-0.360791</td>\n",
       "      <td>-0.046449</td>\n",
       "    </tr>\n",
       "    <tr>\n",
       "      <th>2</th>\n",
       "      <td>-0.335220</td>\n",
       "      <td>1.062544</td>\n",
       "      <td>2.375948</td>\n",
       "      <td>0.159524</td>\n",
       "      <td>-0.222692</td>\n",
       "      <td>-0.994460</td>\n",
       "      <td>-1.348282</td>\n",
       "      <td>-0.323674</td>\n",
       "      <td>-0.818671</td>\n",
       "      <td>-0.490225</td>\n",
       "      <td>...</td>\n",
       "      <td>-0.456139</td>\n",
       "      <td>-0.109465</td>\n",
       "      <td>-0.104314</td>\n",
       "      <td>-0.374002</td>\n",
       "      <td>-0.267415</td>\n",
       "      <td>-0.128107</td>\n",
       "      <td>0.914313</td>\n",
       "      <td>-0.585223</td>\n",
       "      <td>-0.360791</td>\n",
       "      <td>-0.046449</td>\n",
       "    </tr>\n",
       "    <tr>\n",
       "      <th>3</th>\n",
       "      <td>2.258035</td>\n",
       "      <td>1.006078</td>\n",
       "      <td>-0.479123</td>\n",
       "      <td>0.311426</td>\n",
       "      <td>-0.067069</td>\n",
       "      <td>-0.121017</td>\n",
       "      <td>1.433814</td>\n",
       "      <td>-0.077360</td>\n",
       "      <td>-0.395454</td>\n",
       "      <td>-0.490225</td>\n",
       "      <td>...</td>\n",
       "      <td>-0.456139</td>\n",
       "      <td>-0.109465</td>\n",
       "      <td>-0.104314</td>\n",
       "      <td>-0.374002</td>\n",
       "      <td>-0.267415</td>\n",
       "      <td>-0.128107</td>\n",
       "      <td>0.914313</td>\n",
       "      <td>-0.585223</td>\n",
       "      <td>-0.360791</td>\n",
       "      <td>-0.046449</td>\n",
       "    </tr>\n",
       "    <tr>\n",
       "      <th>4</th>\n",
       "      <td>1.571585</td>\n",
       "      <td>1.530507</td>\n",
       "      <td>-0.764631</td>\n",
       "      <td>-0.014716</td>\n",
       "      <td>-0.274176</td>\n",
       "      <td>-0.557738</td>\n",
       "      <td>-0.663037</td>\n",
       "      <td>-0.287333</td>\n",
       "      <td>-0.710244</td>\n",
       "      <td>-0.490225</td>\n",
       "      <td>...</td>\n",
       "      <td>-0.456139</td>\n",
       "      <td>-0.109465</td>\n",
       "      <td>-0.104314</td>\n",
       "      <td>-0.374002</td>\n",
       "      <td>-0.267415</td>\n",
       "      <td>-0.128107</td>\n",
       "      <td>0.914313</td>\n",
       "      <td>-0.585223</td>\n",
       "      <td>-0.360791</td>\n",
       "      <td>-0.046449</td>\n",
       "    </tr>\n",
       "  </tbody>\n",
       "</table>\n",
       "<p>5 rows × 963 columns</p>\n",
       "</div>"
      ],
      "text/plain": [
       "        AGE  SERVICE_DURATION  DROPPED_CALLS  PEAK_CALLS_NO  PEAK_CALLS_TIME  \\\n",
       "0 -0.030131         -0.071718       0.948412      -0.028119        -0.617014   \n",
       "1 -0.335220         -0.245352       2.090441       0.664374        -0.077600   \n",
       "2 -0.335220          1.062544       2.375948       0.159524        -0.222692   \n",
       "3  2.258035          1.006078      -0.479123       0.311426        -0.067069   \n",
       "4  1.571585          1.530507      -0.764631      -0.014716        -0.274176   \n",
       "\n",
       "   WEEKEND_CALLS_NO  WEEKEND_CALLS_TIME  TOTAL_CALLS_NO  TOTAL_CALLS_TIME  \\\n",
       "0         -0.432961           -0.756230        0.084158         -0.784983   \n",
       "1         -0.308183           -0.580807        0.265865         -0.457308   \n",
       "2         -0.994460           -1.348282       -0.323674         -0.818671   \n",
       "3         -0.121017            1.433814       -0.077360         -0.395454   \n",
       "4         -0.557738           -0.663037       -0.287333         -0.710244   \n",
       "\n",
       "   CHURN_Churned  ...  HANDSET_S80  HANDSET_SOP10  HANDSET_SOP20  \\\n",
       "0      -0.490225  ...    -0.456139      -0.109465      -0.104314   \n",
       "1      -0.490225  ...    -0.456139      -0.109465      -0.104314   \n",
       "2      -0.490225  ...    -0.456139      -0.109465      -0.104314   \n",
       "3      -0.490225  ...    -0.456139      -0.109465      -0.104314   \n",
       "4      -0.490225  ...    -0.456139      -0.109465      -0.104314   \n",
       "\n",
       "   HANDSET_WC95  USAGE_BAND_High  USAGE_BAND_Low  USAGE_BAND_Med  \\\n",
       "0     -0.374002        -0.267415       -0.128107        0.914313   \n",
       "1     -0.374002        -0.267415       -0.128107        0.914313   \n",
       "2     -0.374002        -0.267415       -0.128107        0.914313   \n",
       "3     -0.374002        -0.267415       -0.128107        0.914313   \n",
       "4     -0.374002        -0.267415       -0.128107        0.914313   \n",
       "\n",
       "   USAGE_BAND_MedHigh  USAGE_BAND_MedLow  USAGE_BAND_None  \n",
       "0           -0.585223          -0.360791        -0.046449  \n",
       "1           -0.585223          -0.360791        -0.046449  \n",
       "2           -0.585223          -0.360791        -0.046449  \n",
       "3           -0.585223          -0.360791        -0.046449  \n",
       "4           -0.585223          -0.360791        -0.046449  \n",
       "\n",
       "[5 rows x 963 columns]"
      ]
     },
     "execution_count": 16,
     "metadata": {},
     "output_type": "execute_result"
    }
   ],
   "source": [
    "# 변수명 저장\n",
    "v_feature_name = df_train_x.columns\n",
    "# StandardScaler 적용\n",
    "scaler = StandardScaler()\n",
    "df_scaled = scaler.fit_transform(df_raw_x)\n",
    "df_scaled = pd.DataFrame(df_scaled, columns = v_feature_name)\n",
    "df_scaled.head()"
   ]
  },
  {
   "cell_type": "code",
   "execution_count": 17,
   "id": "32c3b7a9",
   "metadata": {},
   "outputs": [
    {
     "name": "stdout",
     "output_type": "stream",
     "text": [
      "train data X size: (650, 963)\n",
      "test data X size: (279, 963)\n"
     ]
    }
   ],
   "source": [
    "# 데이터 분할\n",
    "df_scaled_train_x, df_scaled_test_x = train_test_split(df_scaled, test_size = 0.3, random_state= 1234)\n",
    "print(\"train data X size: {}\".format(df_scaled_train_x.shape))\n",
    "print(\"test data X size: {}\".format(df_scaled_test_x.shape))"
   ]
  },
  {
   "cell_type": "markdown",
   "id": "1c99647a",
   "metadata": {},
   "source": [
    "## scale 조절 후 SVC 모델 재실행 - scale이 조정된 데이터로 새로운 모델 생성"
   ]
  },
  {
   "cell_type": "code",
   "execution_count": 18,
   "id": "f1ff8ebe",
   "metadata": {},
   "outputs": [
    {
     "name": "stdout",
     "output_type": "stream",
     "text": [
      "Accuracy on training set: 1.000\n",
      "Accuracy on test set: 0.835\n"
     ]
    }
   ],
   "source": [
    "svm_scaled = SVC(random_state= 1234)\n",
    "svm_scaled.fit(df_scaled_train_x, df_train_y)\n",
    "# train 데이터 셋 정확도\n",
    "print('Accuracy on training set: {:.3f}'.format(svm_scaled.score(df_scaled_train_x, df_train_y)))\n",
    "# test 데이터 셋 정확도\n",
    "print('Accuracy on test set: {:.3f}'.format(svm_scaled.score(df_scaled_test_x, df_test_y)))"
   ]
  },
  {
   "cell_type": "markdown",
   "id": "d4390552",
   "metadata": {},
   "source": [
    "#### sclae 조절 후 정확도가 올라간 것을 확인"
   ]
  },
  {
   "cell_type": "markdown",
   "id": "6e4c5570",
   "metadata": {},
   "source": [
    "## 새로운 SVC 모델 Parameter 변경 - C: 규제에 대한 강도 변경"
   ]
  },
  {
   "cell_type": "code",
   "execution_count": 19,
   "id": "9f5d40b2",
   "metadata": {},
   "outputs": [],
   "source": [
    "# train 및 test 정확도 결과 저장용\n",
    "train_accuracy = []; test_accuracy = []\n",
    "# c: 규제 (0.01, 0.1, 1 ,10)\n",
    "para_c = [10 **c for c in range(-2,2)]\n",
    "# para_c = [0.1 *c for c in range(1,10)] # C 변화 구간 변경\n",
    "\n",
    "for v_C in para_c:\n",
    "    svm = SVC(C = v_C, random_state = 1234)\n",
    "    svm.fit(df_scaled_train_x, df_train_y)\n",
    "    train_accuracy.append(svm.score(df_scaled_train_x, df_train_y))\n",
    "    test_accuracy.append(svm.score(df_scaled_test_x, df_test_y))\n",
    "    \n",
    "# 데이터 테이블로 저장\n",
    "df_accuracy_c = pd.DataFrame()\n",
    "df_accuracy_c[\"C\"] = para_c\n",
    "df_accuracy_c[\"TrainAccuracy\"] = train_accuracy\n",
    "df_accuracy_c[\"TestAccuracy\"] = test_accuracy"
   ]
  },
  {
   "cell_type": "code",
   "execution_count": 20,
   "id": "f578ec3a",
   "metadata": {},
   "outputs": [
    {
     "data": {
      "text/html": [
       "<div>\n",
       "<style scoped>\n",
       "    .dataframe tbody tr th:only-of-type {\n",
       "        vertical-align: middle;\n",
       "    }\n",
       "\n",
       "    .dataframe tbody tr th {\n",
       "        vertical-align: top;\n",
       "    }\n",
       "\n",
       "    .dataframe thead th {\n",
       "        text-align: right;\n",
       "    }\n",
       "</style>\n",
       "<table border=\"1\" class=\"dataframe\">\n",
       "  <thead>\n",
       "    <tr style=\"text-align: right;\">\n",
       "      <th></th>\n",
       "      <th>C</th>\n",
       "      <th>TrainAccuracy</th>\n",
       "      <th>TestAccuracy</th>\n",
       "    </tr>\n",
       "  </thead>\n",
       "  <tbody>\n",
       "    <tr>\n",
       "      <th>0</th>\n",
       "      <td>0.01</td>\n",
       "      <td>0.794</td>\n",
       "      <td>0.835</td>\n",
       "    </tr>\n",
       "    <tr>\n",
       "      <th>1</th>\n",
       "      <td>0.10</td>\n",
       "      <td>0.794</td>\n",
       "      <td>0.835</td>\n",
       "    </tr>\n",
       "    <tr>\n",
       "      <th>2</th>\n",
       "      <td>1.00</td>\n",
       "      <td>1.000</td>\n",
       "      <td>0.835</td>\n",
       "    </tr>\n",
       "    <tr>\n",
       "      <th>3</th>\n",
       "      <td>10.00</td>\n",
       "      <td>1.000</td>\n",
       "      <td>0.835</td>\n",
       "    </tr>\n",
       "  </tbody>\n",
       "</table>\n",
       "</div>"
      ],
      "text/plain": [
       "       C  TrainAccuracy  TestAccuracy\n",
       "0   0.01          0.794         0.835\n",
       "1   0.10          0.794         0.835\n",
       "2   1.00          1.000         0.835\n",
       "3  10.00          1.000         0.835"
      ]
     },
     "execution_count": 20,
     "metadata": {},
     "output_type": "execute_result"
    }
   ],
   "source": [
    "# C별 정확도 테이블\n",
    "df_accuracy_c.round(3)"
   ]
  },
  {
   "cell_type": "code",
   "execution_count": 21,
   "id": "c51c4c64",
   "metadata": {},
   "outputs": [
    {
     "data": {
      "text/plain": [
       "<matplotlib.legend.Legend at 0x233edda2020>"
      ]
     },
     "execution_count": 21,
     "metadata": {},
     "output_type": "execute_result"
    },
    {
     "data": {
      "image/png": "[encoded data removed]",
      "text/plain": [
       "<Figure size 640x480 with 1 Axes>"
      ]
     },
     "metadata": {},
     "output_type": "display_data"
    }
   ],
   "source": [
    "# 모델 정확도 그래프 확인\n",
    "plt.plot(para_c, train_accuracy, linestyle = '-', label = 'Train Accuracy')\n",
    "plt.plot(para_c, test_accuracy, linestyle = '--', label = 'Test Accuracy')\n",
    "plt.ylabel('accuracy'); plt.xlabel('C')\n",
    "plt.legend()"
   ]
  },
  {
   "cell_type": "markdown",
   "id": "4f7eedcb",
   "metadata": {},
   "source": [
    "#### C가 1일 때 모델의 정확도가 많이 증가함\n",
    "#### 필요시 C 변화 구간을 0.1 ~ 1.0 변경하여 정확도 확인 가능"
   ]
  },
  {
   "cell_type": "code",
   "execution_count": 22,
   "id": "1a28e7c8",
   "metadata": {},
   "outputs": [],
   "source": [
    "# 임의로 지정\n",
    "C = 1"
   ]
  },
  {
   "cell_type": "markdown",
   "id": "674f5dfc",
   "metadata": {},
   "source": [
    "## 새로운 SVC 모델 Parameter 변경 - Gamma: 훈련 샘플이 미치는 영향의 범위를 변경 결과"
   ]
  },
  {
   "cell_type": "code",
   "execution_count": 23,
   "id": "1f2dd90f",
   "metadata": {},
   "outputs": [],
   "source": [
    "# train 및 test 정확도 결과 저장용\n",
    "train_accuracy = []; test_accuracy = []\n",
    "# gamma: 규제 (0.01, 0.1, 1 ,10)\n",
    "para_gamma = [10 **gamma for gamma in range(-2,2)]\n",
    "\n",
    "for v_gamma in para_gamma:\n",
    "    svm = SVC(gamma = v_gamma, C = 1, random_state = 1234)\n",
    "    svm.fit(df_scaled_train_x, df_train_y)\n",
    "    train_accuracy.append(svm.score(df_scaled_train_x, df_train_y))\n",
    "    test_accuracy.append(svm.score(df_scaled_test_x, df_test_y))\n",
    "    \n",
    "# 데이터 테이블로 저장\n",
    "df_accuracy_gamma = pd.DataFrame()\n",
    "df_accuracy_gamma[\"gamma\"] = para_gamma\n",
    "df_accuracy_gamma[\"TrainAccuracy\"] = train_accuracy\n",
    "df_accuracy_gamma[\"TestAccuracy\"] = test_accuracy"
   ]
  },
  {
   "cell_type": "code",
   "execution_count": 24,
   "id": "2b7d30d3",
   "metadata": {},
   "outputs": [
    {
     "data": {
      "text/html": [
       "<div>\n",
       "<style scoped>\n",
       "    .dataframe tbody tr th:only-of-type {\n",
       "        vertical-align: middle;\n",
       "    }\n",
       "\n",
       "    .dataframe tbody tr th {\n",
       "        vertical-align: top;\n",
       "    }\n",
       "\n",
       "    .dataframe thead th {\n",
       "        text-align: right;\n",
       "    }\n",
       "</style>\n",
       "<table border=\"1\" class=\"dataframe\">\n",
       "  <thead>\n",
       "    <tr style=\"text-align: right;\">\n",
       "      <th></th>\n",
       "      <th>gamma</th>\n",
       "      <th>TrainAccuracy</th>\n",
       "      <th>TestAccuracy</th>\n",
       "    </tr>\n",
       "  </thead>\n",
       "  <tbody>\n",
       "    <tr>\n",
       "      <th>0</th>\n",
       "      <td>0.01</td>\n",
       "      <td>1.0</td>\n",
       "      <td>0.835</td>\n",
       "    </tr>\n",
       "    <tr>\n",
       "      <th>1</th>\n",
       "      <td>0.10</td>\n",
       "      <td>1.0</td>\n",
       "      <td>0.835</td>\n",
       "    </tr>\n",
       "    <tr>\n",
       "      <th>2</th>\n",
       "      <td>1.00</td>\n",
       "      <td>1.0</td>\n",
       "      <td>0.835</td>\n",
       "    </tr>\n",
       "    <tr>\n",
       "      <th>3</th>\n",
       "      <td>10.00</td>\n",
       "      <td>1.0</td>\n",
       "      <td>0.835</td>\n",
       "    </tr>\n",
       "  </tbody>\n",
       "</table>\n",
       "</div>"
      ],
      "text/plain": [
       "   gamma  TrainAccuracy  TestAccuracy\n",
       "0   0.01            1.0         0.835\n",
       "1   0.10            1.0         0.835\n",
       "2   1.00            1.0         0.835\n",
       "3  10.00            1.0         0.835"
      ]
     },
     "execution_count": 24,
     "metadata": {},
     "output_type": "execute_result"
    }
   ],
   "source": [
    "# Gamma별 정확도 테이블\n",
    "df_accuracy_gamma.round(3)"
   ]
  },
  {
   "cell_type": "markdown",
   "id": "60c32b96",
   "metadata": {},
   "source": [
    "#### gamma가 1 이상이면 train 데이터의 모델은 과대적합\n",
    "#### gamma 변화 구간을 변경하여 정확도 확인 가능"
   ]
  },
  {
   "cell_type": "code",
   "execution_count": 25,
   "id": "9f052cdc",
   "metadata": {},
   "outputs": [],
   "source": [
    "# 임의로 지정\n",
    "gamma = 0.1"
   ]
  },
  {
   "cell_type": "markdown",
   "id": "0f739e0f",
   "metadata": {},
   "source": [
    "## 결론 도출 - 최종 모델 선택"
   ]
  },
  {
   "cell_type": "code",
   "execution_count": 30,
   "id": "ed87b257",
   "metadata": {},
   "outputs": [
    {
     "name": "stdout",
     "output_type": "stream",
     "text": [
      "Accuracy on training set: 1.000\n",
      "Accuracy on test set: 0.835\n",
      "Confusion matrix: \n",
      "[[  0  46]\n",
      " [  0 233]]\n",
      "              precision    recall  f1-score   support\n",
      "\n",
      "           0      0.000     0.000     0.000        46\n",
      "           1      0.835     1.000     0.910       233\n",
      "\n",
      "    accuracy                          0.835       279\n",
      "   macro avg      0.418     0.500     0.455       279\n",
      "weighted avg      0.697     0.835     0.760       279\n",
      "\n"
     ]
    },
    {
     "name": "stderr",
     "output_type": "stream",
     "text": [
      "c:\\dev\\Python310\\lib\\site-packages\\sklearn\\metrics\\_classification.py:1327: UndefinedMetricWarning: Precision and F-score are ill-defined and being set to 0.0 in labels with no predicted samples. Use `zero_division` parameter to control this behavior.\n",
      "  _warn_prf(average, modifier, msg_start, len(result))\n",
      "c:\\dev\\Python310\\lib\\site-packages\\sklearn\\metrics\\_classification.py:1327: UndefinedMetricWarning: Precision and F-score are ill-defined and being set to 0.0 in labels with no predicted samples. Use `zero_division` parameter to control this behavior.\n",
      "  _warn_prf(average, modifier, msg_start, len(result))\n",
      "c:\\dev\\Python310\\lib\\site-packages\\sklearn\\metrics\\_classification.py:1327: UndefinedMetricWarning: Precision and F-score are ill-defined and being set to 0.0 in labels with no predicted samples. Use `zero_division` parameter to control this behavior.\n",
      "  _warn_prf(average, modifier, msg_start, len(result))\n"
     ]
    }
   ],
   "source": [
    "svc_final = SVC(gamma = 0.1, C = 1, random_state= 1234)\n",
    "svc_final.fit(df_scaled_train_x, df_train_y)\n",
    "y_pred = svc_final.predict(df_scaled_test_x)\n",
    "# train 데이터 셋 정확도\n",
    "print(\"Accuracy on training set: {:.3f}\".format(svc_final.score(df_scaled_train_x, df_train_y)))\n",
    "# test 데이터 셋 정확도\n",
    "print(\"Accuracy on test set: {:.3f}\".format(svc_final.score(df_scaled_test_x, df_test_y)))\n",
    "# confusion matrix\n",
    "print(\"Confusion matrix: \\n{}\".format(confusion_matrix(df_test_y, y_pred)))\n",
    "# 목표변수의 빈도 불귱형 : f1 score로 모델 평가\n",
    "print(classification_report(df_test_y, y_pred, digits=3))"
   ]
  },
  {
   "cell_type": "markdown",
   "id": "c8af45f9",
   "metadata": {},
   "source": [
    "#### test 데이터 기준 정분류율은 94.2%\n",
    "#### \"1\" 기준 f1 score는 54.5% (precision은 100%이나 recall이 매우 낮음)"
   ]
  },
  {
   "cell_type": "markdown",
   "id": "f5eb4f47",
   "metadata": {},
   "source": []
  },
  {
   "cell_type": "markdown",
   "id": "40c5486e",
   "metadata": {},
   "source": [
    "## GridSearchCV를 이용한 최적 parameter 찾기"
   ]
  },
  {
   "cell_type": "code",
   "execution_count": 27,
   "id": "738ba2e4",
   "metadata": {},
   "outputs": [
    {
     "name": "stdout",
     "output_type": "stream",
     "text": [
      "best estimator model: \n",
      "SVC(C=0.01, gamma=0.01, random_state=1234)\n",
      "\n",
      "best parameter: \n",
      "{'C': 0.01, 'gamma': 0.01}\n",
      "\n",
      "best score: \n",
      "0.794\n"
     ]
    }
   ],
   "source": [
    "estimator = SVC(random_state=1234)\n",
    "# 구하고자 하는 parameter와 범위\n",
    "param_grid = {\"C\":para_c,\n",
    "             \"gamma\":para_gamma}\n",
    "# 정확도가 높은 최적 parameter 찾기\n",
    "grid_rf = GridSearchCV(estimator, param_grid, scoring = \"accuracy\", n_jobs = -1)\n",
    "grid_rf.fit(df_scaled_train_x, df_train_y)\n",
    "print(\"best estimator model: \\n{}\".format(grid_rf.best_estimator_))\n",
    "print(\"\\nbest parameter: \\n{}\".format(grid_rf.best_params_))\n",
    "print(\"\\nbest score: \\n{}\".format(grid_rf.best_score_.round(3)))"
   ]
  },
  {
   "cell_type": "markdown",
   "id": "aa5b596e",
   "metadata": {},
   "source": [
    "#### GridSearch 결과 C=10, gamma=0.1일 때 모델의 정확도 가장 높음 (0.96)"
   ]
  }
 ],
 "metadata": {
  "kernelspec": {
   "display_name": "Python 3.10.5 64-bit",
   "language": "python",
   "name": "python3"
  },
  "language_info": {
   "codemirror_mode": {
    "name": "ipython",
    "version": 3
   },
   "file_extension": ".py",
   "mimetype": "text/x-python",
   "name": "python",
   "nbconvert_exporter": "python",
   "pygments_lexer": "ipython3",
   "version": "3.10.5"
  },
  "vscode": {
   "interpreter": {
    "hash": "e2ab4699a82da9ada95853d3c0abb8d0fd7cf10101d98483eced78fe436a9538"
   }
  }
 },
 "nbformat": 4,
 "nbformat_minor": 5
}
