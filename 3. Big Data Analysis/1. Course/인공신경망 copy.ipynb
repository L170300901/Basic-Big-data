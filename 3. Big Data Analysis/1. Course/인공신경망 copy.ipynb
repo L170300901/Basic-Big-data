{
 "cells": [
  {
   "cell_type": "code",
   "execution_count": 1,
   "metadata": {
    "executionInfo": {
     "elapsed": 6,
     "status": "ok",
     "timestamp": 1660228290062,
     "user": {
      "displayName": "Woocheol Lee",
      "userId": "13920864834433517593"
     },
     "user_tz": -540
    },
    "id": "SfNSeS2TPVwf"
   },
   "outputs": [],
   "source": [
    "# 데이터 분석 패키지\n",
    "import pandas as pd\n",
    "\n",
    "# 행렬 연산 패키지\n",
    "import numpy as np\n",
    "\n",
    "# 데이터 시각화 패키지\n",
    "import matplotlib\n",
    "import matplotlib.pyplot as plt\n",
    "\n",
    "#데이터 시각화(추세 등) 패키지\n",
    "import seaborn as sns\n",
    "\n",
    "# 가설검정 및 통계분석 패키지\n",
    "from scipy import stats\n",
    "\n",
    "# 회귀분석\n",
    "from statsmodels.formula.api import ols\n",
    "\n",
    "# ANOVA 분석 패키지\n",
    "from statsmodels.stats.anova import anova_lm\n",
    "\n",
    "# qqplot, 회귀분석의 상수항 추가\n",
    "from statsmodels.api import qqplot, add_constant\n",
    "\n",
    "# 선형모델 formula\n",
    "import statsmodels.formula.api as smf\n",
    "\n",
    "# 평가함수\n",
    "from statsmodels.tools.eval_measures import rmse\n",
    "\n",
    "# 다중공선성 확인\n",
    "from statsmodels.stats.outliers_influence import variance_inflation_factor\n",
    "\n",
    "# 학습용/평가용 데이터 분리 : train test\n",
    "from sklearn.model_selection import train_test_split\n",
    "\n",
    "# 선형 회귀 모형\n",
    "from sklearn.linear_model import LinearRegression\n",
    "\n",
    "# 변수 선택법(후진제거법)\n",
    "from sklearn.feature_selection import RFE\n",
    "\n",
    "#Scale 변환 -> 표준화 회귀계수 산출\n",
    "from sklearn.preprocessing import StandardScaler\n",
    "\n",
    "# 평가함수\n",
    "from statsmodels.tools.eval_measures import rmse\n",
    "from sklearn.metrics import r2_score\n",
    "\n",
    "# 최적 모델, 파라미터 탐색\n",
    "from sklearn.model_selection import GridSearchCV\n",
    "\n",
    "# 예측/회귀\n",
    "from sklearn.model_selection import train_test_split\n",
    "from sklearn.tree import DecisionTreeRegressor\n",
    "from sklearn.tree import DecisionTreeClassifier\n",
    "from sklearn.ensemble import RandomForestRegressor\n",
    "from sklearn.ensemble import RandomForestClassifier\n",
    "from sklearn.ensemble import GradientBoostingRegressor\n",
    "from sklearn.ensemble import GradientBoostingClassifier\n",
    "from xgboost import XGBClassifier\n",
    "\n",
    "\n",
    "# export_graphviz : 나무 구조 생성 및 저장\n",
    "from sklearn.tree import export_graphviz\n",
    "\n",
    "# graphiz : 나무 구조 시각화 (.dot 확장자 파일 불러오기 등)\n",
    "import graphviz\n",
    "\n",
    "from sklearn.ensemble import RandomForestRegressor as RFR\n",
    "from sklearn.ensemble import GradientBoostingRegressor as GBR\n",
    "\n",
    "# 로지스틱 회귀\n",
    "from statsmodels.api import Logit\n",
    "\n",
    "# 분류모델 평가 함수\n",
    "from sklearn.metrics import accuracy_score, f1_score\n",
    "from sklearn.metrics import confusion_matrix, classification_report\n",
    "\n",
    "#평가함수\n",
    "from sklearn.metrics import mean_squared_error\n",
    "from sklearn.metrics import mean_absolute_error\n",
    "\n",
    "# SMOTE\n",
    "from imblearn.over_sampling import SMOTE\n",
    "\n",
    "# 분류 NN (MLPClassifier)\n",
    "from sklearn.neural_network import MLPClassifier\n",
    "\n",
    "# 한글 폰트 적용\n",
    "matplotlib.rcParams['font.family'] ='Malgun Gothic'\n",
    "matplotlib.rcParams['axes.unicode_minus'] =False"
   ]
  },
  {
   "cell_type": "code",
   "execution_count": 2,
   "metadata": {
    "colab": {
     "base_uri": "https://localhost:8080/",
     "height": 206
    },
    "executionInfo": {
     "elapsed": 13,
     "status": "ok",
     "timestamp": 1660228290423,
     "user": {
      "displayName": "Woocheol Lee",
      "userId": "13920864834433517593"
     },
     "user_tz": -540
    },
    "id": "rdAkGF6pRzTq",
    "outputId": "b8e9cbfa-127c-4a98-df9d-fbb7d7a47c4c"
   },
   "outputs": [
    {
     "data": {
      "text/html": [
       "<div>\n",
       "<style scoped>\n",
       "    .dataframe tbody tr th:only-of-type {\n",
       "        vertical-align: middle;\n",
       "    }\n",
       "\n",
       "    .dataframe tbody tr th {\n",
       "        vertical-align: top;\n",
       "    }\n",
       "\n",
       "    .dataframe thead th {\n",
       "        text-align: right;\n",
       "    }\n",
       "</style>\n",
       "<table border=\"1\" class=\"dataframe\">\n",
       "  <thead>\n",
       "    <tr style=\"text-align: right;\">\n",
       "      <th></th>\n",
       "      <th>CHURN</th>\n",
       "      <th>CUSTOMER_ID</th>\n",
       "      <th>GENDER</th>\n",
       "      <th>AGE</th>\n",
       "      <th>CHARGE_TYPE</th>\n",
       "      <th>HANDSET</th>\n",
       "      <th>USAGE_BAND</th>\n",
       "      <th>SERVICE_DURATION</th>\n",
       "      <th>DROPPED_CALLS</th>\n",
       "      <th>PEAK_CALLS_NO</th>\n",
       "      <th>PEAK_CALLS_TIME</th>\n",
       "      <th>WEEKEND_CALLS_NO</th>\n",
       "      <th>WEEKEND_CALLS_TIME</th>\n",
       "      <th>TOTAL_CALLS_NO</th>\n",
       "      <th>TOTAL_CALLS_TIME</th>\n",
       "    </tr>\n",
       "  </thead>\n",
       "  <tbody>\n",
       "    <tr>\n",
       "      <th>0</th>\n",
       "      <td>Active</td>\n",
       "      <td>K102990</td>\n",
       "      <td>F</td>\n",
       "      <td>31</td>\n",
       "      <td>CAT 100</td>\n",
       "      <td>ASAD170</td>\n",
       "      <td>Med</td>\n",
       "      <td>33.33</td>\n",
       "      <td>6</td>\n",
       "      <td>218</td>\n",
       "      <td>379.8</td>\n",
       "      <td>9</td>\n",
       "      <td>21.6</td>\n",
       "      <td>366</td>\n",
       "      <td>632.4</td>\n",
       "    </tr>\n",
       "    <tr>\n",
       "      <th>1</th>\n",
       "      <td>Active</td>\n",
       "      <td>K103280</td>\n",
       "      <td>M</td>\n",
       "      <td>27</td>\n",
       "      <td>CAT 100</td>\n",
       "      <td>S50</td>\n",
       "      <td>Med</td>\n",
       "      <td>30.87</td>\n",
       "      <td>10</td>\n",
       "      <td>373</td>\n",
       "      <td>656.4</td>\n",
       "      <td>11</td>\n",
       "      <td>28.0</td>\n",
       "      <td>411</td>\n",
       "      <td>810.4</td>\n",
       "    </tr>\n",
       "    <tr>\n",
       "      <th>2</th>\n",
       "      <td>Active</td>\n",
       "      <td>K103660</td>\n",
       "      <td>M</td>\n",
       "      <td>27</td>\n",
       "      <td>CAT 100</td>\n",
       "      <td>ASAD170</td>\n",
       "      <td>Med</td>\n",
       "      <td>49.40</td>\n",
       "      <td>11</td>\n",
       "      <td>260</td>\n",
       "      <td>582.0</td>\n",
       "      <td>0</td>\n",
       "      <td>0.0</td>\n",
       "      <td>265</td>\n",
       "      <td>614.1</td>\n",
       "    </tr>\n",
       "    <tr>\n",
       "      <th>3</th>\n",
       "      <td>Active</td>\n",
       "      <td>K103730</td>\n",
       "      <td>M</td>\n",
       "      <td>61</td>\n",
       "      <td>CAT 100</td>\n",
       "      <td>ASAD170</td>\n",
       "      <td>Med</td>\n",
       "      <td>48.60</td>\n",
       "      <td>1</td>\n",
       "      <td>294</td>\n",
       "      <td>661.8</td>\n",
       "      <td>14</td>\n",
       "      <td>101.5</td>\n",
       "      <td>326</td>\n",
       "      <td>844.0</td>\n",
       "    </tr>\n",
       "    <tr>\n",
       "      <th>4</th>\n",
       "      <td>Active</td>\n",
       "      <td>K104560</td>\n",
       "      <td>F</td>\n",
       "      <td>52</td>\n",
       "      <td>CAT 100</td>\n",
       "      <td>S50</td>\n",
       "      <td>Med</td>\n",
       "      <td>56.03</td>\n",
       "      <td>0</td>\n",
       "      <td>221</td>\n",
       "      <td>555.6</td>\n",
       "      <td>7</td>\n",
       "      <td>25.0</td>\n",
       "      <td>274</td>\n",
       "      <td>673.0</td>\n",
       "    </tr>\n",
       "    <tr>\n",
       "      <th>...</th>\n",
       "      <td>...</td>\n",
       "      <td>...</td>\n",
       "      <td>...</td>\n",
       "      <td>...</td>\n",
       "      <td>...</td>\n",
       "      <td>...</td>\n",
       "      <td>...</td>\n",
       "      <td>...</td>\n",
       "      <td>...</td>\n",
       "      <td>...</td>\n",
       "      <td>...</td>\n",
       "      <td>...</td>\n",
       "      <td>...</td>\n",
       "      <td>...</td>\n",
       "      <td>...</td>\n",
       "    </tr>\n",
       "    <tr>\n",
       "      <th>925</th>\n",
       "      <td>Churned</td>\n",
       "      <td>K413330</td>\n",
       "      <td>M</td>\n",
       "      <td>19</td>\n",
       "      <td>Play 100</td>\n",
       "      <td>SOP10</td>\n",
       "      <td>Med</td>\n",
       "      <td>17.40</td>\n",
       "      <td>12</td>\n",
       "      <td>60</td>\n",
       "      <td>100.8</td>\n",
       "      <td>27</td>\n",
       "      <td>59.4</td>\n",
       "      <td>127</td>\n",
       "      <td>628.2</td>\n",
       "    </tr>\n",
       "    <tr>\n",
       "      <th>926</th>\n",
       "      <td>Churned</td>\n",
       "      <td>K413410</td>\n",
       "      <td>F</td>\n",
       "      <td>59</td>\n",
       "      <td>Play 100</td>\n",
       "      <td>SOP20</td>\n",
       "      <td>Med</td>\n",
       "      <td>17.37</td>\n",
       "      <td>15</td>\n",
       "      <td>82</td>\n",
       "      <td>130.2</td>\n",
       "      <td>12</td>\n",
       "      <td>25.8</td>\n",
       "      <td>357</td>\n",
       "      <td>650.7</td>\n",
       "    </tr>\n",
       "    <tr>\n",
       "      <th>927</th>\n",
       "      <td>Churned</td>\n",
       "      <td>K415490</td>\n",
       "      <td>F</td>\n",
       "      <td>33</td>\n",
       "      <td>Play 300</td>\n",
       "      <td>S50</td>\n",
       "      <td>Med</td>\n",
       "      <td>44.93</td>\n",
       "      <td>12</td>\n",
       "      <td>174</td>\n",
       "      <td>286.2</td>\n",
       "      <td>25</td>\n",
       "      <td>67.0</td>\n",
       "      <td>596</td>\n",
       "      <td>1039.0</td>\n",
       "    </tr>\n",
       "    <tr>\n",
       "      <th>928</th>\n",
       "      <td>Churned</td>\n",
       "      <td>K415880</td>\n",
       "      <td>F</td>\n",
       "      <td>25</td>\n",
       "      <td>Play 300</td>\n",
       "      <td>S50</td>\n",
       "      <td>Med</td>\n",
       "      <td>40.43</td>\n",
       "      <td>14</td>\n",
       "      <td>315</td>\n",
       "      <td>552.0</td>\n",
       "      <td>0</td>\n",
       "      <td>0.0</td>\n",
       "      <td>609</td>\n",
       "      <td>1188.3</td>\n",
       "    </tr>\n",
       "    <tr>\n",
       "      <th>929</th>\n",
       "      <td>Churned</td>\n",
       "      <td>K416650</td>\n",
       "      <td>F</td>\n",
       "      <td>30</td>\n",
       "      <td>Play 300</td>\n",
       "      <td>SOP10</td>\n",
       "      <td>Med</td>\n",
       "      <td>31.47</td>\n",
       "      <td>12</td>\n",
       "      <td>16</td>\n",
       "      <td>306.6</td>\n",
       "      <td>37</td>\n",
       "      <td>109.8</td>\n",
       "      <td>367</td>\n",
       "      <td>957.0</td>\n",
       "    </tr>\n",
       "  </tbody>\n",
       "</table>\n",
       "<p>930 rows × 15 columns</p>\n",
       "</div>"
      ],
      "text/plain": [
       "       CHURN CUSTOMER_ID GENDER  AGE CHARGE_TYPE  HANDSET USAGE_BAND  \\\n",
       "0     Active     K102990      F   31     CAT 100  ASAD170        Med   \n",
       "1     Active     K103280      M   27     CAT 100      S50        Med   \n",
       "2     Active     K103660      M   27     CAT 100  ASAD170        Med   \n",
       "3     Active     K103730      M   61     CAT 100  ASAD170        Med   \n",
       "4     Active     K104560      F   52     CAT 100      S50        Med   \n",
       "..       ...         ...    ...  ...         ...      ...        ...   \n",
       "925  Churned     K413330      M   19    Play 100    SOP10        Med   \n",
       "926  Churned     K413410      F   59    Play 100    SOP20        Med   \n",
       "927  Churned     K415490      F   33    Play 300      S50        Med   \n",
       "928  Churned     K415880      F   25    Play 300      S50        Med   \n",
       "929  Churned     K416650      F   30    Play 300    SOP10        Med   \n",
       "\n",
       "     SERVICE_DURATION  DROPPED_CALLS  PEAK_CALLS_NO  PEAK_CALLS_TIME  \\\n",
       "0               33.33              6            218            379.8   \n",
       "1               30.87             10            373            656.4   \n",
       "2               49.40             11            260            582.0   \n",
       "3               48.60              1            294            661.8   \n",
       "4               56.03              0            221            555.6   \n",
       "..                ...            ...            ...              ...   \n",
       "925             17.40             12             60            100.8   \n",
       "926             17.37             15             82            130.2   \n",
       "927             44.93             12            174            286.2   \n",
       "928             40.43             14            315            552.0   \n",
       "929             31.47             12             16            306.6   \n",
       "\n",
       "     WEEKEND_CALLS_NO  WEEKEND_CALLS_TIME  TOTAL_CALLS_NO  TOTAL_CALLS_TIME  \n",
       "0                   9                21.6             366             632.4  \n",
       "1                  11                28.0             411             810.4  \n",
       "2                   0                 0.0             265             614.1  \n",
       "3                  14               101.5             326             844.0  \n",
       "4                   7                25.0             274             673.0  \n",
       "..                ...                 ...             ...               ...  \n",
       "925                27                59.4             127             628.2  \n",
       "926                12                25.8             357             650.7  \n",
       "927                25                67.0             596            1039.0  \n",
       "928                 0                 0.0             609            1188.3  \n",
       "929                37               109.8             367             957.0  \n",
       "\n",
       "[930 rows x 15 columns]"
      ]
     },
     "execution_count": 2,
     "metadata": {},
     "output_type": "execute_result"
    }
   ],
   "source": [
    "df_raw = pd.read_csv(\"D:/data/2/통신고객이탈.csv\",encoding='euc-kr')\n",
    "df_raw"
   ]
  },
  {
   "cell_type": "code",
   "execution_count": 3,
   "metadata": {
    "colab": {
     "base_uri": "https://localhost:8080/"
    },
    "executionInfo": {
     "elapsed": 335,
     "status": "ok",
     "timestamp": 1660228292882,
     "user": {
      "displayName": "Woocheol Lee",
      "userId": "13920864834433517593"
     },
     "user_tz": -540
    },
    "id": "CrMEADbuR7KH",
    "outputId": "74c0e3ec-17e5-482e-fcd3-55b99d6f11f4"
   },
   "outputs": [
    {
     "data": {
      "text/plain": [
       "CHURN                 0\n",
       "CUSTOMER_ID           0\n",
       "GENDER                0\n",
       "AGE                   0\n",
       "CHARGE_TYPE           0\n",
       "HANDSET               0\n",
       "USAGE_BAND            0\n",
       "SERVICE_DURATION      0\n",
       "DROPPED_CALLS         0\n",
       "PEAK_CALLS_NO         0\n",
       "PEAK_CALLS_TIME       0\n",
       "WEEKEND_CALLS_NO      0\n",
       "WEEKEND_CALLS_TIME    0\n",
       "TOTAL_CALLS_NO        0\n",
       "TOTAL_CALLS_TIME      0\n",
       "dtype: int64"
      ]
     },
     "execution_count": 3,
     "metadata": {},
     "output_type": "execute_result"
    }
   ],
   "source": [
    "df_raw.isnull().sum()"
   ]
  },
  {
   "cell_type": "code",
   "execution_count": 4,
   "metadata": {
    "colab": {
     "base_uri": "https://localhost:8080/",
     "height": 270
    },
    "executionInfo": {
     "elapsed": 349,
     "status": "ok",
     "timestamp": 1660228314963,
     "user": {
      "displayName": "Woocheol Lee",
      "userId": "13920864834433517593"
     },
     "user_tz": -540
    },
    "id": "gLzTBVdqR-YI",
    "outputId": "da503ce2-7a16-44b9-bc40-3ab688aab663"
   },
   "outputs": [
    {
     "data": {
      "text/html": [
       "<div>\n",
       "<style scoped>\n",
       "    .dataframe tbody tr th:only-of-type {\n",
       "        vertical-align: middle;\n",
       "    }\n",
       "\n",
       "    .dataframe tbody tr th {\n",
       "        vertical-align: top;\n",
       "    }\n",
       "\n",
       "    .dataframe thead th {\n",
       "        text-align: right;\n",
       "    }\n",
       "</style>\n",
       "<table border=\"1\" class=\"dataframe\">\n",
       "  <thead>\n",
       "    <tr style=\"text-align: right;\">\n",
       "      <th></th>\n",
       "      <th>AGE</th>\n",
       "      <th>SERVICE_DURATION</th>\n",
       "      <th>DROPPED_CALLS</th>\n",
       "      <th>PEAK_CALLS_NO</th>\n",
       "      <th>PEAK_CALLS_TIME</th>\n",
       "      <th>WEEKEND_CALLS_NO</th>\n",
       "      <th>WEEKEND_CALLS_TIME</th>\n",
       "      <th>TOTAL_CALLS_NO</th>\n",
       "      <th>TOTAL_CALLS_TIME</th>\n",
       "      <th>CHURN_Active</th>\n",
       "      <th>...</th>\n",
       "      <th>HANDSET_S80</th>\n",
       "      <th>HANDSET_SOP10</th>\n",
       "      <th>HANDSET_SOP20</th>\n",
       "      <th>HANDSET_WC95</th>\n",
       "      <th>USAGE_BAND_High</th>\n",
       "      <th>USAGE_BAND_Low</th>\n",
       "      <th>USAGE_BAND_Med</th>\n",
       "      <th>USAGE_BAND_MedHigh</th>\n",
       "      <th>USAGE_BAND_MedLow</th>\n",
       "      <th>USAGE_BAND_None</th>\n",
       "    </tr>\n",
       "  </thead>\n",
       "  <tbody>\n",
       "    <tr>\n",
       "      <th>0</th>\n",
       "      <td>31</td>\n",
       "      <td>33.33</td>\n",
       "      <td>6</td>\n",
       "      <td>218</td>\n",
       "      <td>379.8</td>\n",
       "      <td>9</td>\n",
       "      <td>21.6</td>\n",
       "      <td>366</td>\n",
       "      <td>632.4</td>\n",
       "      <td>1</td>\n",
       "      <td>...</td>\n",
       "      <td>0</td>\n",
       "      <td>0</td>\n",
       "      <td>0</td>\n",
       "      <td>0</td>\n",
       "      <td>0</td>\n",
       "      <td>0</td>\n",
       "      <td>1</td>\n",
       "      <td>0</td>\n",
       "      <td>0</td>\n",
       "      <td>0</td>\n",
       "    </tr>\n",
       "    <tr>\n",
       "      <th>1</th>\n",
       "      <td>27</td>\n",
       "      <td>30.87</td>\n",
       "      <td>10</td>\n",
       "      <td>373</td>\n",
       "      <td>656.4</td>\n",
       "      <td>11</td>\n",
       "      <td>28.0</td>\n",
       "      <td>411</td>\n",
       "      <td>810.4</td>\n",
       "      <td>1</td>\n",
       "      <td>...</td>\n",
       "      <td>0</td>\n",
       "      <td>0</td>\n",
       "      <td>0</td>\n",
       "      <td>0</td>\n",
       "      <td>0</td>\n",
       "      <td>0</td>\n",
       "      <td>1</td>\n",
       "      <td>0</td>\n",
       "      <td>0</td>\n",
       "      <td>0</td>\n",
       "    </tr>\n",
       "    <tr>\n",
       "      <th>2</th>\n",
       "      <td>27</td>\n",
       "      <td>49.40</td>\n",
       "      <td>11</td>\n",
       "      <td>260</td>\n",
       "      <td>582.0</td>\n",
       "      <td>0</td>\n",
       "      <td>0.0</td>\n",
       "      <td>265</td>\n",
       "      <td>614.1</td>\n",
       "      <td>1</td>\n",
       "      <td>...</td>\n",
       "      <td>0</td>\n",
       "      <td>0</td>\n",
       "      <td>0</td>\n",
       "      <td>0</td>\n",
       "      <td>0</td>\n",
       "      <td>0</td>\n",
       "      <td>1</td>\n",
       "      <td>0</td>\n",
       "      <td>0</td>\n",
       "      <td>0</td>\n",
       "    </tr>\n",
       "    <tr>\n",
       "      <th>3</th>\n",
       "      <td>61</td>\n",
       "      <td>48.60</td>\n",
       "      <td>1</td>\n",
       "      <td>294</td>\n",
       "      <td>661.8</td>\n",
       "      <td>14</td>\n",
       "      <td>101.5</td>\n",
       "      <td>326</td>\n",
       "      <td>844.0</td>\n",
       "      <td>1</td>\n",
       "      <td>...</td>\n",
       "      <td>0</td>\n",
       "      <td>0</td>\n",
       "      <td>0</td>\n",
       "      <td>0</td>\n",
       "      <td>0</td>\n",
       "      <td>0</td>\n",
       "      <td>1</td>\n",
       "      <td>0</td>\n",
       "      <td>0</td>\n",
       "      <td>0</td>\n",
       "    </tr>\n",
       "    <tr>\n",
       "      <th>4</th>\n",
       "      <td>52</td>\n",
       "      <td>56.03</td>\n",
       "      <td>0</td>\n",
       "      <td>221</td>\n",
       "      <td>555.6</td>\n",
       "      <td>7</td>\n",
       "      <td>25.0</td>\n",
       "      <td>274</td>\n",
       "      <td>673.0</td>\n",
       "      <td>1</td>\n",
       "      <td>...</td>\n",
       "      <td>0</td>\n",
       "      <td>0</td>\n",
       "      <td>0</td>\n",
       "      <td>0</td>\n",
       "      <td>0</td>\n",
       "      <td>0</td>\n",
       "      <td>1</td>\n",
       "      <td>0</td>\n",
       "      <td>0</td>\n",
       "      <td>0</td>\n",
       "    </tr>\n",
       "  </tbody>\n",
       "</table>\n",
       "<p>5 rows × 965 columns</p>\n",
       "</div>"
      ],
      "text/plain": [
       "   AGE  SERVICE_DURATION  DROPPED_CALLS  PEAK_CALLS_NO  PEAK_CALLS_TIME  \\\n",
       "0   31             33.33              6            218            379.8   \n",
       "1   27             30.87             10            373            656.4   \n",
       "2   27             49.40             11            260            582.0   \n",
       "3   61             48.60              1            294            661.8   \n",
       "4   52             56.03              0            221            555.6   \n",
       "\n",
       "   WEEKEND_CALLS_NO  WEEKEND_CALLS_TIME  TOTAL_CALLS_NO  TOTAL_CALLS_TIME  \\\n",
       "0                 9                21.6             366             632.4   \n",
       "1                11                28.0             411             810.4   \n",
       "2                 0                 0.0             265             614.1   \n",
       "3                14               101.5             326             844.0   \n",
       "4                 7                25.0             274             673.0   \n",
       "\n",
       "   CHURN_Active  ...  HANDSET_S80  HANDSET_SOP10  HANDSET_SOP20  HANDSET_WC95  \\\n",
       "0             1  ...            0              0              0             0   \n",
       "1             1  ...            0              0              0             0   \n",
       "2             1  ...            0              0              0             0   \n",
       "3             1  ...            0              0              0             0   \n",
       "4             1  ...            0              0              0             0   \n",
       "\n",
       "   USAGE_BAND_High  USAGE_BAND_Low  USAGE_BAND_Med  USAGE_BAND_MedHigh  \\\n",
       "0                0               0               1                   0   \n",
       "1                0               0               1                   0   \n",
       "2                0               0               1                   0   \n",
       "3                0               0               1                   0   \n",
       "4                0               0               1                   0   \n",
       "\n",
       "   USAGE_BAND_MedLow  USAGE_BAND_None  \n",
       "0                  0                0  \n",
       "1                  0                0  \n",
       "2                  0                0  \n",
       "3                  0                0  \n",
       "4                  0                0  \n",
       "\n",
       "[5 rows x 965 columns]"
      ]
     },
     "execution_count": 4,
     "metadata": {},
     "output_type": "execute_result"
    }
   ],
   "source": [
    "# 데이터 구성하기 - 더미변수 생성\n",
    "df_dummy = pd.get_dummies(df_raw)\n",
    "df_dummy.head()"
   ]
  },
  {
   "cell_type": "code",
   "execution_count": 5,
   "metadata": {
    "colab": {
     "base_uri": "https://localhost:8080/"
    },
    "executionInfo": {
     "elapsed": 361,
     "status": "ok",
     "timestamp": 1660228317968,
     "user": {
      "displayName": "Woocheol Lee",
      "userId": "13920864834433517593"
     },
     "user_tz": -540
    },
    "id": "-IlI8FT2SPZp",
    "outputId": "1644f606-bdd3-4687-fa42-2da0b2d3287f"
   },
   "outputs": [
    {
     "name": "stdout",
     "output_type": "stream",
     "text": [
      "(651, 964)\n",
      "(651,)\n",
      "(279, 964)\n",
      "(279,)\n"
     ]
    }
   ],
   "source": [
    "# 데이터 구성하기 - 데이터 분할\n",
    "df_raw_x = df_dummy.drop('CHURN_Active',axis=1, inplace=False)\n",
    "df_raw_y = df_dummy['CHURN_Active']\n",
    "df_train_x, df_test_x, df_train_y, df_test_y = train_test_split(df_raw_x, df_raw_y, test_size = 0.3, random_state=1234)\n",
    "\n",
    "print(df_train_x.shape)\n",
    "print(df_train_y.shape)\n",
    "print(df_test_x.shape)\n",
    "print(df_test_y.shape)"
   ]
  },
  {
   "cell_type": "code",
   "execution_count": 6,
   "metadata": {
    "colab": {
     "base_uri": "https://localhost:8080/"
    },
    "executionInfo": {
     "elapsed": 881,
     "status": "ok",
     "timestamp": 1660228345705,
     "user": {
      "displayName": "Woocheol Lee",
      "userId": "13920864834433517593"
     },
     "user_tz": -540
    },
    "id": "nyH0JAMuSy82",
    "outputId": "18084f7d-260c-4199-afaa-f9d4d8b247fa"
   },
   "outputs": [
    {
     "name": "stdout",
     "output_type": "stream",
     "text": [
      "Accuracy on training set: 1.000\n",
      "Accuracy on test set: 0.943\n"
     ]
    },
    {
     "name": "stderr",
     "output_type": "stream",
     "text": [
      "c:\\dev\\Python310\\lib\\site-packages\\sklearn\\neural_network\\_multilayer_perceptron.py:702: ConvergenceWarning: Stochastic Optimizer: Maximum iterations (200) reached and the optimization hasn't converged yet.\n",
      "  warnings.warn(\n"
     ]
    }
   ],
   "source": [
    "# MLPClassfier 모델 생성 \n",
    "# - 기본 옵션으로 모델 생성\n",
    "\n",
    "nn_uncustomized = MLPClassifier(random_state = 1234)\n",
    "# hidden_layer_sizes = (100,100) 변경 (은닉층 2개, 각 은닉층 노드 100개)\n",
    "nn_uncustomized.fit(df_train_x, df_train_y)\n",
    "# train 데이터 셋 정확도\n",
    "print(\"Accuracy on training set: {:.3f}\".format(nn_uncustomized.score(df_train_x, df_train_y)))\n",
    "# test 데이터 셋 정확도\n",
    "print(\"Accuracy on test set: {:.3f}\".format(nn_uncustomized.score(df_test_x, df_test_y)))"
   ]
  },
  {
   "cell_type": "code",
   "execution_count": 7,
   "metadata": {
    "colab": {
     "base_uri": "https://localhost:8080/"
    },
    "executionInfo": {
     "elapsed": 347,
     "status": "ok",
     "timestamp": 1660228352205,
     "user": {
      "displayName": "Woocheol Lee",
      "userId": "13920864834433517593"
     },
     "user_tz": -540
    },
    "id": "8N-r6BC5T4Ck",
    "outputId": "583915e7-4f16-4cc6-f260-faf0fcae23da"
   },
   "outputs": [
    {
     "data": {
      "text/html": [
       "<style>#sk-container-id-1 {color: black;background-color: white;}#sk-container-id-1 pre{padding: 0;}#sk-container-id-1 div.sk-toggleable {background-color: white;}#sk-container-id-1 label.sk-toggleable__label {cursor: pointer;display: block;width: 100%;margin-bottom: 0;padding: 0.3em;box-sizing: border-box;text-align: center;}#sk-container-id-1 label.sk-toggleable__label-arrow:before {content: \"▸\";float: left;margin-right: 0.25em;color: #696969;}#sk-container-id-1 label.sk-toggleable__label-arrow:hover:before {color: black;}#sk-container-id-1 div.sk-estimator:hover label.sk-toggleable__label-arrow:before {color: black;}#sk-container-id-1 div.sk-toggleable__content {max-height: 0;max-width: 0;overflow: hidden;text-align: left;background-color: #f0f8ff;}#sk-container-id-1 div.sk-toggleable__content pre {margin: 0.2em;color: black;border-radius: 0.25em;background-color: #f0f8ff;}#sk-container-id-1 input.sk-toggleable__control:checked~div.sk-toggleable__content {max-height: 200px;max-width: 100%;overflow: auto;}#sk-container-id-1 input.sk-toggleable__control:checked~label.sk-toggleable__label-arrow:before {content: \"▾\";}#sk-container-id-1 div.sk-estimator input.sk-toggleable__control:checked~label.sk-toggleable__label {background-color: #d4ebff;}#sk-container-id-1 div.sk-label input.sk-toggleable__control:checked~label.sk-toggleable__label {background-color: #d4ebff;}#sk-container-id-1 input.sk-hidden--visually {border: 0;clip: rect(1px 1px 1px 1px);clip: rect(1px, 1px, 1px, 1px);height: 1px;margin: -1px;overflow: hidden;padding: 0;position: absolute;width: 1px;}#sk-container-id-1 div.sk-estimator {font-family: monospace;background-color: #f0f8ff;border: 1px dotted black;border-radius: 0.25em;box-sizing: border-box;margin-bottom: 0.5em;}#sk-container-id-1 div.sk-estimator:hover {background-color: #d4ebff;}#sk-container-id-1 div.sk-parallel-item::after {content: \"\";width: 100%;border-bottom: 1px solid gray;flex-grow: 1;}#sk-container-id-1 div.sk-label:hover label.sk-toggleable__label {background-color: #d4ebff;}#sk-container-id-1 div.sk-serial::before {content: \"\";position: absolute;border-left: 1px solid gray;box-sizing: border-box;top: 0;bottom: 0;left: 50%;z-index: 0;}#sk-container-id-1 div.sk-serial {display: flex;flex-direction: column;align-items: center;background-color: white;padding-right: 0.2em;padding-left: 0.2em;position: relative;}#sk-container-id-1 div.sk-item {position: relative;z-index: 1;}#sk-container-id-1 div.sk-parallel {display: flex;align-items: stretch;justify-content: center;background-color: white;position: relative;}#sk-container-id-1 div.sk-item::before, #sk-container-id-1 div.sk-parallel-item::before {content: \"\";position: absolute;border-left: 1px solid gray;box-sizing: border-box;top: 0;bottom: 0;left: 50%;z-index: -1;}#sk-container-id-1 div.sk-parallel-item {display: flex;flex-direction: column;z-index: 1;position: relative;background-color: white;}#sk-container-id-1 div.sk-parallel-item:first-child::after {align-self: flex-end;width: 50%;}#sk-container-id-1 div.sk-parallel-item:last-child::after {align-self: flex-start;width: 50%;}#sk-container-id-1 div.sk-parallel-item:only-child::after {width: 0;}#sk-container-id-1 div.sk-dashed-wrapped {border: 1px dashed gray;margin: 0 0.4em 0.5em 0.4em;box-sizing: border-box;padding-bottom: 0.4em;background-color: white;}#sk-container-id-1 div.sk-label label {font-family: monospace;font-weight: bold;display: inline-block;line-height: 1.2em;}#sk-container-id-1 div.sk-label-container {text-align: center;}#sk-container-id-1 div.sk-container {/* jupyter's `normalize.less` sets `[hidden] { display: none; }` but bootstrap.min.css set `[hidden] { display: none !important; }` so we also need the `!important` here to be able to override the default hidden behavior on the sphinx rendered scikit-learn.org. See: https://github.com/scikit-learn/scikit-learn/issues/21755 */display: inline-block !important;position: relative;}#sk-container-id-1 div.sk-text-repr-fallback {display: none;}</style><div id=\"sk-container-id-1\" class=\"sk-top-container\"><div class=\"sk-text-repr-fallback\"><pre>MLPClassifier(random_state=1234)</pre><b>In a Jupyter environment, please rerun this cell to show the HTML representation or trust the notebook. <br />On GitHub, the HTML representation is unable to render, please try loading this page with nbviewer.org.</b></div><div class=\"sk-container\" hidden><div class=\"sk-item\"><div class=\"sk-estimator sk-toggleable\"><input class=\"sk-toggleable__control sk-hidden--visually\" id=\"sk-estimator-id-1\" type=\"checkbox\" checked><label for=\"sk-estimator-id-1\" class=\"sk-toggleable__label sk-toggleable__label-arrow\">MLPClassifier</label><div class=\"sk-toggleable__content\"><pre>MLPClassifier(random_state=1234)</pre></div></div></div></div></div>"
      ],
      "text/plain": [
       "MLPClassifier(random_state=1234)"
      ]
     },
     "execution_count": 7,
     "metadata": {},
     "output_type": "execute_result"
    }
   ],
   "source": [
    "# - 현재 생성된 SVC모델의 옵션 확인\n",
    "nn_uncustomized"
   ]
  },
  {
   "cell_type": "code",
   "execution_count": 8,
   "metadata": {
    "id": "zWtTgXexUjQ-"
   },
   "outputs": [
    {
     "name": "stderr",
     "output_type": "stream",
     "text": [
      "c:\\dev\\Python310\\lib\\site-packages\\sklearn\\neural_network\\_multilayer_perceptron.py:702: ConvergenceWarning: Stochastic Optimizer: Maximum iterations (200) reached and the optimization hasn't converged yet.\n",
      "  warnings.warn(\n",
      "c:\\dev\\Python310\\lib\\site-packages\\sklearn\\neural_network\\_multilayer_perceptron.py:702: ConvergenceWarning: Stochastic Optimizer: Maximum iterations (200) reached and the optimization hasn't converged yet.\n",
      "  warnings.warn(\n",
      "c:\\dev\\Python310\\lib\\site-packages\\sklearn\\neural_network\\_multilayer_perceptron.py:702: ConvergenceWarning: Stochastic Optimizer: Maximum iterations (200) reached and the optimization hasn't converged yet.\n",
      "  warnings.warn(\n",
      "c:\\dev\\Python310\\lib\\site-packages\\sklearn\\neural_network\\_multilayer_perceptron.py:702: ConvergenceWarning: Stochastic Optimizer: Maximum iterations (200) reached and the optimization hasn't converged yet.\n",
      "  warnings.warn(\n"
     ]
    },
    {
     "data": {
      "text/html": [
       "<div>\n",
       "<style scoped>\n",
       "    .dataframe tbody tr th:only-of-type {\n",
       "        vertical-align: middle;\n",
       "    }\n",
       "\n",
       "    .dataframe tbody tr th {\n",
       "        vertical-align: top;\n",
       "    }\n",
       "\n",
       "    .dataframe thead th {\n",
       "        text-align: right;\n",
       "    }\n",
       "</style>\n",
       "<table border=\"1\" class=\"dataframe\">\n",
       "  <thead>\n",
       "    <tr style=\"text-align: right;\">\n",
       "      <th></th>\n",
       "      <th>n_estimators</th>\n",
       "      <th>TrainScore</th>\n",
       "      <th>TestScore</th>\n",
       "    </tr>\n",
       "  </thead>\n",
       "  <tbody>\n",
       "    <tr>\n",
       "      <th>0</th>\n",
       "      <td>20</td>\n",
       "      <td>0.998</td>\n",
       "      <td>0.964</td>\n",
       "    </tr>\n",
       "    <tr>\n",
       "      <th>1</th>\n",
       "      <td>40</td>\n",
       "      <td>0.968</td>\n",
       "      <td>0.932</td>\n",
       "    </tr>\n",
       "    <tr>\n",
       "      <th>2</th>\n",
       "      <td>60</td>\n",
       "      <td>0.983</td>\n",
       "      <td>0.932</td>\n",
       "    </tr>\n",
       "    <tr>\n",
       "      <th>3</th>\n",
       "      <td>80</td>\n",
       "      <td>1.000</td>\n",
       "      <td>0.950</td>\n",
       "    </tr>\n",
       "    <tr>\n",
       "      <th>4</th>\n",
       "      <td>100</td>\n",
       "      <td>1.000</td>\n",
       "      <td>0.943</td>\n",
       "    </tr>\n",
       "    <tr>\n",
       "      <th>5</th>\n",
       "      <td>120</td>\n",
       "      <td>0.983</td>\n",
       "      <td>0.928</td>\n",
       "    </tr>\n",
       "    <tr>\n",
       "      <th>6</th>\n",
       "      <td>140</td>\n",
       "      <td>0.828</td>\n",
       "      <td>0.857</td>\n",
       "    </tr>\n",
       "    <tr>\n",
       "      <th>7</th>\n",
       "      <td>160</td>\n",
       "      <td>0.879</td>\n",
       "      <td>0.875</td>\n",
       "    </tr>\n",
       "  </tbody>\n",
       "</table>\n",
       "</div>"
      ],
      "text/plain": [
       "   n_estimators  TrainScore  TestScore\n",
       "0            20       0.998      0.964\n",
       "1            40       0.968      0.932\n",
       "2            60       0.983      0.932\n",
       "3            80       1.000      0.950\n",
       "4           100       1.000      0.943\n",
       "5           120       0.983      0.928\n",
       "6           140       0.828      0.857\n",
       "7           160       0.879      0.875"
      ]
     },
     "execution_count": 8,
     "metadata": {},
     "output_type": "execute_result"
    }
   ],
   "source": [
    "# test 및 정확도 결과 저장용\n",
    "train_accuracy = []\n",
    "test_accuracy = []\n",
    "\n",
    "# hidden_layer_sizes: 은닉층 변경(20, 40, 60, 80, 100, 120, 140, 160)\n",
    "para_hidden = [20*hidden for hidden in range(1,9)]\n",
    "\n",
    "for v_hidden in para_hidden:\n",
    "    nn = MLPClassifier(hidden_layer_sizes=v_hidden, random_state=1234) # 1D (20,), (40,)...\n",
    "    # nn = MLPClassifier(hidden_layer_sizes=(v_hidden, v_hidden), random_state=1234) # 2D (20,20), (40,40)...\n",
    "    nn.fit(df_train_x, df_train_y)\n",
    "    train_accuracy.append(nn.score(df_train_x,df_train_y))\n",
    "    test_accuracy.append(nn.score(df_test_x,df_test_y))\n",
    "# 데이터 테이블로 저장\n",
    "df_accuracy_hidden = pd.DataFrame()\n",
    "df_accuracy_hidden['n_estimators'] = para_hidden\n",
    "df_accuracy_hidden['TrainScore'] = train_accuracy\n",
    "df_accuracy_hidden['TestScore'] = test_accuracy\n",
    "# 은닉층별 정확도 테이블\n",
    "df_accuracy_hidden.round(3)"
   ]
  },
  {
   "cell_type": "code",
   "execution_count": 9,
   "metadata": {},
   "outputs": [
    {
     "data": {
      "image/png": "[encoded data removed]",
      "text/plain": [
       "<Figure size 432x288 with 1 Axes>"
      ]
     },
     "metadata": {
      "needs_background": "light"
     },
     "output_type": "display_data"
    }
   ],
   "source": [
    "# 모델 정확도별 그래프 확인\n",
    "plt.plot(para_hidden, train_accuracy, linestyle='-', label='Train Accuracy')\n",
    "plt.plot(para_hidden, test_accuracy, linestyle='--', label='Test Accuracy')\n",
    "plt.ylabel('accuracy')\n",
    "plt.xlabel('Hidden Layer')\n",
    "plt.legend();"
   ]
  },
  {
   "cell_type": "code",
   "execution_count": 10,
   "metadata": {},
   "outputs": [
    {
     "name": "stderr",
     "output_type": "stream",
     "text": [
      "c:\\dev\\Python310\\lib\\site-packages\\sklearn\\neural_network\\_multilayer_perceptron.py:702: ConvergenceWarning: Stochastic Optimizer: Maximum iterations (200) reached and the optimization hasn't converged yet.\n",
      "  warnings.warn(\n",
      "c:\\dev\\Python310\\lib\\site-packages\\sklearn\\neural_network\\_multilayer_perceptron.py:702: ConvergenceWarning: Stochastic Optimizer: Maximum iterations (200) reached and the optimization hasn't converged yet.\n",
      "  warnings.warn(\n"
     ]
    },
    {
     "data": {
      "text/html": [
       "<div>\n",
       "<style scoped>\n",
       "    .dataframe tbody tr th:only-of-type {\n",
       "        vertical-align: middle;\n",
       "    }\n",
       "\n",
       "    .dataframe tbody tr th {\n",
       "        vertical-align: top;\n",
       "    }\n",
       "\n",
       "    .dataframe thead th {\n",
       "        text-align: right;\n",
       "    }\n",
       "</style>\n",
       "<table border=\"1\" class=\"dataframe\">\n",
       "  <thead>\n",
       "    <tr style=\"text-align: right;\">\n",
       "      <th></th>\n",
       "      <th>n_estimators</th>\n",
       "      <th>TrainScore</th>\n",
       "      <th>TestScore</th>\n",
       "    </tr>\n",
       "  </thead>\n",
       "  <tbody>\n",
       "    <tr>\n",
       "      <th>0</th>\n",
       "      <td>logistic</td>\n",
       "      <td>0.994</td>\n",
       "      <td>0.961</td>\n",
       "    </tr>\n",
       "    <tr>\n",
       "      <th>1</th>\n",
       "      <td>tanh</td>\n",
       "      <td>0.825</td>\n",
       "      <td>0.839</td>\n",
       "    </tr>\n",
       "    <tr>\n",
       "      <th>2</th>\n",
       "      <td>relu</td>\n",
       "      <td>1.000</td>\n",
       "      <td>0.943</td>\n",
       "    </tr>\n",
       "  </tbody>\n",
       "</table>\n",
       "</div>"
      ],
      "text/plain": [
       "  n_estimators  TrainScore  TestScore\n",
       "0     logistic       0.994      0.961\n",
       "1         tanh       0.825      0.839\n",
       "2         relu       1.000      0.943"
      ]
     },
     "execution_count": 10,
     "metadata": {},
     "output_type": "execute_result"
    }
   ],
   "source": [
    "# test 및 정확도 결과 저장용\n",
    "train_accuracy = []\n",
    "test_accuracy = []\n",
    "\n",
    "# activation 변경\n",
    "para_function = ['logistic', 'tanh', 'relu']\n",
    "\n",
    "for v_function in para_function:\n",
    "    nn = MLPClassifier(activation=v_function, random_state=1234) \n",
    "    nn.fit(df_train_x, df_train_y)\n",
    "    train_accuracy.append(nn.score(df_train_x,df_train_y))\n",
    "    test_accuracy.append(nn.score(df_test_x,df_test_y))\n",
    "# 데이터 테이블로 저장\n",
    "df_accuracy_function = pd.DataFrame()\n",
    "df_accuracy_function['n_estimators'] = para_function\n",
    "df_accuracy_function['TrainScore'] = train_accuracy\n",
    "df_accuracy_function['TestScore'] = test_accuracy\n",
    "# Activation별 정확도 테이블\n",
    "df_accuracy_function.round(3)"
   ]
  },
  {
   "cell_type": "code",
   "execution_count": 11,
   "metadata": {
    "scrolled": true
   },
   "outputs": [
    {
     "data": {
      "image/png": "[encoded data removed]",
      "text/plain": [
       "<Figure size 432x288 with 1 Axes>"
      ]
     },
     "metadata": {
      "needs_background": "light"
     },
     "output_type": "display_data"
    }
   ],
   "source": [
    "# 모델 정확도별 그래프 확인\n",
    "plt.plot(para_function, train_accuracy, linestyle='-', label='Train Accuracy')\n",
    "plt.plot(para_function, test_accuracy, linestyle='--', label='Test Accuracy')\n",
    "plt.ylabel('accuracy')\n",
    "plt.xlabel('Hidden Layer')\n",
    "plt.legend();"
   ]
  },
  {
   "cell_type": "code",
   "execution_count": 12,
   "metadata": {
    "colab": {
     "base_uri": "https://localhost:8080/",
     "height": 248
    },
    "executionInfo": {
     "elapsed": 11,
     "status": "error",
     "timestamp": 1660228913028,
     "user": {
      "displayName": "이무동",
      "userId": "09336959279408915009"
     },
     "user_tz": -540
    },
    "id": "U8jUhoSkQwsR",
    "outputId": "744fca0e-a2af-4433-9d27-0f83bfaff853"
   },
   "outputs": [
    {
     "name": "stdout",
     "output_type": "stream",
     "text": [
      "train data X size : (651, 964)\n",
      "tets data X size : (651, 964)\n"
     ]
    }
   ],
   "source": [
    "#변수명 저장\n",
    "v_feature_name = df_train_x.columns\n",
    "#StandardScaler 적용\n",
    "scaler = StandardScaler()\n",
    "df_scaled = scaler.fit_transform(df_raw_x)\n",
    "df_scaled = pd.DataFrame(df_scaled, columns=v_feature_name)\n",
    "df_scaled.head()\n",
    "\n",
    "#데이터 분할\n",
    "df_scaled_train_x, df_scaled_test_x = train_test_split(df_scaled ,test_size = 0.3, random_state = 1234)\n",
    "print(\"train data X size : {}\".format(df_scaled_train_x.shape))\n",
    "print(\"tets data X size : {}\".format(df_scaled_train_x.shape))"
   ]
  },
  {
   "cell_type": "code",
   "execution_count": 13,
   "metadata": {
    "executionInfo": {
     "elapsed": 6,
     "status": "aborted",
     "timestamp": 1660228913024,
     "user": {
      "displayName": "이무동",
      "userId": "09336959279408915009"
     },
     "user_tz": -540
    },
    "id": "ceSz6qIESXBI"
   },
   "outputs": [
    {
     "name": "stdout",
     "output_type": "stream",
     "text": [
      "Accuracy on training set: 1.000\n",
      "Accuracy on test set: 0.405\n"
     ]
    }
   ],
   "source": [
    "nn_scaled = MLPClassifier(random_state=1234)\n",
    "nn_scaled.fit(df_scaled_train_x, df_train_y)\n",
    "# train 데이터 셋 정확도\n",
    "print(\"Accuracy on training set: {:.3f}\".format(nn_scaled.score(df_scaled_train_x, df_train_y)))\n",
    "# test 데이터 셋 정확도\n",
    "print(\"Accuracy on test set: {:.3f}\".format(nn_scaled.score(df_scaled_test_x, df_test_y)))"
   ]
  },
  {
   "cell_type": "code",
   "execution_count": 14,
   "metadata": {
    "executionInfo": {
     "elapsed": 6,
     "status": "aborted",
     "timestamp": 1660228913025,
     "user": {
      "displayName": "이무동",
      "userId": "09336959279408915009"
     },
     "user_tz": -540
    },
    "id": "_ioCgJZ0TKKT"
   },
   "outputs": [],
   "source": [
    "#train 및 test 정확도 결과 저장용\n",
    "train_accuracy = []; test_accuracy=[]\n",
    "#hidden_layer_sizes : 은닉층 변경 (20~240, by 30)\n",
    "para_hidden = [20*hidden for hidden in range(1, 11)]\n",
    "\n",
    "for v_hidden in para_hidden:\n",
    "# nn = MLPClassifier(hidden_layer_sizes = v_hidden, random_state = 1234)\n",
    "  nn = MLPClassifier(hidden_layer_sizes = (v_hidden, v_hidden), random_state = 1234)\n",
    "  nn.fit(df_scaled_train_x, df_train_y)\n",
    "  train_accuracy.append(nn.score(df_scaled_train_x, df_train_y))\n",
    "  test_accuracy.append(nn.score(df_scaled_test_x, df_test_y))\n",
    "\n",
    "#데이터 테이블로 저장\n",
    "df_accuracy_hidden = pd.DataFrame()\n",
    "df_accuracy_hidden[\"HiddenLayer\"] = para_hidden\n",
    "df_accuracy_hidden[\"TrainAccuracy\"] = train_accuracy\n",
    "df_accuracy_hidden[\"TestAccuracy\"] = test_accuracy"
   ]
  },
  {
   "cell_type": "code",
   "execution_count": 15,
   "metadata": {
    "executionInfo": {
     "elapsed": 7,
     "status": "aborted",
     "timestamp": 1660228913026,
     "user": {
      "displayName": "이무동",
      "userId": "09336959279408915009"
     },
     "user_tz": -540
    },
    "id": "uyYHmf69VBbS"
   },
   "outputs": [
    {
     "data": {
      "text/plain": [
       "<matplotlib.legend.Legend at 0x2969c78a710>"
      ]
     },
     "execution_count": 15,
     "metadata": {},
     "output_type": "execute_result"
    },
    {
     "data": {
      "image/png": "[encoded data removed]",
      "text/plain": [
       "<Figure size 432x288 with 1 Axes>"
      ]
     },
     "metadata": {
      "needs_background": "light"
     },
     "output_type": "display_data"
    }
   ],
   "source": [
    "#은닉층별 정확도 테이블\n",
    "df_accuracy_hidden.round(3)\n",
    "#모델 정확도 그래프 확인\n",
    "plt.plot(para_hidden, train_accuracy, linestyle = \"-\", label = \"Train Accuracy\")\n",
    "plt.plot(para_hidden, test_accuracy, linestyle = \"--\", label = \"Test Accuracy\")\n",
    "plt.xlabel(\"accuracy\");plt.ylabel(\"Hidden Layer\")\n",
    "plt.legend()"
   ]
  },
  {
   "cell_type": "code",
   "execution_count": 16,
   "metadata": {
    "id": "4HWtUD2kXD5R"
   },
   "outputs": [],
   "source": [
    "#은닉층 지정(임의)\n",
    "hidden_layer_sizes = 80"
   ]
  },
  {
   "cell_type": "code",
   "execution_count": 17,
   "metadata": {},
   "outputs": [],
   "source": [
    "# Train 및 Test 정확도 결과 저장용\n",
    "train_accuracy = []; test_accuracy = []\n",
    "# activation 변경\n",
    "para_function = ['logistic', 'tanh', 'relu']\n",
    "\n",
    "for v_function in para_function:\n",
    "    nn = MLPClassifier(activation = v_function, hidden_layer_sizes = (80, 80), random_state = 1234)\n",
    "    nn.fit(df_scaled_train_x, df_train_y)\n",
    "    train_accuracy.append(nn.score(df_scaled_train_x, df_train_y))\n",
    "    test_accuracy.append(nn.score(df_scaled_test_x, df_test_y))\n",
    "    \n",
    "# 데이터 테이블로 저장\n",
    "df_accuracy_function = pd.DataFrame()\n",
    "df_accuracy_function['ActivationFunction'] = para_function\n",
    "df_accuracy_function['TrainAccuracy'] = train_accuracy\n",
    "df_accuracy_function['TestAccuracy'] = test_accuracy"
   ]
  },
  {
   "cell_type": "code",
   "execution_count": 18,
   "metadata": {},
   "outputs": [
    {
     "data": {
      "text/html": [
       "<div>\n",
       "<style scoped>\n",
       "    .dataframe tbody tr th:only-of-type {\n",
       "        vertical-align: middle;\n",
       "    }\n",
       "\n",
       "    .dataframe tbody tr th {\n",
       "        vertical-align: top;\n",
       "    }\n",
       "\n",
       "    .dataframe thead th {\n",
       "        text-align: right;\n",
       "    }\n",
       "</style>\n",
       "<table border=\"1\" class=\"dataframe\">\n",
       "  <thead>\n",
       "    <tr style=\"text-align: right;\">\n",
       "      <th></th>\n",
       "      <th>ActivationFunction</th>\n",
       "      <th>TrainAccuracy</th>\n",
       "      <th>TestAccuracy</th>\n",
       "    </tr>\n",
       "  </thead>\n",
       "  <tbody>\n",
       "    <tr>\n",
       "      <th>0</th>\n",
       "      <td>logistic</td>\n",
       "      <td>1.0</td>\n",
       "      <td>0.620</td>\n",
       "    </tr>\n",
       "    <tr>\n",
       "      <th>1</th>\n",
       "      <td>tanh</td>\n",
       "      <td>1.0</td>\n",
       "      <td>0.197</td>\n",
       "    </tr>\n",
       "    <tr>\n",
       "      <th>2</th>\n",
       "      <td>relu</td>\n",
       "      <td>1.0</td>\n",
       "      <td>0.781</td>\n",
       "    </tr>\n",
       "  </tbody>\n",
       "</table>\n",
       "</div>"
      ],
      "text/plain": [
       "  ActivationFunction  TrainAccuracy  TestAccuracy\n",
       "0           logistic            1.0         0.620\n",
       "1               tanh            1.0         0.197\n",
       "2               relu            1.0         0.781"
      ]
     },
     "execution_count": 18,
     "metadata": {},
     "output_type": "execute_result"
    }
   ],
   "source": [
    "# Activation Function별 정확도 테이블\n",
    "df_accuracy_function.round(3)"
   ]
  },
  {
   "cell_type": "code",
   "execution_count": 19,
   "metadata": {},
   "outputs": [
    {
     "data": {
      "text/plain": [
       "<matplotlib.legend.Legend at 0x296a096a920>"
      ]
     },
     "execution_count": 19,
     "metadata": {},
     "output_type": "execute_result"
    },
    {
     "data": {
      "image/png": "[encoded data removed]",
      "text/plain": [
       "<Figure size 432x288 with 1 Axes>"
      ]
     },
     "metadata": {
      "needs_background": "light"
     },
     "output_type": "display_data"
    }
   ],
   "source": [
    "# Activation Function별 정확도 그래프로 확인\n",
    "plt.plot(para_function, train_accuracy, linestyle='-', label = 'Train Accuracy')\n",
    "plt.plot(para_function, test_accuracy, linestyle='--', label = 'Test Accuracy')\n",
    "plt.ylabel('accuracy') ; plt.xlabel('Activation Function')\n",
    "plt.legend()"
   ]
  },
  {
   "cell_type": "code",
   "execution_count": 20,
   "metadata": {},
   "outputs": [],
   "source": [
    "# Activation Function 지정(임의)\n",
    "activation = 'relu'"
   ]
  },
  {
   "cell_type": "code",
   "execution_count": 21,
   "metadata": {},
   "outputs": [
    {
     "name": "stderr",
     "output_type": "stream",
     "text": [
      "c:\\dev\\Python310\\lib\\site-packages\\sklearn\\neural_network\\_multilayer_perceptron.py:702: ConvergenceWarning: Stochastic Optimizer: Maximum iterations (200) reached and the optimization hasn't converged yet.\n",
      "  warnings.warn(\n"
     ]
    }
   ],
   "source": [
    "# train 및 test 정확도 결과 저장용\n",
    "train_accuracy = [] ; test_accuracy = []\n",
    "# solver 변경\n",
    "para_solver = ['lbfgs', 'sgd', 'adam']\n",
    "\n",
    "for v_solver in para_solver:\n",
    "    nn=MLPClassifier(solver=v_solver, activation = 'relu', hidden_layer_sizes = (80, 80), random_state = 1234)\n",
    "    nn.fit(df_scaled_train_x, df_train_y)\n",
    "    train_accuracy.append(nn.score(df_scaled_train_x, df_train_y))\n",
    "    test_accuracy.append(nn.score(df_scaled_test_x, df_test_y))\n",
    "    \n",
    "# 데이터 테이블로 저장\n",
    "df_accuracy_solver = pd.DataFrame()\n",
    "df_accuracy_solver['Solver'] = para_solver\n",
    "df_accuracy_solver['TrainAccuracy'] = train_accuracy\n",
    "df_accuracy_solver['TestAccuracy'] = test_accuracy"
   ]
  },
  {
   "cell_type": "code",
   "execution_count": 22,
   "metadata": {},
   "outputs": [
    {
     "data": {
      "text/html": [
       "<div>\n",
       "<style scoped>\n",
       "    .dataframe tbody tr th:only-of-type {\n",
       "        vertical-align: middle;\n",
       "    }\n",
       "\n",
       "    .dataframe tbody tr th {\n",
       "        vertical-align: top;\n",
       "    }\n",
       "\n",
       "    .dataframe thead th {\n",
       "        text-align: right;\n",
       "    }\n",
       "</style>\n",
       "<table border=\"1\" class=\"dataframe\">\n",
       "  <thead>\n",
       "    <tr style=\"text-align: right;\">\n",
       "      <th></th>\n",
       "      <th>Solver</th>\n",
       "      <th>TrainAccuracy</th>\n",
       "      <th>TestAccuracy</th>\n",
       "    </tr>\n",
       "  </thead>\n",
       "  <tbody>\n",
       "    <tr>\n",
       "      <th>0</th>\n",
       "      <td>lbfgs</td>\n",
       "      <td>1.0</td>\n",
       "      <td>0.943</td>\n",
       "    </tr>\n",
       "    <tr>\n",
       "      <th>1</th>\n",
       "      <td>sgd</td>\n",
       "      <td>1.0</td>\n",
       "      <td>0.885</td>\n",
       "    </tr>\n",
       "    <tr>\n",
       "      <th>2</th>\n",
       "      <td>adam</td>\n",
       "      <td>1.0</td>\n",
       "      <td>0.781</td>\n",
       "    </tr>\n",
       "  </tbody>\n",
       "</table>\n",
       "</div>"
      ],
      "text/plain": [
       "  Solver  TrainAccuracy  TestAccuracy\n",
       "0  lbfgs            1.0         0.943\n",
       "1    sgd            1.0         0.885\n",
       "2   adam            1.0         0.781"
      ]
     },
     "execution_count": 22,
     "metadata": {},
     "output_type": "execute_result"
    }
   ],
   "source": [
    "# Solver별 정확도 테이블\n",
    "df_accuracy_solver.round(3)"
   ]
  },
  {
   "cell_type": "code",
   "execution_count": 23,
   "metadata": {},
   "outputs": [
    {
     "data": {
      "text/plain": [
       "<matplotlib.legend.Legend at 0x2969c754160>"
      ]
     },
     "execution_count": 23,
     "metadata": {},
     "output_type": "execute_result"
    },
    {
     "data": {
      "image/png": "[encoded data removed]",
      "text/plain": [
       "<Figure size 432x288 with 1 Axes>"
      ]
     },
     "metadata": {
      "needs_background": "light"
     },
     "output_type": "display_data"
    }
   ],
   "source": [
    "# 정확도 그래프 표현\n",
    "plt.plot(para_solver, train_accuracy, linestyle='-', label = 'Train Accuracy')\n",
    "plt.plot(para_solver, test_accuracy, linestyle='--', label = 'Test Accuracy')\n",
    "plt.ylabel('accuracy') ; plt.xlabel('Solver')\n",
    "plt.legend()"
   ]
  },
  {
   "cell_type": "code",
   "execution_count": 24,
   "metadata": {},
   "outputs": [],
   "source": [
    "# Solver 지정(임의)\n",
    "solver = 'adam'"
   ]
  },
  {
   "cell_type": "code",
   "execution_count": 25,
   "metadata": {},
   "outputs": [],
   "source": [
    "# train 및 test 정확도 결과 저장용\n",
    "train_accuracy = []; test_accuracy = []\n",
    "# Mini Batch 변경 :\n",
    "para_batch = [20 * batch for batch in range(1,10)]\n",
    "\n",
    "for v_batch in para_batch:\n",
    "    nn = MLPClassifier(batch_size = v_batch, solver = \"adam\", activation = \"relu\",\n",
    "                      hidden_layer_sizes = (80,80), random_state = 1234)\n",
    "    nn.fit(df_scaled_train_x, df_train_y)\n",
    "    train_accuracy.append(nn.score(df_scaled_train_x, df_train_y))\n",
    "    test_accuracy.append(nn.score(df_scaled_test_x, df_test_y))\n",
    "    \n",
    "# 데이터 테이블로 저장\n",
    "df_accuracy_batch = pd.DataFrame()\n",
    "df_accuracy_batch[\"Mini Batch\"] = para_batch\n",
    "df_accuracy_batch[\"TrainAccuracy\"] = train_accuracy\n",
    "df_accuracy_batch[\"TestAccuracy\"] = test_accuracy"
   ]
  },
  {
   "cell_type": "code",
   "execution_count": 26,
   "metadata": {},
   "outputs": [
    {
     "data": {
      "text/plain": [
       "<matplotlib.legend.Legend at 0x296a0980550>"
      ]
     },
     "execution_count": 26,
     "metadata": {},
     "output_type": "execute_result"
    },
    {
     "data": {
      "image/png": "[encoded data removed]",
      "text/plain": [
       "<Figure size 432x288 with 1 Axes>"
      ]
     },
     "metadata": {
      "needs_background": "light"
     },
     "output_type": "display_data"
    }
   ],
   "source": [
    "# Mini Batch Size별 정확도 테이블\n",
    "df_accuracy_batch.round(3)\n",
    "\n",
    "# 정확도 그래프 표현\n",
    "plt.plot(para_batch, train_accuracy, linestyle = \"-\", label = \"Train Accuracy\")\n",
    "plt.plot(para_batch, test_accuracy, linestyle = \"--\", label =\"Test Accuracy\")\n",
    "plt.ylabel(\"accuracy\"); plt.xlabel(\"Mini Batch Size\")\n",
    "plt.legend()"
   ]
  },
  {
   "cell_type": "code",
   "execution_count": 38,
   "metadata": {},
   "outputs": [
    {
     "name": "stdout",
     "output_type": "stream",
     "text": [
      "Accuracy on training set: 1.000\n",
      "Accuracy on test set: 0.939\n",
      "\n",
      "Confusion matrix: \n",
      "[[ 37   7]\n",
      " [ 10 225]]\n",
      "              precision    recall  f1-score   support\n",
      "\n",
      "           0      0.787     0.841     0.813        44\n",
      "           1      0.970     0.957     0.964       235\n",
      "\n",
      "    accuracy                          0.939       279\n",
      "   macro avg      0.879     0.899     0.888       279\n",
      "weighted avg      0.941     0.939     0.940       279\n",
      "\n"
     ]
    }
   ],
   "source": [
    "# 최종 모델\n",
    "nn_final = MLPClassifier(hidden_layer_sizes = (110,110), activation = \"relu\", solver = \"adam\",\n",
    "                        batch_size =10, random_state = 1234)\n",
    "nn_final.fit(df_scaled_train_x, df_train_y)\n",
    "y_pred = nn_final.predict(df_scaled_test_x)\n",
    "\n",
    "# train 데이터 셋 정확도\n",
    "print(\"Accuracy on training set: {:.3f}\".format(nn_final.score(df_scaled_train_x, df_train_y)))\n",
    "\n",
    "# test 데이터 셋 정확도\n",
    "print(\"Accuracy on test set: {:.3f}\\n\".format(nn_final.score(df_scaled_test_x, df_test_y)))\n",
    "\n",
    "# confusion matrix\n",
    "print(\"Confusion matrix: \\n{}\". format(confusion_matrix(df_test_y,y_pred)))\n",
    "\n",
    "# 목표변수의 빈도 불균형 : f1 score로 모델 평가\n",
    "print(classification_report(df_test_y, y_pred, digits = 3))"
   ]
  }
 ],
 "metadata": {
  "colab": {
   "authorship_tag": "ABX9TyM8quz+C0dO8zlyUmYRUJXM",
   "collapsed_sections": [],
   "name": "인공신경망 코드 1_우철.ipynb",
   "provenance": []
  },
  "kernelspec": {
   "display_name": "Python 3.10.5 64-bit",
   "language": "python",
   "name": "python3"
  },
  "language_info": {
   "codemirror_mode": {
    "name": "ipython",
    "version": 3
   },
   "file_extension": ".py",
   "mimetype": "text/x-python",
   "name": "python",
   "nbconvert_exporter": "python",
   "pygments_lexer": "ipython3",
   "version": "3.10.5"
  },
  "vscode": {
   "interpreter": {
    "hash": "e2ab4699a82da9ada95853d3c0abb8d0fd7cf10101d98483eced78fe436a9538"
   }
  }
 },
 "nbformat": 4,
 "nbformat_minor": 1
}
