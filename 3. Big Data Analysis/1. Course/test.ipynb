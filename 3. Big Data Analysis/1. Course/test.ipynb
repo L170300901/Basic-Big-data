{
 "cells": [
  {
   "cell_type": "code",
   "execution_count": 2,
   "metadata": {},
   "outputs": [],
   "source": [
    "df_raw_x = df_raw_dummy.drop('BAD', axis = 1, inplace = False)\n",
    "df_raw_y = df_raw_dummy['BAD']\n",
    "\n",
    "# 데이터 분할 train_test_split\n",
    "df_train_x, df_test_x, df_train_y, df_test_y = train_test_split(df_raw_x, df_raw_y, test_size = 0.3, random_state = 1234)\n",
    "\n",
    "print(\"train data X size : {}\".format(df_train_x.shape)) \n",
    "print(\"train data Y size : {}\".format(df_train_y.shape)) \n",
    "print(\"test data x size : {}\".format(df_test_x.shape)) \n",
    "print(\"test data Y size : {}\".format(df_test_y.shape))"
   ]
  },
  {
   "cell_type": "code",
   "execution_count": null,
   "metadata": {},
   "outputs": [],
   "source": [
    "#분석 모델 \n",
    "model = [\"DecisionTree\", \"RandomForest\", \"GradientBoosting\", \"NeuralNet\"] \n",
    "\n",
    "# 정확도 저장 \n",
    "train_accuracy = []; test_accuracy = [] \n",
    "# auc score 저장 \n",
    "model_auc = []\n",
    "# Precision, Recall score 저장 \n",
    "model_precision = []; model_recall = [] \n",
    "# f1 score 저장 \n",
    "model_f1_score = []"
   ]
  }
 ],
 "metadata": {
  "kernelspec": {
   "display_name": "test",
   "language": "python",
   "name": "conda"
  },
  "language_info": {
   "codemirror_mode": {
    "name": "ipython",
    "version": 3
   },
   "file_extension": ".py",
   "mimetype": "text/x-python",
   "name": "python",
   "nbconvert_exporter": "python",
   "pygments_lexer": "ipython3",
   "version": "3.9.12"
  },
  "orig_nbformat": 4,
  "vscode": {
   "interpreter": {
    "hash": "bcf133dd10046e8115637e1e9c9f5573549979c0784612046b79a45b13aa7b7e"
   }
  }
 },
 "nbformat": 4,
 "nbformat_minor": 2
}
